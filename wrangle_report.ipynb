{
 "cells": [
  {
   "cell_type": "markdown",
   "id": "ff580c9d",
   "metadata": {},
   "source": [
    "# Wrangle Report\n",
    "\n",
    "This report summarizes the data wrangling process for the WeRateDogs Twitter account. The process involved three main steps:\n",
    "\n",
    "## 1. Gathering Data\n",
    "The data was collected from three sources:\n",
    "- **Twitter Archive**: A CSV file containing tweets and metadata.\n",
    "- **Image Predictions**: A TSV file with predictions of dog breeds in tweet images.\n",
    "- **Twitter API Data**: Additional tweet data (e.g., retweet and favorite counts) extracted from a JSON file due to API limitations.\n",
    "\n",
    "## 2. Assessing Data\n",
    "The datasets were assessed for quality and tidiness issues:\n",
    "- **Quality Issues**:\n",
    "  - Missing values in columns like `name`.\n",
    "  - Invalid dog names (e.g., \"a\", \"the\").\n",
    "  - Out-of-range values in `rating_numerator`.\n",
    "  - Non-standard data types for `IDs` and `timestamps`.\n",
    "  - Rows in the image predictions dataset not classified as dogs.\n",
    "  - A row with an invalid prediction confidence ratio (`1`).\n",
    "- **Tidiness Issues**:\n",
    "  - Dog stages distributed across multiple columns (`doggo`, `floofer`, etc.).\n",
    "  - The `rating_denominator` column does not measure a variable.\n",
    "  - The three datasets needed merging for analysis.\n",
    "\n",
    "## 3. Cleaning Data\n",
    "The cleaning process addressed the identified issues using the **Define-Code-Test** framework:\n",
    "- **Quality Fixes**:\n",
    "  - Converted `IDs` and `timestamps` to appropriate data types.\n",
    "  - Removed retweets and replies to focus on original tweets.\n",
    "  - Replaced missing or invalid dog names with \"Unknown.\"\n",
    "  - Removed out-of-range `rating_numerator` values (set a max of 17).\n",
    "  - Filtered out rows not classified as dogs and the invalid prediction confidence ratio.\n",
    "- **Tidiness Fixes**:\n",
    "  - Merged dog stages into a single column.\n",
    "  - Dropped the `rating_denominator` column as it was redundant.\n",
    "  - Combined the three datasets into one for easier analysis.\n",
    "\n",
    "## Dimensionality Reduction\n",
    "Unnecessary columns (e.g., `source`, `expanded_urls`, and unused prediction columns) were dropped to streamline the dataset.\n",
    "\n",
    "## Storing Data\n",
    "The cleaned dataset was saved as `twitter_archive_master.csv` for future analysis and visualization. It contains all necessary information about the WeRateDogs Twitter account and its tweets."
   ]
  }
 ],
 "metadata": {
  "language_info": {
   "name": "python"
  }
 },
 "nbformat": 4,
 "nbformat_minor": 5
}
