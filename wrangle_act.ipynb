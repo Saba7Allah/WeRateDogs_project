{
 "cells": [
  {
   "cell_type": "code",
   "execution_count": 1,
   "id": "4e02969e",
   "metadata": {},
   "outputs": [],
   "source": [
    "import numpy as np\n",
    "import pandas as pd\n",
    "import requests\n",
    "import json\n",
    "import matplotlib.pyplot as plt\n",
    "%matplotlib inline\n",
    "import seaborn as sns\n"
   ]
  },
  {
   "cell_type": "markdown",
   "id": "c9c2785c",
   "metadata": {},
   "source": [
    "# WeRateDogs! : A Data Wrangling Project\n",
    "This project focuses primarily on the **data wrangling process**, which includes the following steps: **gathering, assessing, and cleaning**. Additionally, an **Exploratory Data Analysis (EDA)** section is included to better understand the data.\n",
    "\n",
    "The data used in this project was gathered from multiple sources, including:\n",
    "- A CSV file\n",
    "- A file containing multiple JSON records\n",
    "- A TSV file retrieved from the web\n",
    "\n",
    "The dataset centers around the [WeRateDogs](https://twitter.com/dog_rates) Twitter account, which is popular for rating dogs (usually on a denominator of 10) and sharing their photos."
   ]
  },
  {
   "cell_type": "markdown",
   "id": "ba641f85",
   "metadata": {},
   "source": [
    "**Main Report Contents**\n",
    "- Data Wrangling Process: \n",
    "  - Gathering\n",
    "  - Assessment:\n",
    "    - Visual Assessment\n",
    "    - Programmatic Assessment\n",
    "    - Assessment report with specifying quality and tidiness issues\n",
    "  - Cleaning:\n",
    "    - Cleaning\n",
    "    - Storing Data\n",
    "    - Cleaning Report\n",
    "- EDA (Exploratory Data Analysis)\n",
    "- Conclusion"
   ]
  },
  {
   "cell_type": "markdown",
   "id": "381982c4",
   "metadata": {},
   "source": [
    "## Data Wrangling Process\n",
    "### Gathering Data"
   ]
  },
  {
   "cell_type": "markdown",
   "id": "ded3f34c",
   "metadata": {},
   "source": [
    "Getting the first dataset from the given `.csv` file for the twitter archive and store it in a DataFrame to start analyzing."
   ]
  },
  {
   "cell_type": "code",
   "execution_count": 2,
   "id": "d8186fe2",
   "metadata": {},
   "outputs": [
    {
     "data": {
      "application/vnd.microsoft.datawrangler.viewer.v0+json": {
       "columns": [
        {
         "name": "index",
         "rawType": "int64",
         "type": "integer"
        },
        {
         "name": "tweet_id",
         "rawType": "int64",
         "type": "integer"
        },
        {
         "name": "in_reply_to_status_id",
         "rawType": "float64",
         "type": "float"
        },
        {
         "name": "in_reply_to_user_id",
         "rawType": "float64",
         "type": "float"
        },
        {
         "name": "timestamp",
         "rawType": "object",
         "type": "string"
        },
        {
         "name": "source",
         "rawType": "object",
         "type": "string"
        },
        {
         "name": "text",
         "rawType": "object",
         "type": "string"
        },
        {
         "name": "retweeted_status_id",
         "rawType": "float64",
         "type": "float"
        },
        {
         "name": "retweeted_status_user_id",
         "rawType": "float64",
         "type": "float"
        },
        {
         "name": "retweeted_status_timestamp",
         "rawType": "object",
         "type": "unknown"
        },
        {
         "name": "expanded_urls",
         "rawType": "object",
         "type": "unknown"
        },
        {
         "name": "rating_numerator",
         "rawType": "int64",
         "type": "integer"
        },
        {
         "name": "rating_denominator",
         "rawType": "int64",
         "type": "integer"
        },
        {
         "name": "name",
         "rawType": "object",
         "type": "unknown"
        },
        {
         "name": "doggo",
         "rawType": "object",
         "type": "unknown"
        },
        {
         "name": "floofer",
         "rawType": "object",
         "type": "unknown"
        },
        {
         "name": "pupper",
         "rawType": "object",
         "type": "unknown"
        },
        {
         "name": "puppo",
         "rawType": "object",
         "type": "unknown"
        }
       ],
       "conversionMethod": "pd.DataFrame",
       "ref": "66f2b9f8-cc6f-482e-b139-27ba6ca9bd35",
       "rows": [
        [
         "0",
         "892420643555336193",
         null,
         null,
         "2017-08-01 16:23:56 +0000",
         "<a href=\"http://twitter.com/download/iphone\" rel=\"nofollow\">Twitter for iPhone</a>",
         "This is Phineas. He's a mystical boy. Only ever appears in the hole of a donut. 13/10 https://t.co/MgUWQ76dJU",
         null,
         null,
         null,
         "https://twitter.com/dog_rates/status/892420643555336193/photo/1",
         "13",
         "10",
         "Phineas",
         null,
         null,
         null,
         null
        ],
        [
         "1",
         "892177421306343426",
         null,
         null,
         "2017-08-01 00:17:27 +0000",
         "<a href=\"http://twitter.com/download/iphone\" rel=\"nofollow\">Twitter for iPhone</a>",
         "This is Tilly. She's just checking pup on you. Hopes you're doing ok. If not, she's available for pats, snugs, boops, the whole bit. 13/10 https://t.co/0Xxu71qeIV",
         null,
         null,
         null,
         "https://twitter.com/dog_rates/status/892177421306343426/photo/1",
         "13",
         "10",
         "Tilly",
         null,
         null,
         null,
         null
        ],
        [
         "2",
         "891815181378084864",
         null,
         null,
         "2017-07-31 00:18:03 +0000",
         "<a href=\"http://twitter.com/download/iphone\" rel=\"nofollow\">Twitter for iPhone</a>",
         "This is Archie. He is a rare Norwegian Pouncing Corgo. Lives in the tall grass. You never know when one may strike. 12/10 https://t.co/wUnZnhtVJB",
         null,
         null,
         null,
         "https://twitter.com/dog_rates/status/891815181378084864/photo/1",
         "12",
         "10",
         "Archie",
         null,
         null,
         null,
         null
        ],
        [
         "3",
         "891689557279858688",
         null,
         null,
         "2017-07-30 15:58:51 +0000",
         "<a href=\"http://twitter.com/download/iphone\" rel=\"nofollow\">Twitter for iPhone</a>",
         "This is Darla. She commenced a snooze mid meal. 13/10 happens to the best of us https://t.co/tD36da7qLQ",
         null,
         null,
         null,
         "https://twitter.com/dog_rates/status/891689557279858688/photo/1",
         "13",
         "10",
         "Darla",
         null,
         null,
         null,
         null
        ],
        [
         "4",
         "891327558926688256",
         null,
         null,
         "2017-07-29 16:00:24 +0000",
         "<a href=\"http://twitter.com/download/iphone\" rel=\"nofollow\">Twitter for iPhone</a>",
         "This is Franklin. He would like you to stop calling him \"cute.\" He is a very fierce shark and should be respected as such. 12/10 #BarkWeek https://t.co/AtUZn91f7f",
         null,
         null,
         null,
         "https://twitter.com/dog_rates/status/891327558926688256/photo/1,https://twitter.com/dog_rates/status/891327558926688256/photo/1",
         "12",
         "10",
         "Franklin",
         null,
         null,
         null,
         null
        ],
        [
         "5",
         "891087950875897856",
         null,
         null,
         "2017-07-29 00:08:17 +0000",
         "<a href=\"http://twitter.com/download/iphone\" rel=\"nofollow\">Twitter for iPhone</a>",
         "Here we have a majestic great white breaching off South Africa's coast. Absolutely h*ckin breathtaking. 13/10 (IG: tucker_marlo) #BarkWeek https://t.co/kQ04fDDRmh",
         null,
         null,
         null,
         "https://twitter.com/dog_rates/status/891087950875897856/photo/1",
         "13",
         "10",
         null,
         null,
         null,
         null,
         null
        ],
        [
         "6",
         "890971913173991426",
         null,
         null,
         "2017-07-28 16:27:12 +0000",
         "<a href=\"http://twitter.com/download/iphone\" rel=\"nofollow\">Twitter for iPhone</a>",
         "Meet Jax. He enjoys ice cream so much he gets nervous around it. 13/10 help Jax enjoy more things by clicking below\n\nhttps://t.co/Zr4hWfAs1H https://t.co/tVJBRMnhxl",
         null,
         null,
         null,
         "https://gofundme.com/ydvmve-surgery-for-jax,https://twitter.com/dog_rates/status/890971913173991426/photo/1",
         "13",
         "10",
         "Jax",
         null,
         null,
         null,
         null
        ],
        [
         "7",
         "890729181411237888",
         null,
         null,
         "2017-07-28 00:22:40 +0000",
         "<a href=\"http://twitter.com/download/iphone\" rel=\"nofollow\">Twitter for iPhone</a>",
         "When you watch your owner call another dog a good boy but then they turn back to you and say you're a great boy. 13/10 https://t.co/v0nONBcwxq",
         null,
         null,
         null,
         "https://twitter.com/dog_rates/status/890729181411237888/photo/1,https://twitter.com/dog_rates/status/890729181411237888/photo/1",
         "13",
         "10",
         null,
         null,
         null,
         null,
         null
        ],
        [
         "8",
         "890609185150312448",
         null,
         null,
         "2017-07-27 16:25:51 +0000",
         "<a href=\"http://twitter.com/download/iphone\" rel=\"nofollow\">Twitter for iPhone</a>",
         "This is Zoey. She doesn't want to be one of the scary sharks. Just wants to be a snuggly pettable boatpet. 13/10 #BarkWeek https://t.co/9TwLuAGH0b",
         null,
         null,
         null,
         "https://twitter.com/dog_rates/status/890609185150312448/photo/1",
         "13",
         "10",
         "Zoey",
         null,
         null,
         null,
         null
        ],
        [
         "9",
         "890240255349198849",
         null,
         null,
         "2017-07-26 15:59:51 +0000",
         "<a href=\"http://twitter.com/download/iphone\" rel=\"nofollow\">Twitter for iPhone</a>",
         "This is Cassie. She is a college pup. Studying international doggo communication and stick theory. 14/10 so elegant much sophisticate https://t.co/t1bfwz5S2A",
         null,
         null,
         null,
         "https://twitter.com/dog_rates/status/890240255349198849/photo/1",
         "14",
         "10",
         "Cassie",
         "doggo",
         null,
         null,
         null
        ],
        [
         "10",
         "890006608113172480",
         null,
         null,
         "2017-07-26 00:31:25 +0000",
         "<a href=\"http://twitter.com/download/iphone\" rel=\"nofollow\">Twitter for iPhone</a>",
         "This is Koda. He is a South Australian deckshark. Deceptively deadly. Frighteningly majestic. 13/10 would risk a petting #BarkWeek https://t.co/dVPW0B0Mme",
         null,
         null,
         null,
         "https://twitter.com/dog_rates/status/890006608113172480/photo/1,https://twitter.com/dog_rates/status/890006608113172480/photo/1",
         "13",
         "10",
         "Koda",
         null,
         null,
         null,
         null
        ],
        [
         "11",
         "889880896479866881",
         null,
         null,
         "2017-07-25 16:11:53 +0000",
         "<a href=\"http://twitter.com/download/iphone\" rel=\"nofollow\">Twitter for iPhone</a>",
         "This is Bruno. He is a service shark. Only gets out of the water to assist you. 13/10 terrifyingly good boy https://t.co/u1XPQMl29g",
         null,
         null,
         null,
         "https://twitter.com/dog_rates/status/889880896479866881/photo/1",
         "13",
         "10",
         "Bruno",
         null,
         null,
         null,
         null
        ],
        [
         "12",
         "889665388333682689",
         null,
         null,
         "2017-07-25 01:55:32 +0000",
         "<a href=\"http://twitter.com/download/iphone\" rel=\"nofollow\">Twitter for iPhone</a>",
         "Here's a puppo that seems to be on the fence about something haha no but seriously someone help her. 13/10 https://t.co/BxvuXk0UCm",
         null,
         null,
         null,
         "https://twitter.com/dog_rates/status/889665388333682689/photo/1",
         "13",
         "10",
         null,
         null,
         null,
         null,
         "puppo"
        ],
        [
         "13",
         "889638837579907072",
         null,
         null,
         "2017-07-25 00:10:02 +0000",
         "<a href=\"http://twitter.com/download/iphone\" rel=\"nofollow\">Twitter for iPhone</a>",
         "This is Ted. He does his best. Sometimes that's not enough. But it's ok. 12/10 would assist https://t.co/f8dEDcrKSR",
         null,
         null,
         null,
         "https://twitter.com/dog_rates/status/889638837579907072/photo/1,https://twitter.com/dog_rates/status/889638837579907072/photo/1",
         "12",
         "10",
         "Ted",
         null,
         null,
         null,
         null
        ],
        [
         "14",
         "889531135344209921",
         null,
         null,
         "2017-07-24 17:02:04 +0000",
         "<a href=\"http://twitter.com/download/iphone\" rel=\"nofollow\">Twitter for iPhone</a>",
         "This is Stuart. He's sporting his favorite fanny pack. Secretly filled with bones only. 13/10 puppared puppo #BarkWeek https://t.co/y70o6h3isq",
         null,
         null,
         null,
         "https://twitter.com/dog_rates/status/889531135344209921/photo/1",
         "13",
         "10",
         "Stuart",
         null,
         null,
         null,
         "puppo"
        ],
        [
         "15",
         "889278841981685760",
         null,
         null,
         "2017-07-24 00:19:32 +0000",
         "<a href=\"http://twitter.com/download/iphone\" rel=\"nofollow\">Twitter for iPhone</a>",
         "This is Oliver. You're witnessing one of his many brutal attacks. Seems to be playing with his victim. 13/10 fr*ckin frightening #BarkWeek https://t.co/WpHvrQedPb",
         null,
         null,
         null,
         "https://twitter.com/dog_rates/status/889278841981685760/video/1",
         "13",
         "10",
         "Oliver",
         null,
         null,
         null,
         null
        ],
        [
         "16",
         "888917238123831296",
         null,
         null,
         "2017-07-23 00:22:39 +0000",
         "<a href=\"http://twitter.com/download/iphone\" rel=\"nofollow\">Twitter for iPhone</a>",
         "This is Jim. He found a fren. Taught him how to sit like the good boys. 12/10 for both https://t.co/chxruIOUJN",
         null,
         null,
         null,
         "https://twitter.com/dog_rates/status/888917238123831296/photo/1",
         "12",
         "10",
         "Jim",
         null,
         null,
         null,
         null
        ],
        [
         "17",
         "888804989199671297",
         null,
         null,
         "2017-07-22 16:56:37 +0000",
         "<a href=\"http://twitter.com/download/iphone\" rel=\"nofollow\">Twitter for iPhone</a>",
         "This is Zeke. He has a new stick. Very proud of it. Would like you to throw it for him without taking it. 13/10 would do my best https://t.co/HTQ77yNQ5K",
         null,
         null,
         null,
         "https://twitter.com/dog_rates/status/888804989199671297/photo/1,https://twitter.com/dog_rates/status/888804989199671297/photo/1",
         "13",
         "10",
         "Zeke",
         null,
         null,
         null,
         null
        ],
        [
         "18",
         "888554962724278272",
         null,
         null,
         "2017-07-22 00:23:06 +0000",
         "<a href=\"http://twitter.com/download/iphone\" rel=\"nofollow\">Twitter for iPhone</a>",
         "This is Ralphus. He's powering up. Attempting maximum borkdrive. 13/10 inspirational af https://t.co/YnYAFCTTiK",
         null,
         null,
         null,
         "https://twitter.com/dog_rates/status/888554962724278272/photo/1,https://twitter.com/dog_rates/status/888554962724278272/photo/1,https://twitter.com/dog_rates/status/888554962724278272/photo/1,https://twitter.com/dog_rates/status/888554962724278272/photo/1",
         "13",
         "10",
         "Ralphus",
         null,
         null,
         null,
         null
        ],
        [
         "19",
         "888202515573088257",
         null,
         null,
         "2017-07-21 01:02:36 +0000",
         "<a href=\"http://twitter.com/download/iphone\" rel=\"nofollow\">Twitter for iPhone</a>",
         "RT @dog_rates: This is Canela. She attempted some fancy porch pics. They were unsuccessful. 13/10 someone help her https://t.co/cLyzpcUcMX",
         "8.874739571039519e+17",
         "4196983835.0",
         "2017-07-19 00:47:34 +0000",
         "https://twitter.com/dog_rates/status/887473957103951883/photo/1,https://twitter.com/dog_rates/status/887473957103951883/photo/1,https://twitter.com/dog_rates/status/887473957103951883/photo/1,https://twitter.com/dog_rates/status/887473957103951883/photo/1",
         "13",
         "10",
         "Canela",
         null,
         null,
         null,
         null
        ],
        [
         "20",
         "888078434458587136",
         null,
         null,
         "2017-07-20 16:49:33 +0000",
         "<a href=\"http://twitter.com/download/iphone\" rel=\"nofollow\">Twitter for iPhone</a>",
         "This is Gerald. He was just told he didn't get the job he interviewed for. A h*ckin injustice. 12/10 didn't want the job anyway https://t.co/DK7iDPfuRX",
         null,
         null,
         null,
         "https://twitter.com/dog_rates/status/888078434458587136/photo/1,https://twitter.com/dog_rates/status/888078434458587136/photo/1",
         "12",
         "10",
         "Gerald",
         null,
         null,
         null,
         null
        ],
        [
         "21",
         "887705289381826560",
         null,
         null,
         "2017-07-19 16:06:48 +0000",
         "<a href=\"http://twitter.com/download/iphone\" rel=\"nofollow\">Twitter for iPhone</a>",
         "This is Jeffrey. He has a monopoly on the pool noodles. Currently running a 'boop for two' midweek sale. 13/10 h*ckin strategic https://t.co/PhrUk20Q64",
         null,
         null,
         null,
         "https://twitter.com/dog_rates/status/887705289381826560/photo/1",
         "13",
         "10",
         "Jeffrey",
         null,
         null,
         null,
         null
        ],
        [
         "22",
         "887517139158093824",
         null,
         null,
         "2017-07-19 03:39:09 +0000",
         "<a href=\"http://twitter.com/download/iphone\" rel=\"nofollow\">Twitter for iPhone</a>",
         "I've yet to rate a Venezuelan Hover Wiener. This is such an honor. 14/10 paw-inspiring af (IG: roxy.thedoxy) https://t.co/20VrLAA8ba",
         null,
         null,
         null,
         "https://twitter.com/dog_rates/status/887517139158093824/video/1",
         "14",
         "10",
         "such",
         null,
         null,
         null,
         null
        ],
        [
         "23",
         "887473957103951883",
         null,
         null,
         "2017-07-19 00:47:34 +0000",
         "<a href=\"http://twitter.com/download/iphone\" rel=\"nofollow\">Twitter for iPhone</a>",
         "This is Canela. She attempted some fancy porch pics. They were unsuccessful. 13/10 someone help her https://t.co/cLyzpcUcMX",
         null,
         null,
         null,
         "https://twitter.com/dog_rates/status/887473957103951883/photo/1,https://twitter.com/dog_rates/status/887473957103951883/photo/1",
         "13",
         "10",
         "Canela",
         null,
         null,
         null,
         null
        ],
        [
         "24",
         "887343217045368832",
         null,
         null,
         "2017-07-18 16:08:03 +0000",
         "<a href=\"http://twitter.com/download/iphone\" rel=\"nofollow\">Twitter for iPhone</a>",
         "You may not have known you needed to see this today. 13/10 please enjoy (IG: emmylouroo) https://t.co/WZqNqygEyV",
         null,
         null,
         null,
         "https://twitter.com/dog_rates/status/887343217045368832/video/1",
         "13",
         "10",
         null,
         null,
         null,
         null,
         null
        ],
        [
         "25",
         "887101392804085760",
         null,
         null,
         "2017-07-18 00:07:08 +0000",
         "<a href=\"http://twitter.com/download/iphone\" rel=\"nofollow\">Twitter for iPhone</a>",
         "This... is a Jubilant Antarctic House Bear. We only rate dogs. Please only send dogs. Thank you... 12/10 would suffocate in floof https://t.co/4Ad1jzJSdp",
         null,
         null,
         null,
         "https://twitter.com/dog_rates/status/887101392804085760/photo/1",
         "12",
         "10",
         null,
         null,
         null,
         null,
         null
        ],
        [
         "26",
         "886983233522544640",
         null,
         null,
         "2017-07-17 16:17:36 +0000",
         "<a href=\"http://twitter.com/download/iphone\" rel=\"nofollow\">Twitter for iPhone</a>",
         "This is Maya. She's very shy. Rarely leaves her cup. 13/10 would find her an environment to thrive in https://t.co/I6oNy0CgiT",
         null,
         null,
         null,
         "https://twitter.com/dog_rates/status/886983233522544640/photo/1,https://twitter.com/dog_rates/status/886983233522544640/photo/1",
         "13",
         "10",
         "Maya",
         null,
         null,
         null,
         null
        ],
        [
         "27",
         "886736880519319552",
         null,
         null,
         "2017-07-16 23:58:41 +0000",
         "<a href=\"http://twitter.com/download/iphone\" rel=\"nofollow\">Twitter for iPhone</a>",
         "This is Mingus. He's a wonderful father to his smol pup. Confirmed 13/10, but he needs your help\n\nhttps://t.co/bVi0Yr4Cff https://t.co/ISvKOSkd5b",
         null,
         null,
         null,
         "https://www.gofundme.com/mingusneedsus,https://twitter.com/dog_rates/status/886736880519319552/photo/1,https://twitter.com/dog_rates/status/886736880519319552/photo/1",
         "13",
         "10",
         "Mingus",
         null,
         null,
         null,
         null
        ],
        [
         "28",
         "886680336477933568",
         null,
         null,
         "2017-07-16 20:14:00 +0000",
         "<a href=\"http://twitter.com/download/iphone\" rel=\"nofollow\">Twitter for iPhone</a>",
         "This is Derek. He's late for a dog meeting. 13/10 pet...al to the metal https://t.co/BCoWue0abA",
         null,
         null,
         null,
         "https://twitter.com/dog_rates/status/886680336477933568/photo/1",
         "13",
         "10",
         "Derek",
         null,
         null,
         null,
         null
        ],
        [
         "29",
         "886366144734445568",
         null,
         null,
         "2017-07-15 23:25:31 +0000",
         "<a href=\"http://twitter.com/download/iphone\" rel=\"nofollow\">Twitter for iPhone</a>",
         "This is Roscoe. Another pupper fallen victim to spontaneous tongue ejections. Get the BlepiPen immediate. 12/10 deep breaths Roscoe https://t.co/RGE08MIJox",
         null,
         null,
         null,
         "https://twitter.com/dog_rates/status/886366144734445568/photo/1,https://twitter.com/dog_rates/status/886366144734445568/photo/1",
         "12",
         "10",
         "Roscoe",
         null,
         null,
         "pupper",
         null
        ],
        [
         "30",
         "886267009285017600",
         "8.862663570751283e+17",
         "2281181600.0",
         "2017-07-15 16:51:35 +0000",
         "<a href=\"http://twitter.com/download/iphone\" rel=\"nofollow\">Twitter for iPhone</a>",
         "@NonWhiteHat @MayhewMayhem omg hello tanner you are a scary good boy 12/10 would pet with extreme caution",
         null,
         null,
         null,
         null,
         "12",
         "10",
         null,
         null,
         null,
         null,
         null
        ],
        [
         "31",
         "886258384151887873",
         null,
         null,
         "2017-07-15 16:17:19 +0000",
         "<a href=\"http://twitter.com/download/iphone\" rel=\"nofollow\">Twitter for iPhone</a>",
         "This is Waffles. His doggles are pupside down. Unsure how to fix. 13/10 someone assist Waffles https://t.co/xZDA9Qsq1O",
         null,
         null,
         null,
         "https://twitter.com/dog_rates/status/886258384151887873/photo/1",
         "13",
         "10",
         "Waffles",
         null,
         null,
         null,
         null
        ],
        [
         "32",
         "886054160059072513",
         null,
         null,
         "2017-07-15 02:45:48 +0000",
         "<a href=\"http://twitter.com/download/iphone\" rel=\"nofollow\">Twitter for iPhone</a>",
         "RT @Athletics: 12/10 #BATP https://t.co/WxwJmvjfxo",
         "8.860537344211026e+17",
         "19607400.0",
         "2017-07-15 02:44:07 +0000",
         "https://twitter.com/dog_rates/status/886053434075471873,https://twitter.com/dog_rates/status/886053434075471873",
         "12",
         "10",
         null,
         null,
         null,
         null,
         null
        ],
        [
         "33",
         "885984800019947520",
         null,
         null,
         "2017-07-14 22:10:11 +0000",
         "<a href=\"http://twitter.com/download/iphone\" rel=\"nofollow\">Twitter for iPhone</a>",
         "Viewer discretion advised. This is Jimbo. He will rip ur finger right h*ckin off. Other dog clearly an accessory. 12/10 pls pet with caution https://t.co/BuveP0uMF1",
         null,
         null,
         null,
         "https://twitter.com/dog_rates/status/885984800019947520/photo/1",
         "12",
         "10",
         "Jimbo",
         null,
         null,
         null,
         null
        ],
        [
         "34",
         "885528943205470208",
         null,
         null,
         "2017-07-13 15:58:47 +0000",
         "<a href=\"http://twitter.com/download/iphone\" rel=\"nofollow\">Twitter for iPhone</a>",
         "This is Maisey. She fell asleep mid-excavation. Happens to the best of us. 13/10 would pat noggin approvingly https://t.co/tp1kQ8i9JF",
         null,
         null,
         null,
         "https://twitter.com/dog_rates/status/885528943205470208/photo/1",
         "13",
         "10",
         "Maisey",
         null,
         null,
         null,
         null
        ],
        [
         "35",
         "885518971528720385",
         null,
         null,
         "2017-07-13 15:19:09 +0000",
         "<a href=\"http://twitter.com/download/iphone\" rel=\"nofollow\">Twitter for iPhone</a>",
         "I have a new hero and his name is Howard. 14/10 https://t.co/gzLHboL7Sk",
         null,
         null,
         null,
         "https://twitter.com/4bonds2carbon/status/885517367337512960",
         "14",
         "10",
         null,
         null,
         null,
         null,
         null
        ],
        [
         "36",
         "885311592912609280",
         null,
         null,
         "2017-07-13 01:35:06 +0000",
         "<a href=\"http://twitter.com/download/iphone\" rel=\"nofollow\">Twitter for iPhone</a>",
         "RT @dog_rates: This is Lilly. She just parallel barked. Kindly requests a reward now. 13/10 would pet so well https://t.co/SATN4If5H5",
         "8.305833205850685e+17",
         "4196983835.0",
         "2017-02-12 01:04:29 +0000",
         "https://twitter.com/dog_rates/status/830583320585068544/photo/1,https://twitter.com/dog_rates/status/830583320585068544/photo/1,https://twitter.com/dog_rates/status/830583320585068544/photo/1,https://twitter.com/dog_rates/status/830583320585068544/photo/1",
         "13",
         "10",
         "Lilly",
         null,
         null,
         null,
         null
        ],
        [
         "37",
         "885167619883638784",
         null,
         null,
         "2017-07-12 16:03:00 +0000",
         "<a href=\"http://twitter.com/download/iphone\" rel=\"nofollow\">Twitter for iPhone</a>",
         "Here we have a corgi undercover as a malamute. Pawbably doing important investigative work. Zero control over tongue happenings. 13/10 https://t.co/44ItaMubBf",
         null,
         null,
         null,
         "https://twitter.com/dog_rates/status/885167619883638784/photo/1,https://twitter.com/dog_rates/status/885167619883638784/photo/1,https://twitter.com/dog_rates/status/885167619883638784/photo/1,https://twitter.com/dog_rates/status/885167619883638784/photo/1",
         "13",
         "10",
         null,
         null,
         null,
         null,
         null
        ],
        [
         "38",
         "884925521741709313",
         null,
         null,
         "2017-07-12 00:01:00 +0000",
         "<a href=\"http://twitter.com/download/iphone\" rel=\"nofollow\">Twitter for iPhone</a>",
         "This is Earl. He found a hat. Nervous about what you think of it. 12/10 it's delightful, Earl https://t.co/MYJvdlNRVa",
         null,
         null,
         null,
         "https://twitter.com/dog_rates/status/884925521741709313/photo/1",
         "12",
         "10",
         "Earl",
         null,
         null,
         null,
         null
        ],
        [
         "39",
         "884876753390489601",
         null,
         null,
         "2017-07-11 20:47:12 +0000",
         "<a href=\"http://twitter.com/download/iphone\" rel=\"nofollow\">Twitter for iPhone</a>",
         "This is Lola. It's her first time outside. Must test the earth and taste the atmosphere. 13/10 you're doing great Lola https://t.co/74TKAUsLkO",
         null,
         null,
         null,
         "https://twitter.com/dog_rates/status/884876753390489601/photo/1,https://twitter.com/dog_rates/status/884876753390489601/photo/1,https://twitter.com/dog_rates/status/884876753390489601/photo/1,https://twitter.com/dog_rates/status/884876753390489601/photo/1",
         "13",
         "10",
         "Lola",
         null,
         null,
         null,
         null
        ],
        [
         "40",
         "884562892145688576",
         null,
         null,
         "2017-07-11 00:00:02 +0000",
         "<a href=\"http://twitter.com/download/iphone\" rel=\"nofollow\">Twitter for iPhone</a>",
         "This is Kevin. He's just so happy. 13/10 what is your secret Kevin https://t.co/1r4MFCbCX5",
         null,
         null,
         null,
         "https://twitter.com/dog_rates/status/884562892145688576/photo/1",
         "13",
         "10",
         "Kevin",
         null,
         null,
         null,
         null
        ],
        [
         "41",
         "884441805382717440",
         null,
         null,
         "2017-07-10 15:58:53 +0000",
         "<a href=\"http://twitter.com/download/iphone\" rel=\"nofollow\">Twitter for iPhone</a>",
         "I present to you, Pup in Hat. Pup in Hat is great for all occasions. Extremely versatile. Compact as h*ck. 14/10 (IG: itselizabethgales) https://t.co/vvBOcC2VdC",
         null,
         null,
         null,
         "https://twitter.com/dog_rates/status/884441805382717440/photo/1",
         "14",
         "10",
         null,
         null,
         null,
         null,
         null
        ],
        [
         "42",
         "884247878851493888",
         null,
         null,
         "2017-07-10 03:08:17 +0000",
         "<a href=\"http://twitter.com/download/iphone\" rel=\"nofollow\">Twitter for iPhone</a>",
         "OMG HE DIDN'T MEAN TO HE WAS JUST TRYING A LITTLE BARKOUR HE'S SUPER SORRY 13/10 WOULD FORGIVE IMMEDIATE https://t.co/uF3pQ8Wubj",
         null,
         null,
         null,
         "https://twitter.com/kaijohnson_19/status/883965650754039809",
         "13",
         "10",
         null,
         null,
         null,
         null,
         null
        ],
        [
         "43",
         "884162670584377345",
         null,
         null,
         "2017-07-09 21:29:42 +0000",
         "<a href=\"http://twitter.com/download/iphone\" rel=\"nofollow\">Twitter for iPhone</a>",
         "Meet Yogi. He doesn't have any important dog meetings today he just enjoys looking his best at all times. 12/10 for dangerously dapper doggo https://t.co/YSI00BzTBZ",
         null,
         null,
         null,
         "https://twitter.com/dog_rates/status/884162670584377345/photo/1",
         "12",
         "10",
         "Yogi",
         "doggo",
         null,
         null,
         null
        ],
        [
         "44",
         "883838122936631299",
         null,
         null,
         "2017-07-09 00:00:04 +0000",
         "<a href=\"http://twitter.com/download/iphone\" rel=\"nofollow\">Twitter for iPhone</a>",
         "This is Noah. He can't believe someone made this mess. Got the vacuum out for you though. Offered to help clean pup. 12/10 super good boy https://t.co/V85xujjDDY",
         null,
         null,
         null,
         "https://twitter.com/dog_rates/status/883838122936631299/photo/1",
         "12",
         "10",
         "Noah",
         null,
         null,
         null,
         null
        ],
        [
         "45",
         "883482846933004288",
         null,
         null,
         "2017-07-08 00:28:19 +0000",
         "<a href=\"http://twitter.com/download/iphone\" rel=\"nofollow\">Twitter for iPhone</a>",
         "This is Bella. She hopes her smile made you smile. If not, she is also offering you her favorite monkey. 13.5/10 https://t.co/qjrljjt948",
         null,
         null,
         null,
         "https://twitter.com/dog_rates/status/883482846933004288/photo/1,https://twitter.com/dog_rates/status/883482846933004288/photo/1",
         "5",
         "10",
         "Bella",
         null,
         null,
         null,
         null
        ],
        [
         "46",
         "883360690899218434",
         null,
         null,
         "2017-07-07 16:22:55 +0000",
         "<a href=\"http://twitter.com/download/iphone\" rel=\"nofollow\">Twitter for iPhone</a>",
         "Meet Grizzwald. He may be the floofiest floofer I ever did see. Lost eyes saving a schoolbus from a volcano erpuption. 13/10 heroic as h*ck https://t.co/rf661IFEYP",
         null,
         null,
         null,
         "https://twitter.com/dog_rates/status/883360690899218434/photo/1",
         "13",
         "10",
         "Grizzwald",
         null,
         "floofer",
         null,
         null
        ],
        [
         "47",
         "883117836046086144",
         null,
         null,
         "2017-07-07 00:17:54 +0000",
         "<a href=\"http://twitter.com/download/iphone\" rel=\"nofollow\">Twitter for iPhone</a>",
         "Please only send dogs. We don't rate mechanics, no matter how h*ckin good. Thank you... 13/10 would sneak a pat https://t.co/Se5fZ9wp5E",
         null,
         null,
         null,
         "https://twitter.com/dog_rates/status/883117836046086144/photo/1,https://twitter.com/dog_rates/status/883117836046086144/photo/1",
         "13",
         "10",
         null,
         null,
         null,
         null,
         null
        ],
        [
         "48",
         "882992080364220416",
         null,
         null,
         "2017-07-06 15:58:11 +0000",
         "<a href=\"http://twitter.com/download/iphone\" rel=\"nofollow\">Twitter for iPhone</a>",
         "This is Rusty. He wasn't ready for the first pic. Clearly puppared for the second. 13/10 confirmed great boy https://t.co/tyER0KpdXj",
         null,
         null,
         null,
         "https://twitter.com/dog_rates/status/882992080364220416/photo/1,https://twitter.com/dog_rates/status/882992080364220416/photo/1",
         "13",
         "10",
         "Rusty",
         null,
         null,
         null,
         null
        ],
        [
         "49",
         "882762694511734784",
         null,
         null,
         "2017-07-06 00:46:41 +0000",
         "<a href=\"http://twitter.com/download/iphone\" rel=\"nofollow\">Twitter for iPhone</a>",
         "This is Gus. He's quite the cheeky pupper. Already perfected the disinterested wink. 12/10 would let steal my girl https://t.co/D43I96SlVu",
         null,
         null,
         null,
         "https://twitter.com/dog_rates/status/882762694511734784/photo/1",
         "12",
         "10",
         "Gus",
         null,
         null,
         "pupper",
         null
        ]
       ],
       "shape": {
        "columns": 17,
        "rows": 2356
       }
      },
      "text/html": [
       "<div>\n",
       "<style scoped>\n",
       "    .dataframe tbody tr th:only-of-type {\n",
       "        vertical-align: middle;\n",
       "    }\n",
       "\n",
       "    .dataframe tbody tr th {\n",
       "        vertical-align: top;\n",
       "    }\n",
       "\n",
       "    .dataframe thead th {\n",
       "        text-align: right;\n",
       "    }\n",
       "</style>\n",
       "<table border=\"1\" class=\"dataframe\">\n",
       "  <thead>\n",
       "    <tr style=\"text-align: right;\">\n",
       "      <th></th>\n",
       "      <th>tweet_id</th>\n",
       "      <th>in_reply_to_status_id</th>\n",
       "      <th>in_reply_to_user_id</th>\n",
       "      <th>timestamp</th>\n",
       "      <th>source</th>\n",
       "      <th>text</th>\n",
       "      <th>retweeted_status_id</th>\n",
       "      <th>retweeted_status_user_id</th>\n",
       "      <th>retweeted_status_timestamp</th>\n",
       "      <th>expanded_urls</th>\n",
       "      <th>rating_numerator</th>\n",
       "      <th>rating_denominator</th>\n",
       "      <th>name</th>\n",
       "      <th>doggo</th>\n",
       "      <th>floofer</th>\n",
       "      <th>pupper</th>\n",
       "      <th>puppo</th>\n",
       "    </tr>\n",
       "  </thead>\n",
       "  <tbody>\n",
       "    <tr>\n",
       "      <th>0</th>\n",
       "      <td>892420643555336193</td>\n",
       "      <td>NaN</td>\n",
       "      <td>NaN</td>\n",
       "      <td>2017-08-01 16:23:56 +0000</td>\n",
       "      <td>&lt;a href=\"http://twitter.com/download/iphone\" r...</td>\n",
       "      <td>This is Phineas. He's a mystical boy. Only eve...</td>\n",
       "      <td>NaN</td>\n",
       "      <td>NaN</td>\n",
       "      <td>NaN</td>\n",
       "      <td>https://twitter.com/dog_rates/status/892420643...</td>\n",
       "      <td>13</td>\n",
       "      <td>10</td>\n",
       "      <td>Phineas</td>\n",
       "      <td>NaN</td>\n",
       "      <td>NaN</td>\n",
       "      <td>NaN</td>\n",
       "      <td>NaN</td>\n",
       "    </tr>\n",
       "    <tr>\n",
       "      <th>1</th>\n",
       "      <td>892177421306343426</td>\n",
       "      <td>NaN</td>\n",
       "      <td>NaN</td>\n",
       "      <td>2017-08-01 00:17:27 +0000</td>\n",
       "      <td>&lt;a href=\"http://twitter.com/download/iphone\" r...</td>\n",
       "      <td>This is Tilly. She's just checking pup on you....</td>\n",
       "      <td>NaN</td>\n",
       "      <td>NaN</td>\n",
       "      <td>NaN</td>\n",
       "      <td>https://twitter.com/dog_rates/status/892177421...</td>\n",
       "      <td>13</td>\n",
       "      <td>10</td>\n",
       "      <td>Tilly</td>\n",
       "      <td>NaN</td>\n",
       "      <td>NaN</td>\n",
       "      <td>NaN</td>\n",
       "      <td>NaN</td>\n",
       "    </tr>\n",
       "    <tr>\n",
       "      <th>2</th>\n",
       "      <td>891815181378084864</td>\n",
       "      <td>NaN</td>\n",
       "      <td>NaN</td>\n",
       "      <td>2017-07-31 00:18:03 +0000</td>\n",
       "      <td>&lt;a href=\"http://twitter.com/download/iphone\" r...</td>\n",
       "      <td>This is Archie. He is a rare Norwegian Pouncin...</td>\n",
       "      <td>NaN</td>\n",
       "      <td>NaN</td>\n",
       "      <td>NaN</td>\n",
       "      <td>https://twitter.com/dog_rates/status/891815181...</td>\n",
       "      <td>12</td>\n",
       "      <td>10</td>\n",
       "      <td>Archie</td>\n",
       "      <td>NaN</td>\n",
       "      <td>NaN</td>\n",
       "      <td>NaN</td>\n",
       "      <td>NaN</td>\n",
       "    </tr>\n",
       "    <tr>\n",
       "      <th>3</th>\n",
       "      <td>891689557279858688</td>\n",
       "      <td>NaN</td>\n",
       "      <td>NaN</td>\n",
       "      <td>2017-07-30 15:58:51 +0000</td>\n",
       "      <td>&lt;a href=\"http://twitter.com/download/iphone\" r...</td>\n",
       "      <td>This is Darla. She commenced a snooze mid meal...</td>\n",
       "      <td>NaN</td>\n",
       "      <td>NaN</td>\n",
       "      <td>NaN</td>\n",
       "      <td>https://twitter.com/dog_rates/status/891689557...</td>\n",
       "      <td>13</td>\n",
       "      <td>10</td>\n",
       "      <td>Darla</td>\n",
       "      <td>NaN</td>\n",
       "      <td>NaN</td>\n",
       "      <td>NaN</td>\n",
       "      <td>NaN</td>\n",
       "    </tr>\n",
       "    <tr>\n",
       "      <th>4</th>\n",
       "      <td>891327558926688256</td>\n",
       "      <td>NaN</td>\n",
       "      <td>NaN</td>\n",
       "      <td>2017-07-29 16:00:24 +0000</td>\n",
       "      <td>&lt;a href=\"http://twitter.com/download/iphone\" r...</td>\n",
       "      <td>This is Franklin. He would like you to stop ca...</td>\n",
       "      <td>NaN</td>\n",
       "      <td>NaN</td>\n",
       "      <td>NaN</td>\n",
       "      <td>https://twitter.com/dog_rates/status/891327558...</td>\n",
       "      <td>12</td>\n",
       "      <td>10</td>\n",
       "      <td>Franklin</td>\n",
       "      <td>NaN</td>\n",
       "      <td>NaN</td>\n",
       "      <td>NaN</td>\n",
       "      <td>NaN</td>\n",
       "    </tr>\n",
       "    <tr>\n",
       "      <th>...</th>\n",
       "      <td>...</td>\n",
       "      <td>...</td>\n",
       "      <td>...</td>\n",
       "      <td>...</td>\n",
       "      <td>...</td>\n",
       "      <td>...</td>\n",
       "      <td>...</td>\n",
       "      <td>...</td>\n",
       "      <td>...</td>\n",
       "      <td>...</td>\n",
       "      <td>...</td>\n",
       "      <td>...</td>\n",
       "      <td>...</td>\n",
       "      <td>...</td>\n",
       "      <td>...</td>\n",
       "      <td>...</td>\n",
       "      <td>...</td>\n",
       "    </tr>\n",
       "    <tr>\n",
       "      <th>2351</th>\n",
       "      <td>666049248165822465</td>\n",
       "      <td>NaN</td>\n",
       "      <td>NaN</td>\n",
       "      <td>2015-11-16 00:24:50 +0000</td>\n",
       "      <td>&lt;a href=\"http://twitter.com/download/iphone\" r...</td>\n",
       "      <td>Here we have a 1949 1st generation vulpix. Enj...</td>\n",
       "      <td>NaN</td>\n",
       "      <td>NaN</td>\n",
       "      <td>NaN</td>\n",
       "      <td>https://twitter.com/dog_rates/status/666049248...</td>\n",
       "      <td>5</td>\n",
       "      <td>10</td>\n",
       "      <td>NaN</td>\n",
       "      <td>NaN</td>\n",
       "      <td>NaN</td>\n",
       "      <td>NaN</td>\n",
       "      <td>NaN</td>\n",
       "    </tr>\n",
       "    <tr>\n",
       "      <th>2352</th>\n",
       "      <td>666044226329800704</td>\n",
       "      <td>NaN</td>\n",
       "      <td>NaN</td>\n",
       "      <td>2015-11-16 00:04:52 +0000</td>\n",
       "      <td>&lt;a href=\"http://twitter.com/download/iphone\" r...</td>\n",
       "      <td>This is a purebred Piers Morgan. Loves to Netf...</td>\n",
       "      <td>NaN</td>\n",
       "      <td>NaN</td>\n",
       "      <td>NaN</td>\n",
       "      <td>https://twitter.com/dog_rates/status/666044226...</td>\n",
       "      <td>6</td>\n",
       "      <td>10</td>\n",
       "      <td>a</td>\n",
       "      <td>NaN</td>\n",
       "      <td>NaN</td>\n",
       "      <td>NaN</td>\n",
       "      <td>NaN</td>\n",
       "    </tr>\n",
       "    <tr>\n",
       "      <th>2353</th>\n",
       "      <td>666033412701032449</td>\n",
       "      <td>NaN</td>\n",
       "      <td>NaN</td>\n",
       "      <td>2015-11-15 23:21:54 +0000</td>\n",
       "      <td>&lt;a href=\"http://twitter.com/download/iphone\" r...</td>\n",
       "      <td>Here is a very happy pup. Big fan of well-main...</td>\n",
       "      <td>NaN</td>\n",
       "      <td>NaN</td>\n",
       "      <td>NaN</td>\n",
       "      <td>https://twitter.com/dog_rates/status/666033412...</td>\n",
       "      <td>9</td>\n",
       "      <td>10</td>\n",
       "      <td>a</td>\n",
       "      <td>NaN</td>\n",
       "      <td>NaN</td>\n",
       "      <td>NaN</td>\n",
       "      <td>NaN</td>\n",
       "    </tr>\n",
       "    <tr>\n",
       "      <th>2354</th>\n",
       "      <td>666029285002620928</td>\n",
       "      <td>NaN</td>\n",
       "      <td>NaN</td>\n",
       "      <td>2015-11-15 23:05:30 +0000</td>\n",
       "      <td>&lt;a href=\"http://twitter.com/download/iphone\" r...</td>\n",
       "      <td>This is a western brown Mitsubishi terrier. Up...</td>\n",
       "      <td>NaN</td>\n",
       "      <td>NaN</td>\n",
       "      <td>NaN</td>\n",
       "      <td>https://twitter.com/dog_rates/status/666029285...</td>\n",
       "      <td>7</td>\n",
       "      <td>10</td>\n",
       "      <td>a</td>\n",
       "      <td>NaN</td>\n",
       "      <td>NaN</td>\n",
       "      <td>NaN</td>\n",
       "      <td>NaN</td>\n",
       "    </tr>\n",
       "    <tr>\n",
       "      <th>2355</th>\n",
       "      <td>666020888022790149</td>\n",
       "      <td>NaN</td>\n",
       "      <td>NaN</td>\n",
       "      <td>2015-11-15 22:32:08 +0000</td>\n",
       "      <td>&lt;a href=\"http://twitter.com/download/iphone\" r...</td>\n",
       "      <td>Here we have a Japanese Irish Setter. Lost eye...</td>\n",
       "      <td>NaN</td>\n",
       "      <td>NaN</td>\n",
       "      <td>NaN</td>\n",
       "      <td>https://twitter.com/dog_rates/status/666020888...</td>\n",
       "      <td>8</td>\n",
       "      <td>10</td>\n",
       "      <td>NaN</td>\n",
       "      <td>NaN</td>\n",
       "      <td>NaN</td>\n",
       "      <td>NaN</td>\n",
       "      <td>NaN</td>\n",
       "    </tr>\n",
       "  </tbody>\n",
       "</table>\n",
       "<p>2356 rows × 17 columns</p>\n",
       "</div>"
      ],
      "text/plain": [
       "                tweet_id  in_reply_to_status_id  in_reply_to_user_id  \\\n",
       "0     892420643555336193                    NaN                  NaN   \n",
       "1     892177421306343426                    NaN                  NaN   \n",
       "2     891815181378084864                    NaN                  NaN   \n",
       "3     891689557279858688                    NaN                  NaN   \n",
       "4     891327558926688256                    NaN                  NaN   \n",
       "...                  ...                    ...                  ...   \n",
       "2351  666049248165822465                    NaN                  NaN   \n",
       "2352  666044226329800704                    NaN                  NaN   \n",
       "2353  666033412701032449                    NaN                  NaN   \n",
       "2354  666029285002620928                    NaN                  NaN   \n",
       "2355  666020888022790149                    NaN                  NaN   \n",
       "\n",
       "                      timestamp  \\\n",
       "0     2017-08-01 16:23:56 +0000   \n",
       "1     2017-08-01 00:17:27 +0000   \n",
       "2     2017-07-31 00:18:03 +0000   \n",
       "3     2017-07-30 15:58:51 +0000   \n",
       "4     2017-07-29 16:00:24 +0000   \n",
       "...                         ...   \n",
       "2351  2015-11-16 00:24:50 +0000   \n",
       "2352  2015-11-16 00:04:52 +0000   \n",
       "2353  2015-11-15 23:21:54 +0000   \n",
       "2354  2015-11-15 23:05:30 +0000   \n",
       "2355  2015-11-15 22:32:08 +0000   \n",
       "\n",
       "                                                 source  \\\n",
       "0     <a href=\"http://twitter.com/download/iphone\" r...   \n",
       "1     <a href=\"http://twitter.com/download/iphone\" r...   \n",
       "2     <a href=\"http://twitter.com/download/iphone\" r...   \n",
       "3     <a href=\"http://twitter.com/download/iphone\" r...   \n",
       "4     <a href=\"http://twitter.com/download/iphone\" r...   \n",
       "...                                                 ...   \n",
       "2351  <a href=\"http://twitter.com/download/iphone\" r...   \n",
       "2352  <a href=\"http://twitter.com/download/iphone\" r...   \n",
       "2353  <a href=\"http://twitter.com/download/iphone\" r...   \n",
       "2354  <a href=\"http://twitter.com/download/iphone\" r...   \n",
       "2355  <a href=\"http://twitter.com/download/iphone\" r...   \n",
       "\n",
       "                                                   text  retweeted_status_id  \\\n",
       "0     This is Phineas. He's a mystical boy. Only eve...                  NaN   \n",
       "1     This is Tilly. She's just checking pup on you....                  NaN   \n",
       "2     This is Archie. He is a rare Norwegian Pouncin...                  NaN   \n",
       "3     This is Darla. She commenced a snooze mid meal...                  NaN   \n",
       "4     This is Franklin. He would like you to stop ca...                  NaN   \n",
       "...                                                 ...                  ...   \n",
       "2351  Here we have a 1949 1st generation vulpix. Enj...                  NaN   \n",
       "2352  This is a purebred Piers Morgan. Loves to Netf...                  NaN   \n",
       "2353  Here is a very happy pup. Big fan of well-main...                  NaN   \n",
       "2354  This is a western brown Mitsubishi terrier. Up...                  NaN   \n",
       "2355  Here we have a Japanese Irish Setter. Lost eye...                  NaN   \n",
       "\n",
       "      retweeted_status_user_id retweeted_status_timestamp  \\\n",
       "0                          NaN                        NaN   \n",
       "1                          NaN                        NaN   \n",
       "2                          NaN                        NaN   \n",
       "3                          NaN                        NaN   \n",
       "4                          NaN                        NaN   \n",
       "...                        ...                        ...   \n",
       "2351                       NaN                        NaN   \n",
       "2352                       NaN                        NaN   \n",
       "2353                       NaN                        NaN   \n",
       "2354                       NaN                        NaN   \n",
       "2355                       NaN                        NaN   \n",
       "\n",
       "                                          expanded_urls  rating_numerator  \\\n",
       "0     https://twitter.com/dog_rates/status/892420643...                13   \n",
       "1     https://twitter.com/dog_rates/status/892177421...                13   \n",
       "2     https://twitter.com/dog_rates/status/891815181...                12   \n",
       "3     https://twitter.com/dog_rates/status/891689557...                13   \n",
       "4     https://twitter.com/dog_rates/status/891327558...                12   \n",
       "...                                                 ...               ...   \n",
       "2351  https://twitter.com/dog_rates/status/666049248...                 5   \n",
       "2352  https://twitter.com/dog_rates/status/666044226...                 6   \n",
       "2353  https://twitter.com/dog_rates/status/666033412...                 9   \n",
       "2354  https://twitter.com/dog_rates/status/666029285...                 7   \n",
       "2355  https://twitter.com/dog_rates/status/666020888...                 8   \n",
       "\n",
       "      rating_denominator      name doggo floofer pupper puppo  \n",
       "0                     10   Phineas   NaN     NaN    NaN   NaN  \n",
       "1                     10     Tilly   NaN     NaN    NaN   NaN  \n",
       "2                     10    Archie   NaN     NaN    NaN   NaN  \n",
       "3                     10     Darla   NaN     NaN    NaN   NaN  \n",
       "4                     10  Franklin   NaN     NaN    NaN   NaN  \n",
       "...                  ...       ...   ...     ...    ...   ...  \n",
       "2351                  10       NaN   NaN     NaN    NaN   NaN  \n",
       "2352                  10         a   NaN     NaN    NaN   NaN  \n",
       "2353                  10         a   NaN     NaN    NaN   NaN  \n",
       "2354                  10         a   NaN     NaN    NaN   NaN  \n",
       "2355                  10       NaN   NaN     NaN    NaN   NaN  \n",
       "\n",
       "[2356 rows x 17 columns]"
      ]
     },
     "execution_count": 2,
     "metadata": {},
     "output_type": "execute_result"
    }
   ],
   "source": [
    "# reading the twitter archive csv file\n",
    "twitter_arch_data = pd.read_csv('twitter-archive-enhanced.csv')\n",
    "twitter_arch_data"
   ]
  },
  {
   "cell_type": "markdown",
   "id": "ff2e6eaa",
   "metadata": {},
   "source": [
    "Getting the second dataset from the given link for the images predictions `.tsv` file using `requests` package."
   ]
  },
  {
   "cell_type": "code",
   "execution_count": 3,
   "id": "f59571c1",
   "metadata": {},
   "outputs": [
    {
     "data": {
      "text/plain": [
       "200"
      ]
     },
     "execution_count": 3,
     "metadata": {},
     "output_type": "execute_result"
    }
   ],
   "source": [
    "# getting the image prediction data from the url using requests\n",
    "img_pred_url = 'https://d17h27t6h515a5.cloudfront.net/topher/2017/August/599fd2ad_image-predictions/image-predictions.tsv'\n",
    "img_res = requests.get(img_pred_url)\n",
    "img_res.status_code"
   ]
  },
  {
   "cell_type": "markdown",
   "id": "3b13aefa",
   "metadata": {},
   "source": [
    "Then, getting the file contents and save it locally after getting the succeed getting operation status code `200`."
   ]
  },
  {
   "cell_type": "code",
   "execution_count": 4,
   "id": "a63bd656",
   "metadata": {},
   "outputs": [],
   "source": [
    "# saving the image prediction data to a tsv file\n",
    "with open('image-predictions.tsv', mode='wb') as file:\n",
    "    file.write(img_res.content)"
   ]
  },
  {
   "cell_type": "markdown",
   "id": "f89be78f",
   "metadata": {},
   "source": [
    "After saving locally, reading it as a DataFrame to be prepared for analysis."
   ]
  },
  {
   "cell_type": "code",
   "execution_count": 5,
   "id": "4aa2f7e2",
   "metadata": {},
   "outputs": [
    {
     "data": {
      "application/vnd.microsoft.datawrangler.viewer.v0+json": {
       "columns": [
        {
         "name": "index",
         "rawType": "int64",
         "type": "integer"
        },
        {
         "name": "tweet_id",
         "rawType": "int64",
         "type": "integer"
        },
        {
         "name": "jpg_url",
         "rawType": "object",
         "type": "string"
        },
        {
         "name": "img_num",
         "rawType": "int64",
         "type": "integer"
        },
        {
         "name": "p1",
         "rawType": "object",
         "type": "string"
        },
        {
         "name": "p1_conf",
         "rawType": "float64",
         "type": "float"
        },
        {
         "name": "p1_dog",
         "rawType": "bool",
         "type": "boolean"
        },
        {
         "name": "p2",
         "rawType": "object",
         "type": "string"
        },
        {
         "name": "p2_conf",
         "rawType": "float64",
         "type": "float"
        },
        {
         "name": "p2_dog",
         "rawType": "bool",
         "type": "boolean"
        },
        {
         "name": "p3",
         "rawType": "object",
         "type": "string"
        },
        {
         "name": "p3_conf",
         "rawType": "float64",
         "type": "float"
        },
        {
         "name": "p3_dog",
         "rawType": "bool",
         "type": "boolean"
        }
       ],
       "conversionMethod": "pd.DataFrame",
       "ref": "3c084787-ee33-43ac-a206-684cfebc5f11",
       "rows": [
        [
         "0",
         "666020888022790149",
         "https://pbs.twimg.com/media/CT4udn0WwAA0aMy.jpg",
         "1",
         "Welsh_springer_spaniel",
         "0.465074",
         "True",
         "collie",
         "0.156665",
         "True",
         "Shetland_sheepdog",
         "0.0614285",
         "True"
        ],
        [
         "1",
         "666029285002620928",
         "https://pbs.twimg.com/media/CT42GRgUYAA5iDo.jpg",
         "1",
         "redbone",
         "0.506826",
         "True",
         "miniature_pinscher",
         "0.0741916999999999",
         "True",
         "Rhodesian_ridgeback",
         "0.07201",
         "True"
        ],
        [
         "2",
         "666033412701032449",
         "https://pbs.twimg.com/media/CT4521TWwAEvMyu.jpg",
         "1",
         "German_shepherd",
         "0.596461",
         "True",
         "malinois",
         "0.1385839999999999",
         "True",
         "bloodhound",
         "0.116197",
         "True"
        ],
        [
         "3",
         "666044226329800704",
         "https://pbs.twimg.com/media/CT5Dr8HUEAA-lEu.jpg",
         "1",
         "Rhodesian_ridgeback",
         "0.408143",
         "True",
         "redbone",
         "0.360687",
         "True",
         "miniature_pinscher",
         "0.222752",
         "True"
        ],
        [
         "4",
         "666049248165822465",
         "https://pbs.twimg.com/media/CT5IQmsXIAAKY4A.jpg",
         "1",
         "miniature_pinscher",
         "0.560311",
         "True",
         "Rottweiler",
         "0.243682",
         "True",
         "Doberman",
         "0.154629",
         "True"
        ],
        [
         "5",
         "666050758794694657",
         "https://pbs.twimg.com/media/CT5Jof1WUAEuVxN.jpg",
         "1",
         "Bernese_mountain_dog",
         "0.651137",
         "True",
         "English_springer",
         "0.263788",
         "True",
         "Greater_Swiss_Mountain_dog",
         "0.0161992",
         "True"
        ],
        [
         "6",
         "666051853826850816",
         "https://pbs.twimg.com/media/CT5KoJ1WoAAJash.jpg",
         "1",
         "box_turtle",
         "0.933012",
         "False",
         "mud_turtle",
         "0.0458854",
         "False",
         "terrapin",
         "0.0178852999999999",
         "False"
        ],
        [
         "7",
         "666055525042405380",
         "https://pbs.twimg.com/media/CT5N9tpXIAAifs1.jpg",
         "1",
         "chow",
         "0.692517",
         "True",
         "Tibetan_mastiff",
         "0.0582793999999999",
         "True",
         "fur_coat",
         "0.0544486",
         "False"
        ],
        [
         "8",
         "666057090499244032",
         "https://pbs.twimg.com/media/CT5PY90WoAAQGLo.jpg",
         "1",
         "shopping_cart",
         "0.962465",
         "False",
         "shopping_basket",
         "0.0145937999999999",
         "False",
         "golden_retriever",
         "0.00795896",
         "True"
        ],
        [
         "9",
         "666058600524156928",
         "https://pbs.twimg.com/media/CT5Qw94XAAA_2dP.jpg",
         "1",
         "miniature_poodle",
         "0.201493",
         "True",
         "komondor",
         "0.192305",
         "True",
         "soft-coated_wheaten_terrier",
         "0.0820861",
         "True"
        ],
        [
         "10",
         "666063827256086533",
         "https://pbs.twimg.com/media/CT5Vg_wXIAAXfnj.jpg",
         "1",
         "golden_retriever",
         "0.77593",
         "True",
         "Tibetan_mastiff",
         "0.0937178",
         "True",
         "Labrador_retriever",
         "0.0724266",
         "True"
        ],
        [
         "11",
         "666071193221509120",
         "https://pbs.twimg.com/media/CT5cN_3WEAAlOoZ.jpg",
         "1",
         "Gordon_setter",
         "0.503672",
         "True",
         "Yorkshire_terrier",
         "0.174201",
         "True",
         "Pekinese",
         "0.109454",
         "True"
        ],
        [
         "12",
         "666073100786774016",
         "https://pbs.twimg.com/media/CT5d9DZXAAALcwe.jpg",
         "1",
         "Walker_hound",
         "0.260857",
         "True",
         "English_foxhound",
         "0.1753819999999999",
         "True",
         "Ibizan_hound",
         "0.0974705",
         "True"
        ],
        [
         "13",
         "666082916733198337",
         "https://pbs.twimg.com/media/CT5m4VGWEAAtKc8.jpg",
         "1",
         "pug",
         "0.489814",
         "True",
         "bull_mastiff",
         "0.4047219999999999",
         "True",
         "French_bulldog",
         "0.0489595",
         "True"
        ],
        [
         "14",
         "666094000022159362",
         "https://pbs.twimg.com/media/CT5w9gUW4AAsBNN.jpg",
         "1",
         "bloodhound",
         "0.195217",
         "True",
         "German_shepherd",
         "0.0782598",
         "True",
         "malinois",
         "0.0756278",
         "True"
        ],
        [
         "15",
         "666099513787052032",
         "https://pbs.twimg.com/media/CT51-JJUEAA6hV8.jpg",
         "1",
         "Lhasa",
         "0.58233",
         "True",
         "Shih-Tzu",
         "0.166192",
         "True",
         "Dandie_Dinmont",
         "0.0896883",
         "True"
        ],
        [
         "16",
         "666102155909144576",
         "https://pbs.twimg.com/media/CT54YGiWUAEZnoK.jpg",
         "1",
         "English_setter",
         "0.298617",
         "True",
         "Newfoundland",
         "0.149842",
         "True",
         "borzoi",
         "0.133649",
         "True"
        ],
        [
         "17",
         "666104133288665088",
         "https://pbs.twimg.com/media/CT56LSZWoAAlJj2.jpg",
         "1",
         "hen",
         "0.965932",
         "False",
         "cock",
         "0.0339194",
         "False",
         "partridge",
         "5.20658e-05",
         "False"
        ],
        [
         "18",
         "666268910803644416",
         "https://pbs.twimg.com/media/CT8QCd1WEAADXws.jpg",
         "1",
         "desktop_computer",
         "0.086502",
         "False",
         "desk",
         "0.0855474",
         "False",
         "bookcase",
         "0.0794797",
         "False"
        ],
        [
         "19",
         "666273097616637952",
         "https://pbs.twimg.com/media/CT8T1mtUwAA3aqm.jpg",
         "1",
         "Italian_greyhound",
         "0.176053",
         "True",
         "toy_terrier",
         "0.111884",
         "True",
         "basenji",
         "0.111152",
         "True"
        ],
        [
         "20",
         "666287406224695296",
         "https://pbs.twimg.com/media/CT8g3BpUEAAuFjg.jpg",
         "1",
         "Maltese_dog",
         "0.8575309999999999",
         "True",
         "toy_poodle",
         "0.0630638",
         "True",
         "miniature_poodle",
         "0.0255806",
         "True"
        ],
        [
         "21",
         "666293911632134144",
         "https://pbs.twimg.com/media/CT8mx7KW4AEQu8N.jpg",
         "1",
         "three-toed_sloth",
         "0.914671",
         "False",
         "otter",
         "0.01525",
         "False",
         "great_grey_owl",
         "0.0132072",
         "False"
        ],
        [
         "22",
         "666337882303524864",
         "https://pbs.twimg.com/media/CT9OwFIWEAMuRje.jpg",
         "1",
         "ox",
         "0.4166689999999999",
         "False",
         "Newfoundland",
         "0.278407",
         "True",
         "groenendael",
         "0.102643",
         "True"
        ],
        [
         "23",
         "666345417576210432",
         "https://pbs.twimg.com/media/CT9Vn7PWoAA_ZCM.jpg",
         "1",
         "golden_retriever",
         "0.8587440000000001",
         "True",
         "Chesapeake_Bay_retriever",
         "0.0547868",
         "True",
         "Labrador_retriever",
         "0.0142408999999999",
         "True"
        ],
        [
         "24",
         "666353288456101888",
         "https://pbs.twimg.com/media/CT9cx0tUEAAhNN_.jpg",
         "1",
         "malamute",
         "0.3368739999999999",
         "True",
         "Siberian_husky",
         "0.147655",
         "True",
         "Eskimo_dog",
         "0.0934123999999999",
         "True"
        ],
        [
         "25",
         "666362758909284353",
         "https://pbs.twimg.com/media/CT9lXGsUcAAyUFt.jpg",
         "1",
         "guinea_pig",
         "0.996496",
         "False",
         "skunk",
         "0.00240245",
         "False",
         "hamster",
         "0.000460863",
         "False"
        ],
        [
         "26",
         "666373753744588802",
         "https://pbs.twimg.com/media/CT9vZEYWUAAlZ05.jpg",
         "1",
         "soft-coated_wheaten_terrier",
         "0.326467",
         "True",
         "Afghan_hound",
         "0.259551",
         "True",
         "briard",
         "0.206803",
         "True"
        ],
        [
         "27",
         "666396247373291520",
         "https://pbs.twimg.com/media/CT-D2ZHWIAA3gK1.jpg",
         "1",
         "Chihuahua",
         "0.978108",
         "True",
         "toy_terrier",
         "0.00939697",
         "True",
         "papillon",
         "0.00457681",
         "True"
        ],
        [
         "28",
         "666407126856765440",
         "https://pbs.twimg.com/media/CT-NvwmW4AAugGZ.jpg",
         "1",
         "black-and-tan_coonhound",
         "0.529139",
         "True",
         "bloodhound",
         "0.24422",
         "True",
         "flat-coated_retriever",
         "0.17381",
         "True"
        ],
        [
         "29",
         "666411507551481857",
         "https://pbs.twimg.com/media/CT-RugiWIAELEaq.jpg",
         "1",
         "coho",
         "0.40464",
         "False",
         "barracouta",
         "0.271485",
         "False",
         "gar",
         "0.189945",
         "False"
        ],
        [
         "30",
         "666418789513326592",
         "https://pbs.twimg.com/media/CT-YWb7U8AA7QnN.jpg",
         "1",
         "toy_terrier",
         "0.14968",
         "True",
         "papillon",
         "0.148258",
         "True",
         "Chihuahua",
         "0.14286",
         "True"
        ],
        [
         "31",
         "666421158376562688",
         "https://pbs.twimg.com/media/CT-aggCXAAIMfT3.jpg",
         "1",
         "Blenheim_spaniel",
         "0.906777",
         "True",
         "cocker_spaniel",
         "0.0903464",
         "True",
         "Shih-Tzu",
         "0.00111687",
         "True"
        ],
        [
         "32",
         "666428276349472768",
         "https://pbs.twimg.com/media/CT-g-0DUwAEQdSn.jpg",
         "1",
         "Pembroke",
         "0.371361",
         "True",
         "chow",
         "0.249394",
         "True",
         "Pomeranian",
         "0.241878",
         "True"
        ],
        [
         "33",
         "666430724426358785",
         "https://pbs.twimg.com/media/CT-jNYqW4AAPi2M.jpg",
         "1",
         "llama",
         "0.505184",
         "False",
         "Irish_terrier",
         "0.104109",
         "True",
         "dingo",
         "0.0620712",
         "False"
        ],
        [
         "34",
         "666435652385423360",
         "https://pbs.twimg.com/media/CT-nsTQWEAEkyDn.jpg",
         "1",
         "Chesapeake_Bay_retriever",
         "0.18413",
         "True",
         "chain_saw",
         "0.0567753",
         "False",
         "power_drill",
         "0.0367634",
         "False"
        ],
        [
         "35",
         "666437273139982337",
         "https://pbs.twimg.com/media/CT-pKmRWIAAxUWj.jpg",
         "1",
         "Chihuahua",
         "0.6718529999999999",
         "True",
         "beagle",
         "0.12468",
         "True",
         "Saluki",
         "0.0440941999999999",
         "True"
        ],
        [
         "36",
         "666447344410484738",
         "https://pbs.twimg.com/media/CT-yU5QWwAEjLX5.jpg",
         "1",
         "curly-coated_retriever",
         "0.322084",
         "True",
         "giant_schnauzer",
         "0.287955",
         "True",
         "Labrador_retriever",
         "0.166331",
         "True"
        ],
        [
         "37",
         "666454714377183233",
         "https://pbs.twimg.com/media/CT-5Bs-WUAA2JeC.jpg",
         "1",
         "dalmatian",
         "0.278954",
         "True",
         "Labrador_retriever",
         "0.237612",
         "True",
         "Great_Pyrenees",
         "0.171106",
         "True"
        ],
        [
         "38",
         "666644823164719104",
         "https://pbs.twimg.com/media/CUBl6IwVAAA9_zT.jpg",
         "1",
         "Ibizan_hound",
         "0.0443334",
         "True",
         "Pembroke",
         "0.0432093",
         "True",
         "West_Highland_white_terrier",
         "0.0389056",
         "True"
        ],
        [
         "39",
         "666649482315059201",
         "https://pbs.twimg.com/media/CUBqKnLWwAA5OQB.jpg",
         "1",
         "Border_collie",
         "0.4478029999999999",
         "True",
         "English_springer",
         "0.170497",
         "True",
         "collie",
         "0.139206",
         "True"
        ],
        [
         "40",
         "666691418707132416",
         "https://pbs.twimg.com/media/CUCQTpEWEAA7EDz.jpg",
         "1",
         "German_shepherd",
         "0.975401",
         "True",
         "beagle",
         "0.00868727",
         "True",
         "bloodhound",
         "0.00539404",
         "True"
        ],
        [
         "41",
         "666701168228331520",
         "https://pbs.twimg.com/media/CUCZLHlUAAAeAig.jpg",
         "1",
         "Labrador_retriever",
         "0.887707",
         "True",
         "Chihuahua",
         "0.029307",
         "True",
         "French_bulldog",
         "0.0207563",
         "True"
        ],
        [
         "42",
         "666739327293083650",
         "https://pbs.twimg.com/media/CUC74aTWoAInZey.jpg",
         "1",
         "miniature_poodle",
         "0.546933",
         "True",
         "cocker_spaniel",
         "0.1652549999999999",
         "True",
         "toy_poodle",
         "0.0959589",
         "True"
        ],
        [
         "43",
         "666776908487630848",
         "https://pbs.twimg.com/media/CUDeDoWUYAAD-EM.jpg",
         "1",
         "seat_belt",
         "0.375057",
         "False",
         "miniature_pinscher",
         "0.167175",
         "True",
         "Chihuahua",
         "0.0869506",
         "True"
        ],
        [
         "44",
         "666781792255496192",
         "https://pbs.twimg.com/media/CUDigRXXIAATI_H.jpg",
         "1",
         "Italian_greyhound",
         "0.618316",
         "True",
         "Weimaraner",
         "0.151363",
         "True",
         "vizsla",
         "0.0859891",
         "True"
        ],
        [
         "45",
         "666786068205871104",
         "https://pbs.twimg.com/media/CUDmZIkWcAAIPPe.jpg",
         "1",
         "snail",
         "0.999888",
         "False",
         "slug",
         "5.51417e-05",
         "False",
         "acorn",
         "2.6258e-05",
         "False"
        ],
        [
         "46",
         "666804364988780544",
         "https://pbs.twimg.com/media/CUD3A7YWoAA82N0.jpg",
         "1",
         "English_setter",
         "0.328792",
         "True",
         "Brittany_spaniel",
         "0.283545",
         "True",
         "Ibizan_hound",
         "0.0574615",
         "True"
        ],
        [
         "47",
         "666817836334096384",
         "https://pbs.twimg.com/media/CUEDSMEWEAAuXVZ.jpg",
         "1",
         "miniature_schnauzer",
         "0.496953",
         "True",
         "standard_schnauzer",
         "0.285276",
         "True",
         "giant_schnauzer",
         "0.0737636999999999",
         "True"
        ],
        [
         "48",
         "666826780179869698",
         "https://pbs.twimg.com/media/CUELa0NUkAAscGC.jpg",
         "1",
         "Maltese_dog",
         "0.359383",
         "True",
         "teddy",
         "0.148759",
         "False",
         "West_Highland_white_terrier",
         "0.1060069999999999",
         "True"
        ],
        [
         "49",
         "666835007768551424",
         "https://pbs.twimg.com/media/CUES51dXIAEahyG.jpg",
         "1",
         "Airedale",
         "0.448459",
         "True",
         "toy_poodle",
         "0.12403",
         "True",
         "teddy",
         "0.1101829999999999",
         "False"
        ]
       ],
       "shape": {
        "columns": 12,
        "rows": 2075
       }
      },
      "text/html": [
       "<div>\n",
       "<style scoped>\n",
       "    .dataframe tbody tr th:only-of-type {\n",
       "        vertical-align: middle;\n",
       "    }\n",
       "\n",
       "    .dataframe tbody tr th {\n",
       "        vertical-align: top;\n",
       "    }\n",
       "\n",
       "    .dataframe thead th {\n",
       "        text-align: right;\n",
       "    }\n",
       "</style>\n",
       "<table border=\"1\" class=\"dataframe\">\n",
       "  <thead>\n",
       "    <tr style=\"text-align: right;\">\n",
       "      <th></th>\n",
       "      <th>tweet_id</th>\n",
       "      <th>jpg_url</th>\n",
       "      <th>img_num</th>\n",
       "      <th>p1</th>\n",
       "      <th>p1_conf</th>\n",
       "      <th>p1_dog</th>\n",
       "      <th>p2</th>\n",
       "      <th>p2_conf</th>\n",
       "      <th>p2_dog</th>\n",
       "      <th>p3</th>\n",
       "      <th>p3_conf</th>\n",
       "      <th>p3_dog</th>\n",
       "    </tr>\n",
       "  </thead>\n",
       "  <tbody>\n",
       "    <tr>\n",
       "      <th>0</th>\n",
       "      <td>666020888022790149</td>\n",
       "      <td>https://pbs.twimg.com/media/CT4udn0WwAA0aMy.jpg</td>\n",
       "      <td>1</td>\n",
       "      <td>Welsh_springer_spaniel</td>\n",
       "      <td>0.465074</td>\n",
       "      <td>True</td>\n",
       "      <td>collie</td>\n",
       "      <td>0.156665</td>\n",
       "      <td>True</td>\n",
       "      <td>Shetland_sheepdog</td>\n",
       "      <td>0.061428</td>\n",
       "      <td>True</td>\n",
       "    </tr>\n",
       "    <tr>\n",
       "      <th>1</th>\n",
       "      <td>666029285002620928</td>\n",
       "      <td>https://pbs.twimg.com/media/CT42GRgUYAA5iDo.jpg</td>\n",
       "      <td>1</td>\n",
       "      <td>redbone</td>\n",
       "      <td>0.506826</td>\n",
       "      <td>True</td>\n",
       "      <td>miniature_pinscher</td>\n",
       "      <td>0.074192</td>\n",
       "      <td>True</td>\n",
       "      <td>Rhodesian_ridgeback</td>\n",
       "      <td>0.072010</td>\n",
       "      <td>True</td>\n",
       "    </tr>\n",
       "    <tr>\n",
       "      <th>2</th>\n",
       "      <td>666033412701032449</td>\n",
       "      <td>https://pbs.twimg.com/media/CT4521TWwAEvMyu.jpg</td>\n",
       "      <td>1</td>\n",
       "      <td>German_shepherd</td>\n",
       "      <td>0.596461</td>\n",
       "      <td>True</td>\n",
       "      <td>malinois</td>\n",
       "      <td>0.138584</td>\n",
       "      <td>True</td>\n",
       "      <td>bloodhound</td>\n",
       "      <td>0.116197</td>\n",
       "      <td>True</td>\n",
       "    </tr>\n",
       "    <tr>\n",
       "      <th>3</th>\n",
       "      <td>666044226329800704</td>\n",
       "      <td>https://pbs.twimg.com/media/CT5Dr8HUEAA-lEu.jpg</td>\n",
       "      <td>1</td>\n",
       "      <td>Rhodesian_ridgeback</td>\n",
       "      <td>0.408143</td>\n",
       "      <td>True</td>\n",
       "      <td>redbone</td>\n",
       "      <td>0.360687</td>\n",
       "      <td>True</td>\n",
       "      <td>miniature_pinscher</td>\n",
       "      <td>0.222752</td>\n",
       "      <td>True</td>\n",
       "    </tr>\n",
       "    <tr>\n",
       "      <th>4</th>\n",
       "      <td>666049248165822465</td>\n",
       "      <td>https://pbs.twimg.com/media/CT5IQmsXIAAKY4A.jpg</td>\n",
       "      <td>1</td>\n",
       "      <td>miniature_pinscher</td>\n",
       "      <td>0.560311</td>\n",
       "      <td>True</td>\n",
       "      <td>Rottweiler</td>\n",
       "      <td>0.243682</td>\n",
       "      <td>True</td>\n",
       "      <td>Doberman</td>\n",
       "      <td>0.154629</td>\n",
       "      <td>True</td>\n",
       "    </tr>\n",
       "    <tr>\n",
       "      <th>...</th>\n",
       "      <td>...</td>\n",
       "      <td>...</td>\n",
       "      <td>...</td>\n",
       "      <td>...</td>\n",
       "      <td>...</td>\n",
       "      <td>...</td>\n",
       "      <td>...</td>\n",
       "      <td>...</td>\n",
       "      <td>...</td>\n",
       "      <td>...</td>\n",
       "      <td>...</td>\n",
       "      <td>...</td>\n",
       "    </tr>\n",
       "    <tr>\n",
       "      <th>2070</th>\n",
       "      <td>891327558926688256</td>\n",
       "      <td>https://pbs.twimg.com/media/DF6hr6BUMAAzZgT.jpg</td>\n",
       "      <td>2</td>\n",
       "      <td>basset</td>\n",
       "      <td>0.555712</td>\n",
       "      <td>True</td>\n",
       "      <td>English_springer</td>\n",
       "      <td>0.225770</td>\n",
       "      <td>True</td>\n",
       "      <td>German_short-haired_pointer</td>\n",
       "      <td>0.175219</td>\n",
       "      <td>True</td>\n",
       "    </tr>\n",
       "    <tr>\n",
       "      <th>2071</th>\n",
       "      <td>891689557279858688</td>\n",
       "      <td>https://pbs.twimg.com/media/DF_q7IAWsAEuuN8.jpg</td>\n",
       "      <td>1</td>\n",
       "      <td>paper_towel</td>\n",
       "      <td>0.170278</td>\n",
       "      <td>False</td>\n",
       "      <td>Labrador_retriever</td>\n",
       "      <td>0.168086</td>\n",
       "      <td>True</td>\n",
       "      <td>spatula</td>\n",
       "      <td>0.040836</td>\n",
       "      <td>False</td>\n",
       "    </tr>\n",
       "    <tr>\n",
       "      <th>2072</th>\n",
       "      <td>891815181378084864</td>\n",
       "      <td>https://pbs.twimg.com/media/DGBdLU1WsAANxJ9.jpg</td>\n",
       "      <td>1</td>\n",
       "      <td>Chihuahua</td>\n",
       "      <td>0.716012</td>\n",
       "      <td>True</td>\n",
       "      <td>malamute</td>\n",
       "      <td>0.078253</td>\n",
       "      <td>True</td>\n",
       "      <td>kelpie</td>\n",
       "      <td>0.031379</td>\n",
       "      <td>True</td>\n",
       "    </tr>\n",
       "    <tr>\n",
       "      <th>2073</th>\n",
       "      <td>892177421306343426</td>\n",
       "      <td>https://pbs.twimg.com/media/DGGmoV4XsAAUL6n.jpg</td>\n",
       "      <td>1</td>\n",
       "      <td>Chihuahua</td>\n",
       "      <td>0.323581</td>\n",
       "      <td>True</td>\n",
       "      <td>Pekinese</td>\n",
       "      <td>0.090647</td>\n",
       "      <td>True</td>\n",
       "      <td>papillon</td>\n",
       "      <td>0.068957</td>\n",
       "      <td>True</td>\n",
       "    </tr>\n",
       "    <tr>\n",
       "      <th>2074</th>\n",
       "      <td>892420643555336193</td>\n",
       "      <td>https://pbs.twimg.com/media/DGKD1-bXoAAIAUK.jpg</td>\n",
       "      <td>1</td>\n",
       "      <td>orange</td>\n",
       "      <td>0.097049</td>\n",
       "      <td>False</td>\n",
       "      <td>bagel</td>\n",
       "      <td>0.085851</td>\n",
       "      <td>False</td>\n",
       "      <td>banana</td>\n",
       "      <td>0.076110</td>\n",
       "      <td>False</td>\n",
       "    </tr>\n",
       "  </tbody>\n",
       "</table>\n",
       "<p>2075 rows × 12 columns</p>\n",
       "</div>"
      ],
      "text/plain": [
       "                tweet_id                                          jpg_url  \\\n",
       "0     666020888022790149  https://pbs.twimg.com/media/CT4udn0WwAA0aMy.jpg   \n",
       "1     666029285002620928  https://pbs.twimg.com/media/CT42GRgUYAA5iDo.jpg   \n",
       "2     666033412701032449  https://pbs.twimg.com/media/CT4521TWwAEvMyu.jpg   \n",
       "3     666044226329800704  https://pbs.twimg.com/media/CT5Dr8HUEAA-lEu.jpg   \n",
       "4     666049248165822465  https://pbs.twimg.com/media/CT5IQmsXIAAKY4A.jpg   \n",
       "...                  ...                                              ...   \n",
       "2070  891327558926688256  https://pbs.twimg.com/media/DF6hr6BUMAAzZgT.jpg   \n",
       "2071  891689557279858688  https://pbs.twimg.com/media/DF_q7IAWsAEuuN8.jpg   \n",
       "2072  891815181378084864  https://pbs.twimg.com/media/DGBdLU1WsAANxJ9.jpg   \n",
       "2073  892177421306343426  https://pbs.twimg.com/media/DGGmoV4XsAAUL6n.jpg   \n",
       "2074  892420643555336193  https://pbs.twimg.com/media/DGKD1-bXoAAIAUK.jpg   \n",
       "\n",
       "      img_num                      p1   p1_conf  p1_dog                  p2  \\\n",
       "0           1  Welsh_springer_spaniel  0.465074    True              collie   \n",
       "1           1                 redbone  0.506826    True  miniature_pinscher   \n",
       "2           1         German_shepherd  0.596461    True            malinois   \n",
       "3           1     Rhodesian_ridgeback  0.408143    True             redbone   \n",
       "4           1      miniature_pinscher  0.560311    True          Rottweiler   \n",
       "...       ...                     ...       ...     ...                 ...   \n",
       "2070        2                  basset  0.555712    True    English_springer   \n",
       "2071        1             paper_towel  0.170278   False  Labrador_retriever   \n",
       "2072        1               Chihuahua  0.716012    True            malamute   \n",
       "2073        1               Chihuahua  0.323581    True            Pekinese   \n",
       "2074        1                  orange  0.097049   False               bagel   \n",
       "\n",
       "       p2_conf  p2_dog                           p3   p3_conf  p3_dog  \n",
       "0     0.156665    True            Shetland_sheepdog  0.061428    True  \n",
       "1     0.074192    True          Rhodesian_ridgeback  0.072010    True  \n",
       "2     0.138584    True                   bloodhound  0.116197    True  \n",
       "3     0.360687    True           miniature_pinscher  0.222752    True  \n",
       "4     0.243682    True                     Doberman  0.154629    True  \n",
       "...        ...     ...                          ...       ...     ...  \n",
       "2070  0.225770    True  German_short-haired_pointer  0.175219    True  \n",
       "2071  0.168086    True                      spatula  0.040836   False  \n",
       "2072  0.078253    True                       kelpie  0.031379    True  \n",
       "2073  0.090647    True                     papillon  0.068957    True  \n",
       "2074  0.085851   False                       banana  0.076110   False  \n",
       "\n",
       "[2075 rows x 12 columns]"
      ]
     },
     "execution_count": 5,
     "metadata": {},
     "output_type": "execute_result"
    }
   ],
   "source": [
    "# reading and storing image prediction data in a dataframe\n",
    "img_data = pd.read_csv('image-predictions.tsv', sep='\\t')\n",
    "img_data"
   ]
  },
  {
   "cell_type": "markdown",
   "id": "dc9fe17c",
   "metadata": {},
   "source": [
    "Getting the third dataset from the given `.txt` file which contains many `JSON` objects for all tweets to extract more information about each one from that file."
   ]
  },
  {
   "cell_type": "code",
   "execution_count": 6,
   "id": "c56f963f",
   "metadata": {},
   "outputs": [
    {
     "data": {
      "application/vnd.microsoft.datawrangler.viewer.v0+json": {
       "columns": [
        {
         "name": "index",
         "rawType": "int64",
         "type": "integer"
        },
        {
         "name": "id",
         "rawType": "int64",
         "type": "integer"
        },
        {
         "name": "created_at",
         "rawType": "object",
         "type": "string"
        },
        {
         "name": "retweet_count",
         "rawType": "int64",
         "type": "integer"
        },
        {
         "name": "favorite_count",
         "rawType": "int64",
         "type": "integer"
        }
       ],
       "conversionMethod": "pd.DataFrame",
       "ref": "3319d0c2-4391-43d5-a2eb-de9cf3244643",
       "rows": [
        [
         "0",
         "892420643555336193",
         "Tue Aug 01 16:23:56 +0000 2017",
         "8853",
         "39467"
        ],
        [
         "1",
         "892177421306343426",
         "Tue Aug 01 00:17:27 +0000 2017",
         "6514",
         "33819"
        ],
        [
         "2",
         "891815181378084864",
         "Mon Jul 31 00:18:03 +0000 2017",
         "4328",
         "25461"
        ],
        [
         "3",
         "891689557279858688",
         "Sun Jul 30 15:58:51 +0000 2017",
         "8964",
         "42908"
        ],
        [
         "4",
         "891327558926688256",
         "Sat Jul 29 16:00:24 +0000 2017",
         "9774",
         "41048"
        ],
        [
         "5",
         "891087950875897856",
         "Sat Jul 29 00:08:17 +0000 2017",
         "3261",
         "20562"
        ],
        [
         "6",
         "890971913173991426",
         "Fri Jul 28 16:27:12 +0000 2017",
         "2158",
         "12041"
        ],
        [
         "7",
         "890729181411237888",
         "Fri Jul 28 00:22:40 +0000 2017",
         "16716",
         "56848"
        ],
        [
         "8",
         "890609185150312448",
         "Thu Jul 27 16:25:51 +0000 2017",
         "4429",
         "28226"
        ],
        [
         "9",
         "890240255349198849",
         "Wed Jul 26 15:59:51 +0000 2017",
         "7711",
         "32467"
        ],
        [
         "10",
         "890006608113172480",
         "Wed Jul 26 00:31:25 +0000 2017",
         "7624",
         "31166"
        ],
        [
         "11",
         "889880896479866881",
         "Tue Jul 25 16:11:53 +0000 2017",
         "5156",
         "28268"
        ],
        [
         "12",
         "889665388333682689",
         "Tue Jul 25 01:55:32 +0000 2017",
         "8538",
         "38818"
        ],
        [
         "13",
         "889638837579907072",
         "Tue Jul 25 00:10:02 +0000 2017",
         "4735",
         "27672"
        ],
        [
         "14",
         "889531135344209921",
         "Mon Jul 24 17:02:04 +0000 2017",
         "2321",
         "15359"
        ],
        [
         "15",
         "889278841981685760",
         "Mon Jul 24 00:19:32 +0000 2017",
         "5637",
         "25652"
        ],
        [
         "16",
         "888917238123831296",
         "Sun Jul 23 00:22:39 +0000 2017",
         "4709",
         "29611"
        ],
        [
         "17",
         "888804989199671297",
         "Sat Jul 22 16:56:37 +0000 2017",
         "4559",
         "26080"
        ],
        [
         "18",
         "888554962724278272",
         "Sat Jul 22 00:23:06 +0000 2017",
         "3732",
         "20290"
        ],
        [
         "19",
         "888078434458587136",
         "Thu Jul 20 16:49:33 +0000 2017",
         "3653",
         "22201"
        ],
        [
         "20",
         "887705289381826560",
         "Wed Jul 19 16:06:48 +0000 2017",
         "5609",
         "30779"
        ],
        [
         "21",
         "887517139158093824",
         "Wed Jul 19 03:39:09 +0000 2017",
         "12082",
         "46959"
        ],
        [
         "22",
         "887473957103951883",
         "Wed Jul 19 00:47:34 +0000 2017",
         "18781",
         "69871"
        ],
        [
         "23",
         "887343217045368832",
         "Tue Jul 18 16:08:03 +0000 2017",
         "10737",
         "34222"
        ],
        [
         "24",
         "887101392804085760",
         "Tue Jul 18 00:07:08 +0000 2017",
         "6167",
         "31061"
        ],
        [
         "25",
         "886983233522544640",
         "Mon Jul 17 16:17:36 +0000 2017",
         "8084",
         "35859"
        ],
        [
         "26",
         "886736880519319552",
         "Sun Jul 16 23:58:41 +0000 2017",
         "3443",
         "12306"
        ],
        [
         "27",
         "886680336477933568",
         "Sun Jul 16 20:14:00 +0000 2017",
         "4610",
         "22798"
        ],
        [
         "28",
         "886366144734445568",
         "Sat Jul 15 23:25:31 +0000 2017",
         "3316",
         "21524"
        ],
        [
         "29",
         "886267009285017600",
         "Sat Jul 15 16:51:35 +0000 2017",
         "4",
         "117"
        ],
        [
         "30",
         "886258384151887873",
         "Sat Jul 15 16:17:19 +0000 2017",
         "6523",
         "28469"
        ],
        [
         "31",
         "886054160059072513",
         "Sat Jul 15 02:45:48 +0000 2017",
         "108",
         "0"
        ],
        [
         "32",
         "885984800019947520",
         "Fri Jul 14 22:10:11 +0000 2017",
         "7097",
         "33382"
        ],
        [
         "33",
         "885528943205470208",
         "Thu Jul 13 15:58:47 +0000 2017",
         "6683",
         "36689"
        ],
        [
         "34",
         "885518971528720385",
         "Thu Jul 13 15:19:09 +0000 2017",
         "3899",
         "20788"
        ],
        [
         "35",
         "885311592912609280",
         "Thu Jul 13 01:35:06 +0000 2017",
         "19297",
         "0"
        ],
        [
         "36",
         "885167619883638784",
         "Wed Jul 12 16:03:00 +0000 2017",
         "4556",
         "22367"
        ],
        [
         "37",
         "884925521741709313",
         "Wed Jul 12 00:01:00 +0000 2017",
         "16439",
         "68152"
        ],
        [
         "38",
         "884876753390489601",
         "Tue Jul 11 20:47:12 +0000 2017",
         "6096",
         "28514"
        ],
        [
         "39",
         "884562892145688576",
         "Tue Jul 11 00:00:02 +0000 2017",
         "5100",
         "24765"
        ],
        [
         "40",
         "884441805382717440",
         "Mon Jul 10 15:58:53 +0000 2017",
         "5856",
         "27478"
        ],
        [
         "41",
         "884247878851493888",
         "Mon Jul 10 03:08:17 +0000 2017",
         "21298",
         "74423"
        ],
        [
         "42",
         "884162670584377345",
         "Sun Jul 09 21:29:42 +0000 2017",
         "3128",
         "20771"
        ],
        [
         "43",
         "883838122936631299",
         "Sun Jul 09 00:00:04 +0000 2017",
         "3586",
         "22349"
        ],
        [
         "44",
         "883482846933004288",
         "Sat Jul 08 00:28:19 +0000 2017",
         "10407",
         "46860"
        ],
        [
         "45",
         "883360690899218434",
         "Fri Jul 07 16:22:55 +0000 2017",
         "3825",
         "22986"
        ],
        [
         "46",
         "883117836046086144",
         "Fri Jul 07 00:17:54 +0000 2017",
         "6949",
         "37914"
        ],
        [
         "47",
         "882992080364220416",
         "Thu Jul 06 15:58:11 +0000 2017",
         "4122",
         "24445"
        ],
        [
         "48",
         "882762694511734784",
         "Thu Jul 06 00:46:41 +0000 2017",
         "5134",
         "28903"
        ],
        [
         "49",
         "882627270321602560",
         "Wed Jul 05 15:48:34 +0000 2017",
         "6342",
         "28382"
        ]
       ],
       "shape": {
        "columns": 4,
        "rows": 2354
       }
      },
      "text/html": [
       "<div>\n",
       "<style scoped>\n",
       "    .dataframe tbody tr th:only-of-type {\n",
       "        vertical-align: middle;\n",
       "    }\n",
       "\n",
       "    .dataframe tbody tr th {\n",
       "        vertical-align: top;\n",
       "    }\n",
       "\n",
       "    .dataframe thead th {\n",
       "        text-align: right;\n",
       "    }\n",
       "</style>\n",
       "<table border=\"1\" class=\"dataframe\">\n",
       "  <thead>\n",
       "    <tr style=\"text-align: right;\">\n",
       "      <th></th>\n",
       "      <th>id</th>\n",
       "      <th>created_at</th>\n",
       "      <th>retweet_count</th>\n",
       "      <th>favorite_count</th>\n",
       "    </tr>\n",
       "  </thead>\n",
       "  <tbody>\n",
       "    <tr>\n",
       "      <th>0</th>\n",
       "      <td>892420643555336193</td>\n",
       "      <td>Tue Aug 01 16:23:56 +0000 2017</td>\n",
       "      <td>8853</td>\n",
       "      <td>39467</td>\n",
       "    </tr>\n",
       "    <tr>\n",
       "      <th>1</th>\n",
       "      <td>892177421306343426</td>\n",
       "      <td>Tue Aug 01 00:17:27 +0000 2017</td>\n",
       "      <td>6514</td>\n",
       "      <td>33819</td>\n",
       "    </tr>\n",
       "    <tr>\n",
       "      <th>2</th>\n",
       "      <td>891815181378084864</td>\n",
       "      <td>Mon Jul 31 00:18:03 +0000 2017</td>\n",
       "      <td>4328</td>\n",
       "      <td>25461</td>\n",
       "    </tr>\n",
       "    <tr>\n",
       "      <th>3</th>\n",
       "      <td>891689557279858688</td>\n",
       "      <td>Sun Jul 30 15:58:51 +0000 2017</td>\n",
       "      <td>8964</td>\n",
       "      <td>42908</td>\n",
       "    </tr>\n",
       "    <tr>\n",
       "      <th>4</th>\n",
       "      <td>891327558926688256</td>\n",
       "      <td>Sat Jul 29 16:00:24 +0000 2017</td>\n",
       "      <td>9774</td>\n",
       "      <td>41048</td>\n",
       "    </tr>\n",
       "    <tr>\n",
       "      <th>...</th>\n",
       "      <td>...</td>\n",
       "      <td>...</td>\n",
       "      <td>...</td>\n",
       "      <td>...</td>\n",
       "    </tr>\n",
       "    <tr>\n",
       "      <th>2349</th>\n",
       "      <td>666049248165822465</td>\n",
       "      <td>Mon Nov 16 00:24:50 +0000 2015</td>\n",
       "      <td>41</td>\n",
       "      <td>111</td>\n",
       "    </tr>\n",
       "    <tr>\n",
       "      <th>2350</th>\n",
       "      <td>666044226329800704</td>\n",
       "      <td>Mon Nov 16 00:04:52 +0000 2015</td>\n",
       "      <td>147</td>\n",
       "      <td>311</td>\n",
       "    </tr>\n",
       "    <tr>\n",
       "      <th>2351</th>\n",
       "      <td>666033412701032449</td>\n",
       "      <td>Sun Nov 15 23:21:54 +0000 2015</td>\n",
       "      <td>47</td>\n",
       "      <td>128</td>\n",
       "    </tr>\n",
       "    <tr>\n",
       "      <th>2352</th>\n",
       "      <td>666029285002620928</td>\n",
       "      <td>Sun Nov 15 23:05:30 +0000 2015</td>\n",
       "      <td>48</td>\n",
       "      <td>132</td>\n",
       "    </tr>\n",
       "    <tr>\n",
       "      <th>2353</th>\n",
       "      <td>666020888022790149</td>\n",
       "      <td>Sun Nov 15 22:32:08 +0000 2015</td>\n",
       "      <td>532</td>\n",
       "      <td>2535</td>\n",
       "    </tr>\n",
       "  </tbody>\n",
       "</table>\n",
       "<p>2354 rows × 4 columns</p>\n",
       "</div>"
      ],
      "text/plain": [
       "                      id                      created_at  retweet_count  \\\n",
       "0     892420643555336193  Tue Aug 01 16:23:56 +0000 2017           8853   \n",
       "1     892177421306343426  Tue Aug 01 00:17:27 +0000 2017           6514   \n",
       "2     891815181378084864  Mon Jul 31 00:18:03 +0000 2017           4328   \n",
       "3     891689557279858688  Sun Jul 30 15:58:51 +0000 2017           8964   \n",
       "4     891327558926688256  Sat Jul 29 16:00:24 +0000 2017           9774   \n",
       "...                  ...                             ...            ...   \n",
       "2349  666049248165822465  Mon Nov 16 00:24:50 +0000 2015             41   \n",
       "2350  666044226329800704  Mon Nov 16 00:04:52 +0000 2015            147   \n",
       "2351  666033412701032449  Sun Nov 15 23:21:54 +0000 2015             47   \n",
       "2352  666029285002620928  Sun Nov 15 23:05:30 +0000 2015             48   \n",
       "2353  666020888022790149  Sun Nov 15 22:32:08 +0000 2015            532   \n",
       "\n",
       "      favorite_count  \n",
       "0              39467  \n",
       "1              33819  \n",
       "2              25461  \n",
       "3              42908  \n",
       "4              41048  \n",
       "...              ...  \n",
       "2349             111  \n",
       "2350             311  \n",
       "2351             128  \n",
       "2352             132  \n",
       "2353            2535  \n",
       "\n",
       "[2354 rows x 4 columns]"
      ]
     },
     "execution_count": 6,
     "metadata": {},
     "output_type": "execute_result"
    }
   ],
   "source": [
    "# reading the twitter json data from the file line by line and storing it in a dataframe\n",
    "with open(\"tweet-json.txt\", \"r\") as file:\n",
    "    tweets = [json.loads(line) for line in file]\n",
    "    tweets_data = pd.DataFrame(tweets, columns=['id', 'created_at', 'retweet_count', 'favorite_count'])\n",
    "\n",
    "tweets_data"
   ]
  },
  {
   "cell_type": "markdown",
   "id": "3fa7359c",
   "metadata": {},
   "source": [
    "The code above reads each line of the file of `JSON` objects, converts it to a dictionary, and then creates a DataFrame from the list of dictionaries. The DataFrame contains the tweet ID, creation date, retweet count, and favorite count for each tweet. This is useful for analyzing the engagement metrics of the tweets in the dataset.\n",
    "\n",
    "Now, I've gathered three datasets and turned them into DataFrames each one contains different kind of data."
   ]
  },
  {
   "cell_type": "markdown",
   "id": "72e867f8",
   "metadata": {},
   "source": [
    "### Assessing Data\n",
    "Here I will assess the the datasets I have gathered above to define quality and tidiness issues.\n",
    "The assessment process includes:\n",
    "- Visual Assessment\n",
    "- Programmatic Assessment\n",
    "- Assessment Report"
   ]
  },
  {
   "cell_type": "markdown",
   "id": "1ee1e306",
   "metadata": {},
   "source": [
    "#### Visual Assessment\n",
    "\n",
    "Displaying each dataset with different methods to valuate them and find any noticeable issues."
   ]
  },
  {
   "cell_type": "markdown",
   "id": "f94a0f20",
   "metadata": {},
   "source": [
    "##### Twitter Archive Dataset"
   ]
  },
  {
   "cell_type": "code",
   "execution_count": 7,
   "id": "6772bea0",
   "metadata": {},
   "outputs": [
    {
     "data": {
      "application/vnd.microsoft.datawrangler.viewer.v0+json": {
       "columns": [
        {
         "name": "index",
         "rawType": "int64",
         "type": "integer"
        },
        {
         "name": "tweet_id",
         "rawType": "int64",
         "type": "integer"
        },
        {
         "name": "in_reply_to_status_id",
         "rawType": "float64",
         "type": "float"
        },
        {
         "name": "in_reply_to_user_id",
         "rawType": "float64",
         "type": "float"
        },
        {
         "name": "timestamp",
         "rawType": "object",
         "type": "string"
        },
        {
         "name": "source",
         "rawType": "object",
         "type": "string"
        },
        {
         "name": "text",
         "rawType": "object",
         "type": "string"
        },
        {
         "name": "retweeted_status_id",
         "rawType": "float64",
         "type": "float"
        },
        {
         "name": "retweeted_status_user_id",
         "rawType": "float64",
         "type": "float"
        },
        {
         "name": "retweeted_status_timestamp",
         "rawType": "object",
         "type": "unknown"
        },
        {
         "name": "expanded_urls",
         "rawType": "object",
         "type": "string"
        },
        {
         "name": "rating_numerator",
         "rawType": "int64",
         "type": "integer"
        },
        {
         "name": "rating_denominator",
         "rawType": "int64",
         "type": "integer"
        },
        {
         "name": "name",
         "rawType": "object",
         "type": "unknown"
        },
        {
         "name": "doggo",
         "rawType": "object",
         "type": "unknown"
        },
        {
         "name": "floofer",
         "rawType": "object",
         "type": "unknown"
        },
        {
         "name": "pupper",
         "rawType": "object",
         "type": "unknown"
        },
        {
         "name": "puppo",
         "rawType": "object",
         "type": "unknown"
        }
       ],
       "conversionMethod": "pd.DataFrame",
       "ref": "8dccf397-d5a8-4f66-8bb6-0507fd55de8d",
       "rows": [
        [
         "0",
         "892420643555336193",
         null,
         null,
         "2017-08-01 16:23:56 +0000",
         "<a href=\"http://twitter.com/download/iphone\" rel=\"nofollow\">Twitter for iPhone</a>",
         "This is Phineas. He's a mystical boy. Only ever appears in the hole of a donut. 13/10 https://t.co/MgUWQ76dJU",
         null,
         null,
         null,
         "https://twitter.com/dog_rates/status/892420643555336193/photo/1",
         "13",
         "10",
         "Phineas",
         null,
         null,
         null,
         null
        ],
        [
         "1",
         "892177421306343426",
         null,
         null,
         "2017-08-01 00:17:27 +0000",
         "<a href=\"http://twitter.com/download/iphone\" rel=\"nofollow\">Twitter for iPhone</a>",
         "This is Tilly. She's just checking pup on you. Hopes you're doing ok. If not, she's available for pats, snugs, boops, the whole bit. 13/10 https://t.co/0Xxu71qeIV",
         null,
         null,
         null,
         "https://twitter.com/dog_rates/status/892177421306343426/photo/1",
         "13",
         "10",
         "Tilly",
         null,
         null,
         null,
         null
        ],
        [
         "2",
         "891815181378084864",
         null,
         null,
         "2017-07-31 00:18:03 +0000",
         "<a href=\"http://twitter.com/download/iphone\" rel=\"nofollow\">Twitter for iPhone</a>",
         "This is Archie. He is a rare Norwegian Pouncing Corgo. Lives in the tall grass. You never know when one may strike. 12/10 https://t.co/wUnZnhtVJB",
         null,
         null,
         null,
         "https://twitter.com/dog_rates/status/891815181378084864/photo/1",
         "12",
         "10",
         "Archie",
         null,
         null,
         null,
         null
        ],
        [
         "3",
         "891689557279858688",
         null,
         null,
         "2017-07-30 15:58:51 +0000",
         "<a href=\"http://twitter.com/download/iphone\" rel=\"nofollow\">Twitter for iPhone</a>",
         "This is Darla. She commenced a snooze mid meal. 13/10 happens to the best of us https://t.co/tD36da7qLQ",
         null,
         null,
         null,
         "https://twitter.com/dog_rates/status/891689557279858688/photo/1",
         "13",
         "10",
         "Darla",
         null,
         null,
         null,
         null
        ],
        [
         "4",
         "891327558926688256",
         null,
         null,
         "2017-07-29 16:00:24 +0000",
         "<a href=\"http://twitter.com/download/iphone\" rel=\"nofollow\">Twitter for iPhone</a>",
         "This is Franklin. He would like you to stop calling him \"cute.\" He is a very fierce shark and should be respected as such. 12/10 #BarkWeek https://t.co/AtUZn91f7f",
         null,
         null,
         null,
         "https://twitter.com/dog_rates/status/891327558926688256/photo/1,https://twitter.com/dog_rates/status/891327558926688256/photo/1",
         "12",
         "10",
         "Franklin",
         null,
         null,
         null,
         null
        ],
        [
         "5",
         "891087950875897856",
         null,
         null,
         "2017-07-29 00:08:17 +0000",
         "<a href=\"http://twitter.com/download/iphone\" rel=\"nofollow\">Twitter for iPhone</a>",
         "Here we have a majestic great white breaching off South Africa's coast. Absolutely h*ckin breathtaking. 13/10 (IG: tucker_marlo) #BarkWeek https://t.co/kQ04fDDRmh",
         null,
         null,
         null,
         "https://twitter.com/dog_rates/status/891087950875897856/photo/1",
         "13",
         "10",
         null,
         null,
         null,
         null,
         null
        ],
        [
         "6",
         "890971913173991426",
         null,
         null,
         "2017-07-28 16:27:12 +0000",
         "<a href=\"http://twitter.com/download/iphone\" rel=\"nofollow\">Twitter for iPhone</a>",
         "Meet Jax. He enjoys ice cream so much he gets nervous around it. 13/10 help Jax enjoy more things by clicking below\n\nhttps://t.co/Zr4hWfAs1H https://t.co/tVJBRMnhxl",
         null,
         null,
         null,
         "https://gofundme.com/ydvmve-surgery-for-jax,https://twitter.com/dog_rates/status/890971913173991426/photo/1",
         "13",
         "10",
         "Jax",
         null,
         null,
         null,
         null
        ],
        [
         "7",
         "890729181411237888",
         null,
         null,
         "2017-07-28 00:22:40 +0000",
         "<a href=\"http://twitter.com/download/iphone\" rel=\"nofollow\">Twitter for iPhone</a>",
         "When you watch your owner call another dog a good boy but then they turn back to you and say you're a great boy. 13/10 https://t.co/v0nONBcwxq",
         null,
         null,
         null,
         "https://twitter.com/dog_rates/status/890729181411237888/photo/1,https://twitter.com/dog_rates/status/890729181411237888/photo/1",
         "13",
         "10",
         null,
         null,
         null,
         null,
         null
        ],
        [
         "8",
         "890609185150312448",
         null,
         null,
         "2017-07-27 16:25:51 +0000",
         "<a href=\"http://twitter.com/download/iphone\" rel=\"nofollow\">Twitter for iPhone</a>",
         "This is Zoey. She doesn't want to be one of the scary sharks. Just wants to be a snuggly pettable boatpet. 13/10 #BarkWeek https://t.co/9TwLuAGH0b",
         null,
         null,
         null,
         "https://twitter.com/dog_rates/status/890609185150312448/photo/1",
         "13",
         "10",
         "Zoey",
         null,
         null,
         null,
         null
        ],
        [
         "9",
         "890240255349198849",
         null,
         null,
         "2017-07-26 15:59:51 +0000",
         "<a href=\"http://twitter.com/download/iphone\" rel=\"nofollow\">Twitter for iPhone</a>",
         "This is Cassie. She is a college pup. Studying international doggo communication and stick theory. 14/10 so elegant much sophisticate https://t.co/t1bfwz5S2A",
         null,
         null,
         null,
         "https://twitter.com/dog_rates/status/890240255349198849/photo/1",
         "14",
         "10",
         "Cassie",
         "doggo",
         null,
         null,
         null
        ]
       ],
       "shape": {
        "columns": 17,
        "rows": 10
       }
      },
      "text/html": [
       "<div>\n",
       "<style scoped>\n",
       "    .dataframe tbody tr th:only-of-type {\n",
       "        vertical-align: middle;\n",
       "    }\n",
       "\n",
       "    .dataframe tbody tr th {\n",
       "        vertical-align: top;\n",
       "    }\n",
       "\n",
       "    .dataframe thead th {\n",
       "        text-align: right;\n",
       "    }\n",
       "</style>\n",
       "<table border=\"1\" class=\"dataframe\">\n",
       "  <thead>\n",
       "    <tr style=\"text-align: right;\">\n",
       "      <th></th>\n",
       "      <th>tweet_id</th>\n",
       "      <th>in_reply_to_status_id</th>\n",
       "      <th>in_reply_to_user_id</th>\n",
       "      <th>timestamp</th>\n",
       "      <th>source</th>\n",
       "      <th>text</th>\n",
       "      <th>retweeted_status_id</th>\n",
       "      <th>retweeted_status_user_id</th>\n",
       "      <th>retweeted_status_timestamp</th>\n",
       "      <th>expanded_urls</th>\n",
       "      <th>rating_numerator</th>\n",
       "      <th>rating_denominator</th>\n",
       "      <th>name</th>\n",
       "      <th>doggo</th>\n",
       "      <th>floofer</th>\n",
       "      <th>pupper</th>\n",
       "      <th>puppo</th>\n",
       "    </tr>\n",
       "  </thead>\n",
       "  <tbody>\n",
       "    <tr>\n",
       "      <th>0</th>\n",
       "      <td>892420643555336193</td>\n",
       "      <td>NaN</td>\n",
       "      <td>NaN</td>\n",
       "      <td>2017-08-01 16:23:56 +0000</td>\n",
       "      <td>&lt;a href=\"http://twitter.com/download/iphone\" r...</td>\n",
       "      <td>This is Phineas. He's a mystical boy. Only eve...</td>\n",
       "      <td>NaN</td>\n",
       "      <td>NaN</td>\n",
       "      <td>NaN</td>\n",
       "      <td>https://twitter.com/dog_rates/status/892420643...</td>\n",
       "      <td>13</td>\n",
       "      <td>10</td>\n",
       "      <td>Phineas</td>\n",
       "      <td>NaN</td>\n",
       "      <td>NaN</td>\n",
       "      <td>NaN</td>\n",
       "      <td>NaN</td>\n",
       "    </tr>\n",
       "    <tr>\n",
       "      <th>1</th>\n",
       "      <td>892177421306343426</td>\n",
       "      <td>NaN</td>\n",
       "      <td>NaN</td>\n",
       "      <td>2017-08-01 00:17:27 +0000</td>\n",
       "      <td>&lt;a href=\"http://twitter.com/download/iphone\" r...</td>\n",
       "      <td>This is Tilly. She's just checking pup on you....</td>\n",
       "      <td>NaN</td>\n",
       "      <td>NaN</td>\n",
       "      <td>NaN</td>\n",
       "      <td>https://twitter.com/dog_rates/status/892177421...</td>\n",
       "      <td>13</td>\n",
       "      <td>10</td>\n",
       "      <td>Tilly</td>\n",
       "      <td>NaN</td>\n",
       "      <td>NaN</td>\n",
       "      <td>NaN</td>\n",
       "      <td>NaN</td>\n",
       "    </tr>\n",
       "    <tr>\n",
       "      <th>2</th>\n",
       "      <td>891815181378084864</td>\n",
       "      <td>NaN</td>\n",
       "      <td>NaN</td>\n",
       "      <td>2017-07-31 00:18:03 +0000</td>\n",
       "      <td>&lt;a href=\"http://twitter.com/download/iphone\" r...</td>\n",
       "      <td>This is Archie. He is a rare Norwegian Pouncin...</td>\n",
       "      <td>NaN</td>\n",
       "      <td>NaN</td>\n",
       "      <td>NaN</td>\n",
       "      <td>https://twitter.com/dog_rates/status/891815181...</td>\n",
       "      <td>12</td>\n",
       "      <td>10</td>\n",
       "      <td>Archie</td>\n",
       "      <td>NaN</td>\n",
       "      <td>NaN</td>\n",
       "      <td>NaN</td>\n",
       "      <td>NaN</td>\n",
       "    </tr>\n",
       "    <tr>\n",
       "      <th>3</th>\n",
       "      <td>891689557279858688</td>\n",
       "      <td>NaN</td>\n",
       "      <td>NaN</td>\n",
       "      <td>2017-07-30 15:58:51 +0000</td>\n",
       "      <td>&lt;a href=\"http://twitter.com/download/iphone\" r...</td>\n",
       "      <td>This is Darla. She commenced a snooze mid meal...</td>\n",
       "      <td>NaN</td>\n",
       "      <td>NaN</td>\n",
       "      <td>NaN</td>\n",
       "      <td>https://twitter.com/dog_rates/status/891689557...</td>\n",
       "      <td>13</td>\n",
       "      <td>10</td>\n",
       "      <td>Darla</td>\n",
       "      <td>NaN</td>\n",
       "      <td>NaN</td>\n",
       "      <td>NaN</td>\n",
       "      <td>NaN</td>\n",
       "    </tr>\n",
       "    <tr>\n",
       "      <th>4</th>\n",
       "      <td>891327558926688256</td>\n",
       "      <td>NaN</td>\n",
       "      <td>NaN</td>\n",
       "      <td>2017-07-29 16:00:24 +0000</td>\n",
       "      <td>&lt;a href=\"http://twitter.com/download/iphone\" r...</td>\n",
       "      <td>This is Franklin. He would like you to stop ca...</td>\n",
       "      <td>NaN</td>\n",
       "      <td>NaN</td>\n",
       "      <td>NaN</td>\n",
       "      <td>https://twitter.com/dog_rates/status/891327558...</td>\n",
       "      <td>12</td>\n",
       "      <td>10</td>\n",
       "      <td>Franklin</td>\n",
       "      <td>NaN</td>\n",
       "      <td>NaN</td>\n",
       "      <td>NaN</td>\n",
       "      <td>NaN</td>\n",
       "    </tr>\n",
       "    <tr>\n",
       "      <th>5</th>\n",
       "      <td>891087950875897856</td>\n",
       "      <td>NaN</td>\n",
       "      <td>NaN</td>\n",
       "      <td>2017-07-29 00:08:17 +0000</td>\n",
       "      <td>&lt;a href=\"http://twitter.com/download/iphone\" r...</td>\n",
       "      <td>Here we have a majestic great white breaching ...</td>\n",
       "      <td>NaN</td>\n",
       "      <td>NaN</td>\n",
       "      <td>NaN</td>\n",
       "      <td>https://twitter.com/dog_rates/status/891087950...</td>\n",
       "      <td>13</td>\n",
       "      <td>10</td>\n",
       "      <td>NaN</td>\n",
       "      <td>NaN</td>\n",
       "      <td>NaN</td>\n",
       "      <td>NaN</td>\n",
       "      <td>NaN</td>\n",
       "    </tr>\n",
       "    <tr>\n",
       "      <th>6</th>\n",
       "      <td>890971913173991426</td>\n",
       "      <td>NaN</td>\n",
       "      <td>NaN</td>\n",
       "      <td>2017-07-28 16:27:12 +0000</td>\n",
       "      <td>&lt;a href=\"http://twitter.com/download/iphone\" r...</td>\n",
       "      <td>Meet Jax. He enjoys ice cream so much he gets ...</td>\n",
       "      <td>NaN</td>\n",
       "      <td>NaN</td>\n",
       "      <td>NaN</td>\n",
       "      <td>https://gofundme.com/ydvmve-surgery-for-jax,ht...</td>\n",
       "      <td>13</td>\n",
       "      <td>10</td>\n",
       "      <td>Jax</td>\n",
       "      <td>NaN</td>\n",
       "      <td>NaN</td>\n",
       "      <td>NaN</td>\n",
       "      <td>NaN</td>\n",
       "    </tr>\n",
       "    <tr>\n",
       "      <th>7</th>\n",
       "      <td>890729181411237888</td>\n",
       "      <td>NaN</td>\n",
       "      <td>NaN</td>\n",
       "      <td>2017-07-28 00:22:40 +0000</td>\n",
       "      <td>&lt;a href=\"http://twitter.com/download/iphone\" r...</td>\n",
       "      <td>When you watch your owner call another dog a g...</td>\n",
       "      <td>NaN</td>\n",
       "      <td>NaN</td>\n",
       "      <td>NaN</td>\n",
       "      <td>https://twitter.com/dog_rates/status/890729181...</td>\n",
       "      <td>13</td>\n",
       "      <td>10</td>\n",
       "      <td>NaN</td>\n",
       "      <td>NaN</td>\n",
       "      <td>NaN</td>\n",
       "      <td>NaN</td>\n",
       "      <td>NaN</td>\n",
       "    </tr>\n",
       "    <tr>\n",
       "      <th>8</th>\n",
       "      <td>890609185150312448</td>\n",
       "      <td>NaN</td>\n",
       "      <td>NaN</td>\n",
       "      <td>2017-07-27 16:25:51 +0000</td>\n",
       "      <td>&lt;a href=\"http://twitter.com/download/iphone\" r...</td>\n",
       "      <td>This is Zoey. She doesn't want to be one of th...</td>\n",
       "      <td>NaN</td>\n",
       "      <td>NaN</td>\n",
       "      <td>NaN</td>\n",
       "      <td>https://twitter.com/dog_rates/status/890609185...</td>\n",
       "      <td>13</td>\n",
       "      <td>10</td>\n",
       "      <td>Zoey</td>\n",
       "      <td>NaN</td>\n",
       "      <td>NaN</td>\n",
       "      <td>NaN</td>\n",
       "      <td>NaN</td>\n",
       "    </tr>\n",
       "    <tr>\n",
       "      <th>9</th>\n",
       "      <td>890240255349198849</td>\n",
       "      <td>NaN</td>\n",
       "      <td>NaN</td>\n",
       "      <td>2017-07-26 15:59:51 +0000</td>\n",
       "      <td>&lt;a href=\"http://twitter.com/download/iphone\" r...</td>\n",
       "      <td>This is Cassie. She is a college pup. Studying...</td>\n",
       "      <td>NaN</td>\n",
       "      <td>NaN</td>\n",
       "      <td>NaN</td>\n",
       "      <td>https://twitter.com/dog_rates/status/890240255...</td>\n",
       "      <td>14</td>\n",
       "      <td>10</td>\n",
       "      <td>Cassie</td>\n",
       "      <td>doggo</td>\n",
       "      <td>NaN</td>\n",
       "      <td>NaN</td>\n",
       "      <td>NaN</td>\n",
       "    </tr>\n",
       "  </tbody>\n",
       "</table>\n",
       "</div>"
      ],
      "text/plain": [
       "             tweet_id  in_reply_to_status_id  in_reply_to_user_id  \\\n",
       "0  892420643555336193                    NaN                  NaN   \n",
       "1  892177421306343426                    NaN                  NaN   \n",
       "2  891815181378084864                    NaN                  NaN   \n",
       "3  891689557279858688                    NaN                  NaN   \n",
       "4  891327558926688256                    NaN                  NaN   \n",
       "5  891087950875897856                    NaN                  NaN   \n",
       "6  890971913173991426                    NaN                  NaN   \n",
       "7  890729181411237888                    NaN                  NaN   \n",
       "8  890609185150312448                    NaN                  NaN   \n",
       "9  890240255349198849                    NaN                  NaN   \n",
       "\n",
       "                   timestamp  \\\n",
       "0  2017-08-01 16:23:56 +0000   \n",
       "1  2017-08-01 00:17:27 +0000   \n",
       "2  2017-07-31 00:18:03 +0000   \n",
       "3  2017-07-30 15:58:51 +0000   \n",
       "4  2017-07-29 16:00:24 +0000   \n",
       "5  2017-07-29 00:08:17 +0000   \n",
       "6  2017-07-28 16:27:12 +0000   \n",
       "7  2017-07-28 00:22:40 +0000   \n",
       "8  2017-07-27 16:25:51 +0000   \n",
       "9  2017-07-26 15:59:51 +0000   \n",
       "\n",
       "                                              source  \\\n",
       "0  <a href=\"http://twitter.com/download/iphone\" r...   \n",
       "1  <a href=\"http://twitter.com/download/iphone\" r...   \n",
       "2  <a href=\"http://twitter.com/download/iphone\" r...   \n",
       "3  <a href=\"http://twitter.com/download/iphone\" r...   \n",
       "4  <a href=\"http://twitter.com/download/iphone\" r...   \n",
       "5  <a href=\"http://twitter.com/download/iphone\" r...   \n",
       "6  <a href=\"http://twitter.com/download/iphone\" r...   \n",
       "7  <a href=\"http://twitter.com/download/iphone\" r...   \n",
       "8  <a href=\"http://twitter.com/download/iphone\" r...   \n",
       "9  <a href=\"http://twitter.com/download/iphone\" r...   \n",
       "\n",
       "                                                text  retweeted_status_id  \\\n",
       "0  This is Phineas. He's a mystical boy. Only eve...                  NaN   \n",
       "1  This is Tilly. She's just checking pup on you....                  NaN   \n",
       "2  This is Archie. He is a rare Norwegian Pouncin...                  NaN   \n",
       "3  This is Darla. She commenced a snooze mid meal...                  NaN   \n",
       "4  This is Franklin. He would like you to stop ca...                  NaN   \n",
       "5  Here we have a majestic great white breaching ...                  NaN   \n",
       "6  Meet Jax. He enjoys ice cream so much he gets ...                  NaN   \n",
       "7  When you watch your owner call another dog a g...                  NaN   \n",
       "8  This is Zoey. She doesn't want to be one of th...                  NaN   \n",
       "9  This is Cassie. She is a college pup. Studying...                  NaN   \n",
       "\n",
       "   retweeted_status_user_id retweeted_status_timestamp  \\\n",
       "0                       NaN                        NaN   \n",
       "1                       NaN                        NaN   \n",
       "2                       NaN                        NaN   \n",
       "3                       NaN                        NaN   \n",
       "4                       NaN                        NaN   \n",
       "5                       NaN                        NaN   \n",
       "6                       NaN                        NaN   \n",
       "7                       NaN                        NaN   \n",
       "8                       NaN                        NaN   \n",
       "9                       NaN                        NaN   \n",
       "\n",
       "                                       expanded_urls  rating_numerator  \\\n",
       "0  https://twitter.com/dog_rates/status/892420643...                13   \n",
       "1  https://twitter.com/dog_rates/status/892177421...                13   \n",
       "2  https://twitter.com/dog_rates/status/891815181...                12   \n",
       "3  https://twitter.com/dog_rates/status/891689557...                13   \n",
       "4  https://twitter.com/dog_rates/status/891327558...                12   \n",
       "5  https://twitter.com/dog_rates/status/891087950...                13   \n",
       "6  https://gofundme.com/ydvmve-surgery-for-jax,ht...                13   \n",
       "7  https://twitter.com/dog_rates/status/890729181...                13   \n",
       "8  https://twitter.com/dog_rates/status/890609185...                13   \n",
       "9  https://twitter.com/dog_rates/status/890240255...                14   \n",
       "\n",
       "   rating_denominator      name  doggo floofer pupper puppo  \n",
       "0                  10   Phineas    NaN     NaN    NaN   NaN  \n",
       "1                  10     Tilly    NaN     NaN    NaN   NaN  \n",
       "2                  10    Archie    NaN     NaN    NaN   NaN  \n",
       "3                  10     Darla    NaN     NaN    NaN   NaN  \n",
       "4                  10  Franklin    NaN     NaN    NaN   NaN  \n",
       "5                  10       NaN    NaN     NaN    NaN   NaN  \n",
       "6                  10       Jax    NaN     NaN    NaN   NaN  \n",
       "7                  10       NaN    NaN     NaN    NaN   NaN  \n",
       "8                  10      Zoey    NaN     NaN    NaN   NaN  \n",
       "9                  10    Cassie  doggo     NaN    NaN   NaN  "
      ]
     },
     "execution_count": 7,
     "metadata": {},
     "output_type": "execute_result"
    }
   ],
   "source": [
    "# display the first 10 rows of the twitter archive data\n",
    "twitter_arch_data.head(10)"
   ]
  },
  {
   "cell_type": "code",
   "execution_count": 8,
   "id": "ad468c4c",
   "metadata": {},
   "outputs": [
    {
     "data": {
      "application/vnd.microsoft.datawrangler.viewer.v0+json": {
       "columns": [
        {
         "name": "index",
         "rawType": "int64",
         "type": "integer"
        },
        {
         "name": "tweet_id",
         "rawType": "int64",
         "type": "integer"
        },
        {
         "name": "in_reply_to_status_id",
         "rawType": "float64",
         "type": "float"
        },
        {
         "name": "in_reply_to_user_id",
         "rawType": "float64",
         "type": "float"
        },
        {
         "name": "timestamp",
         "rawType": "object",
         "type": "string"
        },
        {
         "name": "source",
         "rawType": "object",
         "type": "string"
        },
        {
         "name": "text",
         "rawType": "object",
         "type": "string"
        },
        {
         "name": "retweeted_status_id",
         "rawType": "float64",
         "type": "float"
        },
        {
         "name": "retweeted_status_user_id",
         "rawType": "float64",
         "type": "float"
        },
        {
         "name": "retweeted_status_timestamp",
         "rawType": "object",
         "type": "unknown"
        },
        {
         "name": "expanded_urls",
         "rawType": "object",
         "type": "string"
        },
        {
         "name": "rating_numerator",
         "rawType": "int64",
         "type": "integer"
        },
        {
         "name": "rating_denominator",
         "rawType": "int64",
         "type": "integer"
        },
        {
         "name": "name",
         "rawType": "object",
         "type": "string"
        },
        {
         "name": "doggo",
         "rawType": "object",
         "type": "unknown"
        },
        {
         "name": "floofer",
         "rawType": "object",
         "type": "unknown"
        },
        {
         "name": "pupper",
         "rawType": "object",
         "type": "unknown"
        },
        {
         "name": "puppo",
         "rawType": "object",
         "type": "unknown"
        }
       ],
       "conversionMethod": "pd.DataFrame",
       "ref": "45595d47-409b-406a-b4da-12b8a4f1cd32",
       "rows": [
        [
         "602",
         "798644042770751489",
         null,
         null,
         "2016-11-15 21:49:12 +0000",
         "<a href=\"http://twitter.com/download/iphone\" rel=\"nofollow\">Twitter for iPhone</a>",
         "RT @dog_rates: This is Paull. He just stubbed his toe. 10/10 deep breaths Paull https://t.co/J5Mqn8VeYq",
         "6.704449556561306e+17",
         "4196983835.0",
         "2015-11-28 03:31:48 +0000",
         "https://twitter.com/dog_rates/status/670444955656130560/photo/1,https://twitter.com/dog_rates/status/670444955656130560/photo/1",
         "10",
         "10",
         "Paull",
         null,
         null,
         null,
         null
        ],
        [
         "1502",
         "692041934689402880",
         null,
         null,
         "2016-01-26 17:50:29 +0000",
         "<a href=\"http://vine.co\" rel=\"nofollow\">Vine - Make a Scene</a>",
         "This is Teddy. His head is too heavy. 13/10 (vid by @jooanrim) https://t.co/sRUpRpGZ3y",
         null,
         null,
         null,
         "https://vine.co/v/iiI3wmqXYmA",
         "13",
         "10",
         "Teddy",
         null,
         null,
         null,
         null
        ],
        [
         "384",
         "826958653328592898",
         null,
         null,
         "2017-02-02 01:01:21 +0000",
         "<a href=\"http://twitter.com/download/iphone\" rel=\"nofollow\">Twitter for iPhone</a>",
         "This is Loki. He smiles like Elvis. Ain't nothin but a hound doggo. 12/10 https://t.co/QV5nx6otZR",
         null,
         null,
         null,
         "https://twitter.com/dog_rates/status/826958653328592898/photo/1",
         "12",
         "10",
         "Loki",
         "doggo",
         null,
         null,
         null
        ],
        [
         "1235",
         "712668654853337088",
         null,
         null,
         "2016-03-23 15:53:42 +0000",
         "<a href=\"http://twitter.com/download/iphone\" rel=\"nofollow\">Twitter for iPhone</a>",
         "Say hello to Sunny and Roxy. They pull things out of water together. 10/10 for both https://t.co/88aedAmxcl",
         null,
         null,
         null,
         "https://twitter.com/dog_rates/status/712668654853337088/photo/1,https://twitter.com/dog_rates/status/712668654853337088/photo/1,https://twitter.com/dog_rates/status/712668654853337088/photo/1",
         "10",
         "10",
         "Sunny",
         null,
         null,
         null,
         null
        ],
        [
         "501",
         "813096984823349248",
         null,
         null,
         "2016-12-25 19:00:02 +0000",
         "<a href=\"http://twitter.com/download/iphone\" rel=\"nofollow\">Twitter for iPhone</a>",
         "This is Rocky. He got triple-doggo-dared. Stuck af. 11/10 someone help him https://t.co/soNL00XWVu",
         null,
         null,
         null,
         "https://twitter.com/dog_rates/status/813096984823349248/photo/1",
         "11",
         "10",
         "Rocky",
         "doggo",
         null,
         null,
         null
        ],
        [
         "563",
         "802572683846291456",
         null,
         null,
         "2016-11-26 18:00:13 +0000",
         "<a href=\"http://twitter.com/download/iphone\" rel=\"nofollow\">Twitter for iPhone</a>",
         "This is Winnie. She's h*ckin ferocious. Dandelion doesn't even see her coming. 12/10 would pet with caution https://t.co/EFfLCP7oQv",
         null,
         null,
         null,
         "https://twitter.com/dog_rates/status/802572683846291456/photo/1",
         "12",
         "10",
         "Winnie",
         null,
         null,
         null,
         null
        ],
        [
         "1121",
         "730924654643314689",
         null,
         null,
         "2016-05-13 00:56:32 +0000",
         "<a href=\"http://twitter.com/download/iphone\" rel=\"nofollow\">Twitter for iPhone</a>",
         "We only rate dogs. Pls stop sending non-canines like this Bulgarian Eyeless Porch Bear. This is unacceptable... 9/10 https://t.co/2yctWAUZ3Z",
         null,
         null,
         null,
         "https://twitter.com/dog_rates/status/730924654643314689/photo/1",
         "9",
         "10",
         "unacceptable",
         null,
         null,
         null,
         null
        ]
       ],
       "shape": {
        "columns": 17,
        "rows": 7
       }
      },
      "text/html": [
       "<div>\n",
       "<style scoped>\n",
       "    .dataframe tbody tr th:only-of-type {\n",
       "        vertical-align: middle;\n",
       "    }\n",
       "\n",
       "    .dataframe tbody tr th {\n",
       "        vertical-align: top;\n",
       "    }\n",
       "\n",
       "    .dataframe thead th {\n",
       "        text-align: right;\n",
       "    }\n",
       "</style>\n",
       "<table border=\"1\" class=\"dataframe\">\n",
       "  <thead>\n",
       "    <tr style=\"text-align: right;\">\n",
       "      <th></th>\n",
       "      <th>tweet_id</th>\n",
       "      <th>in_reply_to_status_id</th>\n",
       "      <th>in_reply_to_user_id</th>\n",
       "      <th>timestamp</th>\n",
       "      <th>source</th>\n",
       "      <th>text</th>\n",
       "      <th>retweeted_status_id</th>\n",
       "      <th>retweeted_status_user_id</th>\n",
       "      <th>retweeted_status_timestamp</th>\n",
       "      <th>expanded_urls</th>\n",
       "      <th>rating_numerator</th>\n",
       "      <th>rating_denominator</th>\n",
       "      <th>name</th>\n",
       "      <th>doggo</th>\n",
       "      <th>floofer</th>\n",
       "      <th>pupper</th>\n",
       "      <th>puppo</th>\n",
       "    </tr>\n",
       "  </thead>\n",
       "  <tbody>\n",
       "    <tr>\n",
       "      <th>602</th>\n",
       "      <td>798644042770751489</td>\n",
       "      <td>NaN</td>\n",
       "      <td>NaN</td>\n",
       "      <td>2016-11-15 21:49:12 +0000</td>\n",
       "      <td>&lt;a href=\"http://twitter.com/download/iphone\" r...</td>\n",
       "      <td>RT @dog_rates: This is Paull. He just stubbed ...</td>\n",
       "      <td>6.704450e+17</td>\n",
       "      <td>4.196984e+09</td>\n",
       "      <td>2015-11-28 03:31:48 +0000</td>\n",
       "      <td>https://twitter.com/dog_rates/status/670444955...</td>\n",
       "      <td>10</td>\n",
       "      <td>10</td>\n",
       "      <td>Paull</td>\n",
       "      <td>NaN</td>\n",
       "      <td>NaN</td>\n",
       "      <td>NaN</td>\n",
       "      <td>NaN</td>\n",
       "    </tr>\n",
       "    <tr>\n",
       "      <th>1502</th>\n",
       "      <td>692041934689402880</td>\n",
       "      <td>NaN</td>\n",
       "      <td>NaN</td>\n",
       "      <td>2016-01-26 17:50:29 +0000</td>\n",
       "      <td>&lt;a href=\"http://vine.co\" rel=\"nofollow\"&gt;Vine -...</td>\n",
       "      <td>This is Teddy. His head is too heavy. 13/10 (v...</td>\n",
       "      <td>NaN</td>\n",
       "      <td>NaN</td>\n",
       "      <td>NaN</td>\n",
       "      <td>https://vine.co/v/iiI3wmqXYmA</td>\n",
       "      <td>13</td>\n",
       "      <td>10</td>\n",
       "      <td>Teddy</td>\n",
       "      <td>NaN</td>\n",
       "      <td>NaN</td>\n",
       "      <td>NaN</td>\n",
       "      <td>NaN</td>\n",
       "    </tr>\n",
       "    <tr>\n",
       "      <th>384</th>\n",
       "      <td>826958653328592898</td>\n",
       "      <td>NaN</td>\n",
       "      <td>NaN</td>\n",
       "      <td>2017-02-02 01:01:21 +0000</td>\n",
       "      <td>&lt;a href=\"http://twitter.com/download/iphone\" r...</td>\n",
       "      <td>This is Loki. He smiles like Elvis. Ain't noth...</td>\n",
       "      <td>NaN</td>\n",
       "      <td>NaN</td>\n",
       "      <td>NaN</td>\n",
       "      <td>https://twitter.com/dog_rates/status/826958653...</td>\n",
       "      <td>12</td>\n",
       "      <td>10</td>\n",
       "      <td>Loki</td>\n",
       "      <td>doggo</td>\n",
       "      <td>NaN</td>\n",
       "      <td>NaN</td>\n",
       "      <td>NaN</td>\n",
       "    </tr>\n",
       "    <tr>\n",
       "      <th>1235</th>\n",
       "      <td>712668654853337088</td>\n",
       "      <td>NaN</td>\n",
       "      <td>NaN</td>\n",
       "      <td>2016-03-23 15:53:42 +0000</td>\n",
       "      <td>&lt;a href=\"http://twitter.com/download/iphone\" r...</td>\n",
       "      <td>Say hello to Sunny and Roxy. They pull things ...</td>\n",
       "      <td>NaN</td>\n",
       "      <td>NaN</td>\n",
       "      <td>NaN</td>\n",
       "      <td>https://twitter.com/dog_rates/status/712668654...</td>\n",
       "      <td>10</td>\n",
       "      <td>10</td>\n",
       "      <td>Sunny</td>\n",
       "      <td>NaN</td>\n",
       "      <td>NaN</td>\n",
       "      <td>NaN</td>\n",
       "      <td>NaN</td>\n",
       "    </tr>\n",
       "    <tr>\n",
       "      <th>501</th>\n",
       "      <td>813096984823349248</td>\n",
       "      <td>NaN</td>\n",
       "      <td>NaN</td>\n",
       "      <td>2016-12-25 19:00:02 +0000</td>\n",
       "      <td>&lt;a href=\"http://twitter.com/download/iphone\" r...</td>\n",
       "      <td>This is Rocky. He got triple-doggo-dared. Stuc...</td>\n",
       "      <td>NaN</td>\n",
       "      <td>NaN</td>\n",
       "      <td>NaN</td>\n",
       "      <td>https://twitter.com/dog_rates/status/813096984...</td>\n",
       "      <td>11</td>\n",
       "      <td>10</td>\n",
       "      <td>Rocky</td>\n",
       "      <td>doggo</td>\n",
       "      <td>NaN</td>\n",
       "      <td>NaN</td>\n",
       "      <td>NaN</td>\n",
       "    </tr>\n",
       "    <tr>\n",
       "      <th>563</th>\n",
       "      <td>802572683846291456</td>\n",
       "      <td>NaN</td>\n",
       "      <td>NaN</td>\n",
       "      <td>2016-11-26 18:00:13 +0000</td>\n",
       "      <td>&lt;a href=\"http://twitter.com/download/iphone\" r...</td>\n",
       "      <td>This is Winnie. She's h*ckin ferocious. Dandel...</td>\n",
       "      <td>NaN</td>\n",
       "      <td>NaN</td>\n",
       "      <td>NaN</td>\n",
       "      <td>https://twitter.com/dog_rates/status/802572683...</td>\n",
       "      <td>12</td>\n",
       "      <td>10</td>\n",
       "      <td>Winnie</td>\n",
       "      <td>NaN</td>\n",
       "      <td>NaN</td>\n",
       "      <td>NaN</td>\n",
       "      <td>NaN</td>\n",
       "    </tr>\n",
       "    <tr>\n",
       "      <th>1121</th>\n",
       "      <td>730924654643314689</td>\n",
       "      <td>NaN</td>\n",
       "      <td>NaN</td>\n",
       "      <td>2016-05-13 00:56:32 +0000</td>\n",
       "      <td>&lt;a href=\"http://twitter.com/download/iphone\" r...</td>\n",
       "      <td>We only rate dogs. Pls stop sending non-canine...</td>\n",
       "      <td>NaN</td>\n",
       "      <td>NaN</td>\n",
       "      <td>NaN</td>\n",
       "      <td>https://twitter.com/dog_rates/status/730924654...</td>\n",
       "      <td>9</td>\n",
       "      <td>10</td>\n",
       "      <td>unacceptable</td>\n",
       "      <td>NaN</td>\n",
       "      <td>NaN</td>\n",
       "      <td>NaN</td>\n",
       "      <td>NaN</td>\n",
       "    </tr>\n",
       "  </tbody>\n",
       "</table>\n",
       "</div>"
      ],
      "text/plain": [
       "                tweet_id  in_reply_to_status_id  in_reply_to_user_id  \\\n",
       "602   798644042770751489                    NaN                  NaN   \n",
       "1502  692041934689402880                    NaN                  NaN   \n",
       "384   826958653328592898                    NaN                  NaN   \n",
       "1235  712668654853337088                    NaN                  NaN   \n",
       "501   813096984823349248                    NaN                  NaN   \n",
       "563   802572683846291456                    NaN                  NaN   \n",
       "1121  730924654643314689                    NaN                  NaN   \n",
       "\n",
       "                      timestamp  \\\n",
       "602   2016-11-15 21:49:12 +0000   \n",
       "1502  2016-01-26 17:50:29 +0000   \n",
       "384   2017-02-02 01:01:21 +0000   \n",
       "1235  2016-03-23 15:53:42 +0000   \n",
       "501   2016-12-25 19:00:02 +0000   \n",
       "563   2016-11-26 18:00:13 +0000   \n",
       "1121  2016-05-13 00:56:32 +0000   \n",
       "\n",
       "                                                 source  \\\n",
       "602   <a href=\"http://twitter.com/download/iphone\" r...   \n",
       "1502  <a href=\"http://vine.co\" rel=\"nofollow\">Vine -...   \n",
       "384   <a href=\"http://twitter.com/download/iphone\" r...   \n",
       "1235  <a href=\"http://twitter.com/download/iphone\" r...   \n",
       "501   <a href=\"http://twitter.com/download/iphone\" r...   \n",
       "563   <a href=\"http://twitter.com/download/iphone\" r...   \n",
       "1121  <a href=\"http://twitter.com/download/iphone\" r...   \n",
       "\n",
       "                                                   text  retweeted_status_id  \\\n",
       "602   RT @dog_rates: This is Paull. He just stubbed ...         6.704450e+17   \n",
       "1502  This is Teddy. His head is too heavy. 13/10 (v...                  NaN   \n",
       "384   This is Loki. He smiles like Elvis. Ain't noth...                  NaN   \n",
       "1235  Say hello to Sunny and Roxy. They pull things ...                  NaN   \n",
       "501   This is Rocky. He got triple-doggo-dared. Stuc...                  NaN   \n",
       "563   This is Winnie. She's h*ckin ferocious. Dandel...                  NaN   \n",
       "1121  We only rate dogs. Pls stop sending non-canine...                  NaN   \n",
       "\n",
       "      retweeted_status_user_id retweeted_status_timestamp  \\\n",
       "602               4.196984e+09  2015-11-28 03:31:48 +0000   \n",
       "1502                       NaN                        NaN   \n",
       "384                        NaN                        NaN   \n",
       "1235                       NaN                        NaN   \n",
       "501                        NaN                        NaN   \n",
       "563                        NaN                        NaN   \n",
       "1121                       NaN                        NaN   \n",
       "\n",
       "                                          expanded_urls  rating_numerator  \\\n",
       "602   https://twitter.com/dog_rates/status/670444955...                10   \n",
       "1502                      https://vine.co/v/iiI3wmqXYmA                13   \n",
       "384   https://twitter.com/dog_rates/status/826958653...                12   \n",
       "1235  https://twitter.com/dog_rates/status/712668654...                10   \n",
       "501   https://twitter.com/dog_rates/status/813096984...                11   \n",
       "563   https://twitter.com/dog_rates/status/802572683...                12   \n",
       "1121  https://twitter.com/dog_rates/status/730924654...                 9   \n",
       "\n",
       "      rating_denominator          name  doggo floofer pupper puppo  \n",
       "602                   10         Paull    NaN     NaN    NaN   NaN  \n",
       "1502                  10         Teddy    NaN     NaN    NaN   NaN  \n",
       "384                   10          Loki  doggo     NaN    NaN   NaN  \n",
       "1235                  10         Sunny    NaN     NaN    NaN   NaN  \n",
       "501                   10         Rocky  doggo     NaN    NaN   NaN  \n",
       "563                   10        Winnie    NaN     NaN    NaN   NaN  \n",
       "1121                  10  unacceptable    NaN     NaN    NaN   NaN  "
      ]
     },
     "execution_count": 8,
     "metadata": {},
     "output_type": "execute_result"
    }
   ],
   "source": [
    "# checking a sample of the twitter archive data\n",
    "twitter_arch_data.sample(7)"
   ]
  },
  {
   "cell_type": "code",
   "execution_count": 9,
   "id": "dcd826e3",
   "metadata": {},
   "outputs": [
    {
     "data": {
      "application/vnd.microsoft.datawrangler.viewer.v0+json": {
       "columns": [
        {
         "name": "index",
         "rawType": "int64",
         "type": "integer"
        },
        {
         "name": "tweet_id",
         "rawType": "int64",
         "type": "integer"
        },
        {
         "name": "in_reply_to_status_id",
         "rawType": "float64",
         "type": "float"
        },
        {
         "name": "in_reply_to_user_id",
         "rawType": "float64",
         "type": "float"
        },
        {
         "name": "timestamp",
         "rawType": "object",
         "type": "string"
        },
        {
         "name": "source",
         "rawType": "object",
         "type": "string"
        },
        {
         "name": "text",
         "rawType": "object",
         "type": "string"
        },
        {
         "name": "retweeted_status_id",
         "rawType": "float64",
         "type": "float"
        },
        {
         "name": "retweeted_status_user_id",
         "rawType": "float64",
         "type": "float"
        },
        {
         "name": "retweeted_status_timestamp",
         "rawType": "object",
         "type": "unknown"
        },
        {
         "name": "expanded_urls",
         "rawType": "object",
         "type": "string"
        },
        {
         "name": "rating_numerator",
         "rawType": "int64",
         "type": "integer"
        },
        {
         "name": "rating_denominator",
         "rawType": "int64",
         "type": "integer"
        },
        {
         "name": "name",
         "rawType": "object",
         "type": "unknown"
        },
        {
         "name": "doggo",
         "rawType": "object",
         "type": "unknown"
        },
        {
         "name": "floofer",
         "rawType": "object",
         "type": "unknown"
        },
        {
         "name": "pupper",
         "rawType": "object",
         "type": "unknown"
        },
        {
         "name": "puppo",
         "rawType": "object",
         "type": "unknown"
        }
       ],
       "conversionMethod": "pd.DataFrame",
       "ref": "6878856e-2bdd-489e-b686-bc365a8fb227",
       "rows": [
        [
         "2346",
         "666058600524156928",
         null,
         null,
         "2015-11-16 01:01:59 +0000",
         "<a href=\"http://twitter.com/download/iphone\" rel=\"nofollow\">Twitter for iPhone</a>",
         "Here is the Rand Paul of retrievers folks! He's probably good at poker. Can drink beer (lol rad). 8/10 good dog https://t.co/pYAJkAe76p",
         null,
         null,
         null,
         "https://twitter.com/dog_rates/status/666058600524156928/photo/1",
         "8",
         "10",
         "the",
         null,
         null,
         null,
         null
        ],
        [
         "2347",
         "666057090499244032",
         null,
         null,
         "2015-11-16 00:55:59 +0000",
         "<a href=\"http://twitter.com/download/iphone\" rel=\"nofollow\">Twitter for iPhone</a>",
         "My oh my. This is a rare blond Canadian terrier on wheels. Only $8.98. Rather docile. 9/10 very rare https://t.co/yWBqbrzy8O",
         null,
         null,
         null,
         "https://twitter.com/dog_rates/status/666057090499244032/photo/1",
         "9",
         "10",
         "a",
         null,
         null,
         null,
         null
        ],
        [
         "2348",
         "666055525042405380",
         null,
         null,
         "2015-11-16 00:49:46 +0000",
         "<a href=\"http://twitter.com/download/iphone\" rel=\"nofollow\">Twitter for iPhone</a>",
         "Here is a Siberian heavily armored polar bear mix. Strong owner. 10/10 I would do unspeakable things to pet this dog https://t.co/rdivxLiqEt",
         null,
         null,
         null,
         "https://twitter.com/dog_rates/status/666055525042405380/photo/1",
         "10",
         "10",
         "a",
         null,
         null,
         null,
         null
        ],
        [
         "2349",
         "666051853826850816",
         null,
         null,
         "2015-11-16 00:35:11 +0000",
         "<a href=\"http://twitter.com/download/iphone\" rel=\"nofollow\">Twitter for iPhone</a>",
         "This is an odd dog. Hard on the outside but loving on the inside. Petting still fun. Doesn't play catch well. 2/10 https://t.co/v5A4vzSDdc",
         null,
         null,
         null,
         "https://twitter.com/dog_rates/status/666051853826850816/photo/1",
         "2",
         "10",
         "an",
         null,
         null,
         null,
         null
        ],
        [
         "2350",
         "666050758794694657",
         null,
         null,
         "2015-11-16 00:30:50 +0000",
         "<a href=\"http://twitter.com/download/iphone\" rel=\"nofollow\">Twitter for iPhone</a>",
         "This is a truly beautiful English Wilson Staff retriever. Has a nice phone. Privileged. 10/10 would trade lives with https://t.co/fvIbQfHjIe",
         null,
         null,
         null,
         "https://twitter.com/dog_rates/status/666050758794694657/photo/1",
         "10",
         "10",
         "a",
         null,
         null,
         null,
         null
        ],
        [
         "2351",
         "666049248165822465",
         null,
         null,
         "2015-11-16 00:24:50 +0000",
         "<a href=\"http://twitter.com/download/iphone\" rel=\"nofollow\">Twitter for iPhone</a>",
         "Here we have a 1949 1st generation vulpix. Enjoys sweat tea and Fox News. Cannot be phased. 5/10 https://t.co/4B7cOc1EDq",
         null,
         null,
         null,
         "https://twitter.com/dog_rates/status/666049248165822465/photo/1",
         "5",
         "10",
         null,
         null,
         null,
         null,
         null
        ],
        [
         "2352",
         "666044226329800704",
         null,
         null,
         "2015-11-16 00:04:52 +0000",
         "<a href=\"http://twitter.com/download/iphone\" rel=\"nofollow\">Twitter for iPhone</a>",
         "This is a purebred Piers Morgan. Loves to Netflix and chill. Always looks like he forgot to unplug the iron. 6/10 https://t.co/DWnyCjf2mx",
         null,
         null,
         null,
         "https://twitter.com/dog_rates/status/666044226329800704/photo/1",
         "6",
         "10",
         "a",
         null,
         null,
         null,
         null
        ],
        [
         "2353",
         "666033412701032449",
         null,
         null,
         "2015-11-15 23:21:54 +0000",
         "<a href=\"http://twitter.com/download/iphone\" rel=\"nofollow\">Twitter for iPhone</a>",
         "Here is a very happy pup. Big fan of well-maintained decks. Just look at that tongue. 9/10 would cuddle af https://t.co/y671yMhoiR",
         null,
         null,
         null,
         "https://twitter.com/dog_rates/status/666033412701032449/photo/1",
         "9",
         "10",
         "a",
         null,
         null,
         null,
         null
        ],
        [
         "2354",
         "666029285002620928",
         null,
         null,
         "2015-11-15 23:05:30 +0000",
         "<a href=\"http://twitter.com/download/iphone\" rel=\"nofollow\">Twitter for iPhone</a>",
         "This is a western brown Mitsubishi terrier. Upset about leaf. Actually 2 dogs here. 7/10 would walk the shit out of https://t.co/r7mOb2m0UI",
         null,
         null,
         null,
         "https://twitter.com/dog_rates/status/666029285002620928/photo/1",
         "7",
         "10",
         "a",
         null,
         null,
         null,
         null
        ],
        [
         "2355",
         "666020888022790149",
         null,
         null,
         "2015-11-15 22:32:08 +0000",
         "<a href=\"http://twitter.com/download/iphone\" rel=\"nofollow\">Twitter for iPhone</a>",
         "Here we have a Japanese Irish Setter. Lost eye in Vietnam (?). Big fan of relaxing on stair. 8/10 would pet https://t.co/BLDqew2Ijj",
         null,
         null,
         null,
         "https://twitter.com/dog_rates/status/666020888022790149/photo/1",
         "8",
         "10",
         null,
         null,
         null,
         null,
         null
        ]
       ],
       "shape": {
        "columns": 17,
        "rows": 10
       }
      },
      "text/html": [
       "<div>\n",
       "<style scoped>\n",
       "    .dataframe tbody tr th:only-of-type {\n",
       "        vertical-align: middle;\n",
       "    }\n",
       "\n",
       "    .dataframe tbody tr th {\n",
       "        vertical-align: top;\n",
       "    }\n",
       "\n",
       "    .dataframe thead th {\n",
       "        text-align: right;\n",
       "    }\n",
       "</style>\n",
       "<table border=\"1\" class=\"dataframe\">\n",
       "  <thead>\n",
       "    <tr style=\"text-align: right;\">\n",
       "      <th></th>\n",
       "      <th>tweet_id</th>\n",
       "      <th>in_reply_to_status_id</th>\n",
       "      <th>in_reply_to_user_id</th>\n",
       "      <th>timestamp</th>\n",
       "      <th>source</th>\n",
       "      <th>text</th>\n",
       "      <th>retweeted_status_id</th>\n",
       "      <th>retweeted_status_user_id</th>\n",
       "      <th>retweeted_status_timestamp</th>\n",
       "      <th>expanded_urls</th>\n",
       "      <th>rating_numerator</th>\n",
       "      <th>rating_denominator</th>\n",
       "      <th>name</th>\n",
       "      <th>doggo</th>\n",
       "      <th>floofer</th>\n",
       "      <th>pupper</th>\n",
       "      <th>puppo</th>\n",
       "    </tr>\n",
       "  </thead>\n",
       "  <tbody>\n",
       "    <tr>\n",
       "      <th>2346</th>\n",
       "      <td>666058600524156928</td>\n",
       "      <td>NaN</td>\n",
       "      <td>NaN</td>\n",
       "      <td>2015-11-16 01:01:59 +0000</td>\n",
       "      <td>&lt;a href=\"http://twitter.com/download/iphone\" r...</td>\n",
       "      <td>Here is the Rand Paul of retrievers folks! He'...</td>\n",
       "      <td>NaN</td>\n",
       "      <td>NaN</td>\n",
       "      <td>NaN</td>\n",
       "      <td>https://twitter.com/dog_rates/status/666058600...</td>\n",
       "      <td>8</td>\n",
       "      <td>10</td>\n",
       "      <td>the</td>\n",
       "      <td>NaN</td>\n",
       "      <td>NaN</td>\n",
       "      <td>NaN</td>\n",
       "      <td>NaN</td>\n",
       "    </tr>\n",
       "    <tr>\n",
       "      <th>2347</th>\n",
       "      <td>666057090499244032</td>\n",
       "      <td>NaN</td>\n",
       "      <td>NaN</td>\n",
       "      <td>2015-11-16 00:55:59 +0000</td>\n",
       "      <td>&lt;a href=\"http://twitter.com/download/iphone\" r...</td>\n",
       "      <td>My oh my. This is a rare blond Canadian terrie...</td>\n",
       "      <td>NaN</td>\n",
       "      <td>NaN</td>\n",
       "      <td>NaN</td>\n",
       "      <td>https://twitter.com/dog_rates/status/666057090...</td>\n",
       "      <td>9</td>\n",
       "      <td>10</td>\n",
       "      <td>a</td>\n",
       "      <td>NaN</td>\n",
       "      <td>NaN</td>\n",
       "      <td>NaN</td>\n",
       "      <td>NaN</td>\n",
       "    </tr>\n",
       "    <tr>\n",
       "      <th>2348</th>\n",
       "      <td>666055525042405380</td>\n",
       "      <td>NaN</td>\n",
       "      <td>NaN</td>\n",
       "      <td>2015-11-16 00:49:46 +0000</td>\n",
       "      <td>&lt;a href=\"http://twitter.com/download/iphone\" r...</td>\n",
       "      <td>Here is a Siberian heavily armored polar bear ...</td>\n",
       "      <td>NaN</td>\n",
       "      <td>NaN</td>\n",
       "      <td>NaN</td>\n",
       "      <td>https://twitter.com/dog_rates/status/666055525...</td>\n",
       "      <td>10</td>\n",
       "      <td>10</td>\n",
       "      <td>a</td>\n",
       "      <td>NaN</td>\n",
       "      <td>NaN</td>\n",
       "      <td>NaN</td>\n",
       "      <td>NaN</td>\n",
       "    </tr>\n",
       "    <tr>\n",
       "      <th>2349</th>\n",
       "      <td>666051853826850816</td>\n",
       "      <td>NaN</td>\n",
       "      <td>NaN</td>\n",
       "      <td>2015-11-16 00:35:11 +0000</td>\n",
       "      <td>&lt;a href=\"http://twitter.com/download/iphone\" r...</td>\n",
       "      <td>This is an odd dog. Hard on the outside but lo...</td>\n",
       "      <td>NaN</td>\n",
       "      <td>NaN</td>\n",
       "      <td>NaN</td>\n",
       "      <td>https://twitter.com/dog_rates/status/666051853...</td>\n",
       "      <td>2</td>\n",
       "      <td>10</td>\n",
       "      <td>an</td>\n",
       "      <td>NaN</td>\n",
       "      <td>NaN</td>\n",
       "      <td>NaN</td>\n",
       "      <td>NaN</td>\n",
       "    </tr>\n",
       "    <tr>\n",
       "      <th>2350</th>\n",
       "      <td>666050758794694657</td>\n",
       "      <td>NaN</td>\n",
       "      <td>NaN</td>\n",
       "      <td>2015-11-16 00:30:50 +0000</td>\n",
       "      <td>&lt;a href=\"http://twitter.com/download/iphone\" r...</td>\n",
       "      <td>This is a truly beautiful English Wilson Staff...</td>\n",
       "      <td>NaN</td>\n",
       "      <td>NaN</td>\n",
       "      <td>NaN</td>\n",
       "      <td>https://twitter.com/dog_rates/status/666050758...</td>\n",
       "      <td>10</td>\n",
       "      <td>10</td>\n",
       "      <td>a</td>\n",
       "      <td>NaN</td>\n",
       "      <td>NaN</td>\n",
       "      <td>NaN</td>\n",
       "      <td>NaN</td>\n",
       "    </tr>\n",
       "    <tr>\n",
       "      <th>2351</th>\n",
       "      <td>666049248165822465</td>\n",
       "      <td>NaN</td>\n",
       "      <td>NaN</td>\n",
       "      <td>2015-11-16 00:24:50 +0000</td>\n",
       "      <td>&lt;a href=\"http://twitter.com/download/iphone\" r...</td>\n",
       "      <td>Here we have a 1949 1st generation vulpix. Enj...</td>\n",
       "      <td>NaN</td>\n",
       "      <td>NaN</td>\n",
       "      <td>NaN</td>\n",
       "      <td>https://twitter.com/dog_rates/status/666049248...</td>\n",
       "      <td>5</td>\n",
       "      <td>10</td>\n",
       "      <td>NaN</td>\n",
       "      <td>NaN</td>\n",
       "      <td>NaN</td>\n",
       "      <td>NaN</td>\n",
       "      <td>NaN</td>\n",
       "    </tr>\n",
       "    <tr>\n",
       "      <th>2352</th>\n",
       "      <td>666044226329800704</td>\n",
       "      <td>NaN</td>\n",
       "      <td>NaN</td>\n",
       "      <td>2015-11-16 00:04:52 +0000</td>\n",
       "      <td>&lt;a href=\"http://twitter.com/download/iphone\" r...</td>\n",
       "      <td>This is a purebred Piers Morgan. Loves to Netf...</td>\n",
       "      <td>NaN</td>\n",
       "      <td>NaN</td>\n",
       "      <td>NaN</td>\n",
       "      <td>https://twitter.com/dog_rates/status/666044226...</td>\n",
       "      <td>6</td>\n",
       "      <td>10</td>\n",
       "      <td>a</td>\n",
       "      <td>NaN</td>\n",
       "      <td>NaN</td>\n",
       "      <td>NaN</td>\n",
       "      <td>NaN</td>\n",
       "    </tr>\n",
       "    <tr>\n",
       "      <th>2353</th>\n",
       "      <td>666033412701032449</td>\n",
       "      <td>NaN</td>\n",
       "      <td>NaN</td>\n",
       "      <td>2015-11-15 23:21:54 +0000</td>\n",
       "      <td>&lt;a href=\"http://twitter.com/download/iphone\" r...</td>\n",
       "      <td>Here is a very happy pup. Big fan of well-main...</td>\n",
       "      <td>NaN</td>\n",
       "      <td>NaN</td>\n",
       "      <td>NaN</td>\n",
       "      <td>https://twitter.com/dog_rates/status/666033412...</td>\n",
       "      <td>9</td>\n",
       "      <td>10</td>\n",
       "      <td>a</td>\n",
       "      <td>NaN</td>\n",
       "      <td>NaN</td>\n",
       "      <td>NaN</td>\n",
       "      <td>NaN</td>\n",
       "    </tr>\n",
       "    <tr>\n",
       "      <th>2354</th>\n",
       "      <td>666029285002620928</td>\n",
       "      <td>NaN</td>\n",
       "      <td>NaN</td>\n",
       "      <td>2015-11-15 23:05:30 +0000</td>\n",
       "      <td>&lt;a href=\"http://twitter.com/download/iphone\" r...</td>\n",
       "      <td>This is a western brown Mitsubishi terrier. Up...</td>\n",
       "      <td>NaN</td>\n",
       "      <td>NaN</td>\n",
       "      <td>NaN</td>\n",
       "      <td>https://twitter.com/dog_rates/status/666029285...</td>\n",
       "      <td>7</td>\n",
       "      <td>10</td>\n",
       "      <td>a</td>\n",
       "      <td>NaN</td>\n",
       "      <td>NaN</td>\n",
       "      <td>NaN</td>\n",
       "      <td>NaN</td>\n",
       "    </tr>\n",
       "    <tr>\n",
       "      <th>2355</th>\n",
       "      <td>666020888022790149</td>\n",
       "      <td>NaN</td>\n",
       "      <td>NaN</td>\n",
       "      <td>2015-11-15 22:32:08 +0000</td>\n",
       "      <td>&lt;a href=\"http://twitter.com/download/iphone\" r...</td>\n",
       "      <td>Here we have a Japanese Irish Setter. Lost eye...</td>\n",
       "      <td>NaN</td>\n",
       "      <td>NaN</td>\n",
       "      <td>NaN</td>\n",
       "      <td>https://twitter.com/dog_rates/status/666020888...</td>\n",
       "      <td>8</td>\n",
       "      <td>10</td>\n",
       "      <td>NaN</td>\n",
       "      <td>NaN</td>\n",
       "      <td>NaN</td>\n",
       "      <td>NaN</td>\n",
       "      <td>NaN</td>\n",
       "    </tr>\n",
       "  </tbody>\n",
       "</table>\n",
       "</div>"
      ],
      "text/plain": [
       "                tweet_id  in_reply_to_status_id  in_reply_to_user_id  \\\n",
       "2346  666058600524156928                    NaN                  NaN   \n",
       "2347  666057090499244032                    NaN                  NaN   \n",
       "2348  666055525042405380                    NaN                  NaN   \n",
       "2349  666051853826850816                    NaN                  NaN   \n",
       "2350  666050758794694657                    NaN                  NaN   \n",
       "2351  666049248165822465                    NaN                  NaN   \n",
       "2352  666044226329800704                    NaN                  NaN   \n",
       "2353  666033412701032449                    NaN                  NaN   \n",
       "2354  666029285002620928                    NaN                  NaN   \n",
       "2355  666020888022790149                    NaN                  NaN   \n",
       "\n",
       "                      timestamp  \\\n",
       "2346  2015-11-16 01:01:59 +0000   \n",
       "2347  2015-11-16 00:55:59 +0000   \n",
       "2348  2015-11-16 00:49:46 +0000   \n",
       "2349  2015-11-16 00:35:11 +0000   \n",
       "2350  2015-11-16 00:30:50 +0000   \n",
       "2351  2015-11-16 00:24:50 +0000   \n",
       "2352  2015-11-16 00:04:52 +0000   \n",
       "2353  2015-11-15 23:21:54 +0000   \n",
       "2354  2015-11-15 23:05:30 +0000   \n",
       "2355  2015-11-15 22:32:08 +0000   \n",
       "\n",
       "                                                 source  \\\n",
       "2346  <a href=\"http://twitter.com/download/iphone\" r...   \n",
       "2347  <a href=\"http://twitter.com/download/iphone\" r...   \n",
       "2348  <a href=\"http://twitter.com/download/iphone\" r...   \n",
       "2349  <a href=\"http://twitter.com/download/iphone\" r...   \n",
       "2350  <a href=\"http://twitter.com/download/iphone\" r...   \n",
       "2351  <a href=\"http://twitter.com/download/iphone\" r...   \n",
       "2352  <a href=\"http://twitter.com/download/iphone\" r...   \n",
       "2353  <a href=\"http://twitter.com/download/iphone\" r...   \n",
       "2354  <a href=\"http://twitter.com/download/iphone\" r...   \n",
       "2355  <a href=\"http://twitter.com/download/iphone\" r...   \n",
       "\n",
       "                                                   text  retweeted_status_id  \\\n",
       "2346  Here is the Rand Paul of retrievers folks! He'...                  NaN   \n",
       "2347  My oh my. This is a rare blond Canadian terrie...                  NaN   \n",
       "2348  Here is a Siberian heavily armored polar bear ...                  NaN   \n",
       "2349  This is an odd dog. Hard on the outside but lo...                  NaN   \n",
       "2350  This is a truly beautiful English Wilson Staff...                  NaN   \n",
       "2351  Here we have a 1949 1st generation vulpix. Enj...                  NaN   \n",
       "2352  This is a purebred Piers Morgan. Loves to Netf...                  NaN   \n",
       "2353  Here is a very happy pup. Big fan of well-main...                  NaN   \n",
       "2354  This is a western brown Mitsubishi terrier. Up...                  NaN   \n",
       "2355  Here we have a Japanese Irish Setter. Lost eye...                  NaN   \n",
       "\n",
       "      retweeted_status_user_id retweeted_status_timestamp  \\\n",
       "2346                       NaN                        NaN   \n",
       "2347                       NaN                        NaN   \n",
       "2348                       NaN                        NaN   \n",
       "2349                       NaN                        NaN   \n",
       "2350                       NaN                        NaN   \n",
       "2351                       NaN                        NaN   \n",
       "2352                       NaN                        NaN   \n",
       "2353                       NaN                        NaN   \n",
       "2354                       NaN                        NaN   \n",
       "2355                       NaN                        NaN   \n",
       "\n",
       "                                          expanded_urls  rating_numerator  \\\n",
       "2346  https://twitter.com/dog_rates/status/666058600...                 8   \n",
       "2347  https://twitter.com/dog_rates/status/666057090...                 9   \n",
       "2348  https://twitter.com/dog_rates/status/666055525...                10   \n",
       "2349  https://twitter.com/dog_rates/status/666051853...                 2   \n",
       "2350  https://twitter.com/dog_rates/status/666050758...                10   \n",
       "2351  https://twitter.com/dog_rates/status/666049248...                 5   \n",
       "2352  https://twitter.com/dog_rates/status/666044226...                 6   \n",
       "2353  https://twitter.com/dog_rates/status/666033412...                 9   \n",
       "2354  https://twitter.com/dog_rates/status/666029285...                 7   \n",
       "2355  https://twitter.com/dog_rates/status/666020888...                 8   \n",
       "\n",
       "      rating_denominator name doggo floofer pupper puppo  \n",
       "2346                  10  the   NaN     NaN    NaN   NaN  \n",
       "2347                  10    a   NaN     NaN    NaN   NaN  \n",
       "2348                  10    a   NaN     NaN    NaN   NaN  \n",
       "2349                  10   an   NaN     NaN    NaN   NaN  \n",
       "2350                  10    a   NaN     NaN    NaN   NaN  \n",
       "2351                  10  NaN   NaN     NaN    NaN   NaN  \n",
       "2352                  10    a   NaN     NaN    NaN   NaN  \n",
       "2353                  10    a   NaN     NaN    NaN   NaN  \n",
       "2354                  10    a   NaN     NaN    NaN   NaN  \n",
       "2355                  10  NaN   NaN     NaN    NaN   NaN  "
      ]
     },
     "execution_count": 9,
     "metadata": {},
     "output_type": "execute_result"
    }
   ],
   "source": [
    "# checking the last 10 rows of the twitter archive data\n",
    "twitter_arch_data.tail(10)"
   ]
  },
  {
   "cell_type": "markdown",
   "id": "df4944eb",
   "metadata": {},
   "source": [
    "There are many dog names that are not valid, such as \"a\", \"an\", \"the\", etc."
   ]
  },
  {
   "cell_type": "code",
   "execution_count": 10,
   "id": "8262c624",
   "metadata": {},
   "outputs": [
    {
     "data": {
      "text/plain": [
       "(2356, 17)"
      ]
     },
     "execution_count": 10,
     "metadata": {},
     "output_type": "execute_result"
    }
   ],
   "source": [
    "# getting the shape of the dataset\n",
    "twitter_arch_data.shape"
   ]
  },
  {
   "cell_type": "markdown",
   "id": "c36709de",
   "metadata": {},
   "source": [
    "##### Images Predictions Dataset"
   ]
  },
  {
   "cell_type": "code",
   "execution_count": 11,
   "id": "9944bb2a",
   "metadata": {},
   "outputs": [
    {
     "data": {
      "application/vnd.microsoft.datawrangler.viewer.v0+json": {
       "columns": [
        {
         "name": "index",
         "rawType": "int64",
         "type": "integer"
        },
        {
         "name": "tweet_id",
         "rawType": "int64",
         "type": "integer"
        },
        {
         "name": "jpg_url",
         "rawType": "object",
         "type": "string"
        },
        {
         "name": "img_num",
         "rawType": "int64",
         "type": "integer"
        },
        {
         "name": "p1",
         "rawType": "object",
         "type": "string"
        },
        {
         "name": "p1_conf",
         "rawType": "float64",
         "type": "float"
        },
        {
         "name": "p1_dog",
         "rawType": "bool",
         "type": "boolean"
        },
        {
         "name": "p2",
         "rawType": "object",
         "type": "string"
        },
        {
         "name": "p2_conf",
         "rawType": "float64",
         "type": "float"
        },
        {
         "name": "p2_dog",
         "rawType": "bool",
         "type": "boolean"
        },
        {
         "name": "p3",
         "rawType": "object",
         "type": "string"
        },
        {
         "name": "p3_conf",
         "rawType": "float64",
         "type": "float"
        },
        {
         "name": "p3_dog",
         "rawType": "bool",
         "type": "boolean"
        }
       ],
       "conversionMethod": "pd.DataFrame",
       "ref": "f1a4fb6d-7c8c-4338-b759-6b64994490f9",
       "rows": [
        [
         "0",
         "666020888022790149",
         "https://pbs.twimg.com/media/CT4udn0WwAA0aMy.jpg",
         "1",
         "Welsh_springer_spaniel",
         "0.465074",
         "True",
         "collie",
         "0.156665",
         "True",
         "Shetland_sheepdog",
         "0.0614285",
         "True"
        ],
        [
         "1",
         "666029285002620928",
         "https://pbs.twimg.com/media/CT42GRgUYAA5iDo.jpg",
         "1",
         "redbone",
         "0.506826",
         "True",
         "miniature_pinscher",
         "0.0741916999999999",
         "True",
         "Rhodesian_ridgeback",
         "0.07201",
         "True"
        ],
        [
         "2",
         "666033412701032449",
         "https://pbs.twimg.com/media/CT4521TWwAEvMyu.jpg",
         "1",
         "German_shepherd",
         "0.596461",
         "True",
         "malinois",
         "0.1385839999999999",
         "True",
         "bloodhound",
         "0.116197",
         "True"
        ],
        [
         "3",
         "666044226329800704",
         "https://pbs.twimg.com/media/CT5Dr8HUEAA-lEu.jpg",
         "1",
         "Rhodesian_ridgeback",
         "0.408143",
         "True",
         "redbone",
         "0.360687",
         "True",
         "miniature_pinscher",
         "0.222752",
         "True"
        ],
        [
         "4",
         "666049248165822465",
         "https://pbs.twimg.com/media/CT5IQmsXIAAKY4A.jpg",
         "1",
         "miniature_pinscher",
         "0.560311",
         "True",
         "Rottweiler",
         "0.243682",
         "True",
         "Doberman",
         "0.154629",
         "True"
        ],
        [
         "5",
         "666050758794694657",
         "https://pbs.twimg.com/media/CT5Jof1WUAEuVxN.jpg",
         "1",
         "Bernese_mountain_dog",
         "0.651137",
         "True",
         "English_springer",
         "0.263788",
         "True",
         "Greater_Swiss_Mountain_dog",
         "0.0161992",
         "True"
        ],
        [
         "6",
         "666051853826850816",
         "https://pbs.twimg.com/media/CT5KoJ1WoAAJash.jpg",
         "1",
         "box_turtle",
         "0.933012",
         "False",
         "mud_turtle",
         "0.0458854",
         "False",
         "terrapin",
         "0.0178852999999999",
         "False"
        ],
        [
         "7",
         "666055525042405380",
         "https://pbs.twimg.com/media/CT5N9tpXIAAifs1.jpg",
         "1",
         "chow",
         "0.692517",
         "True",
         "Tibetan_mastiff",
         "0.0582793999999999",
         "True",
         "fur_coat",
         "0.0544486",
         "False"
        ],
        [
         "8",
         "666057090499244032",
         "https://pbs.twimg.com/media/CT5PY90WoAAQGLo.jpg",
         "1",
         "shopping_cart",
         "0.962465",
         "False",
         "shopping_basket",
         "0.0145937999999999",
         "False",
         "golden_retriever",
         "0.00795896",
         "True"
        ],
        [
         "9",
         "666058600524156928",
         "https://pbs.twimg.com/media/CT5Qw94XAAA_2dP.jpg",
         "1",
         "miniature_poodle",
         "0.201493",
         "True",
         "komondor",
         "0.192305",
         "True",
         "soft-coated_wheaten_terrier",
         "0.0820861",
         "True"
        ]
       ],
       "shape": {
        "columns": 12,
        "rows": 10
       }
      },
      "text/html": [
       "<div>\n",
       "<style scoped>\n",
       "    .dataframe tbody tr th:only-of-type {\n",
       "        vertical-align: middle;\n",
       "    }\n",
       "\n",
       "    .dataframe tbody tr th {\n",
       "        vertical-align: top;\n",
       "    }\n",
       "\n",
       "    .dataframe thead th {\n",
       "        text-align: right;\n",
       "    }\n",
       "</style>\n",
       "<table border=\"1\" class=\"dataframe\">\n",
       "  <thead>\n",
       "    <tr style=\"text-align: right;\">\n",
       "      <th></th>\n",
       "      <th>tweet_id</th>\n",
       "      <th>jpg_url</th>\n",
       "      <th>img_num</th>\n",
       "      <th>p1</th>\n",
       "      <th>p1_conf</th>\n",
       "      <th>p1_dog</th>\n",
       "      <th>p2</th>\n",
       "      <th>p2_conf</th>\n",
       "      <th>p2_dog</th>\n",
       "      <th>p3</th>\n",
       "      <th>p3_conf</th>\n",
       "      <th>p3_dog</th>\n",
       "    </tr>\n",
       "  </thead>\n",
       "  <tbody>\n",
       "    <tr>\n",
       "      <th>0</th>\n",
       "      <td>666020888022790149</td>\n",
       "      <td>https://pbs.twimg.com/media/CT4udn0WwAA0aMy.jpg</td>\n",
       "      <td>1</td>\n",
       "      <td>Welsh_springer_spaniel</td>\n",
       "      <td>0.465074</td>\n",
       "      <td>True</td>\n",
       "      <td>collie</td>\n",
       "      <td>0.156665</td>\n",
       "      <td>True</td>\n",
       "      <td>Shetland_sheepdog</td>\n",
       "      <td>0.061428</td>\n",
       "      <td>True</td>\n",
       "    </tr>\n",
       "    <tr>\n",
       "      <th>1</th>\n",
       "      <td>666029285002620928</td>\n",
       "      <td>https://pbs.twimg.com/media/CT42GRgUYAA5iDo.jpg</td>\n",
       "      <td>1</td>\n",
       "      <td>redbone</td>\n",
       "      <td>0.506826</td>\n",
       "      <td>True</td>\n",
       "      <td>miniature_pinscher</td>\n",
       "      <td>0.074192</td>\n",
       "      <td>True</td>\n",
       "      <td>Rhodesian_ridgeback</td>\n",
       "      <td>0.072010</td>\n",
       "      <td>True</td>\n",
       "    </tr>\n",
       "    <tr>\n",
       "      <th>2</th>\n",
       "      <td>666033412701032449</td>\n",
       "      <td>https://pbs.twimg.com/media/CT4521TWwAEvMyu.jpg</td>\n",
       "      <td>1</td>\n",
       "      <td>German_shepherd</td>\n",
       "      <td>0.596461</td>\n",
       "      <td>True</td>\n",
       "      <td>malinois</td>\n",
       "      <td>0.138584</td>\n",
       "      <td>True</td>\n",
       "      <td>bloodhound</td>\n",
       "      <td>0.116197</td>\n",
       "      <td>True</td>\n",
       "    </tr>\n",
       "    <tr>\n",
       "      <th>3</th>\n",
       "      <td>666044226329800704</td>\n",
       "      <td>https://pbs.twimg.com/media/CT5Dr8HUEAA-lEu.jpg</td>\n",
       "      <td>1</td>\n",
       "      <td>Rhodesian_ridgeback</td>\n",
       "      <td>0.408143</td>\n",
       "      <td>True</td>\n",
       "      <td>redbone</td>\n",
       "      <td>0.360687</td>\n",
       "      <td>True</td>\n",
       "      <td>miniature_pinscher</td>\n",
       "      <td>0.222752</td>\n",
       "      <td>True</td>\n",
       "    </tr>\n",
       "    <tr>\n",
       "      <th>4</th>\n",
       "      <td>666049248165822465</td>\n",
       "      <td>https://pbs.twimg.com/media/CT5IQmsXIAAKY4A.jpg</td>\n",
       "      <td>1</td>\n",
       "      <td>miniature_pinscher</td>\n",
       "      <td>0.560311</td>\n",
       "      <td>True</td>\n",
       "      <td>Rottweiler</td>\n",
       "      <td>0.243682</td>\n",
       "      <td>True</td>\n",
       "      <td>Doberman</td>\n",
       "      <td>0.154629</td>\n",
       "      <td>True</td>\n",
       "    </tr>\n",
       "    <tr>\n",
       "      <th>5</th>\n",
       "      <td>666050758794694657</td>\n",
       "      <td>https://pbs.twimg.com/media/CT5Jof1WUAEuVxN.jpg</td>\n",
       "      <td>1</td>\n",
       "      <td>Bernese_mountain_dog</td>\n",
       "      <td>0.651137</td>\n",
       "      <td>True</td>\n",
       "      <td>English_springer</td>\n",
       "      <td>0.263788</td>\n",
       "      <td>True</td>\n",
       "      <td>Greater_Swiss_Mountain_dog</td>\n",
       "      <td>0.016199</td>\n",
       "      <td>True</td>\n",
       "    </tr>\n",
       "    <tr>\n",
       "      <th>6</th>\n",
       "      <td>666051853826850816</td>\n",
       "      <td>https://pbs.twimg.com/media/CT5KoJ1WoAAJash.jpg</td>\n",
       "      <td>1</td>\n",
       "      <td>box_turtle</td>\n",
       "      <td>0.933012</td>\n",
       "      <td>False</td>\n",
       "      <td>mud_turtle</td>\n",
       "      <td>0.045885</td>\n",
       "      <td>False</td>\n",
       "      <td>terrapin</td>\n",
       "      <td>0.017885</td>\n",
       "      <td>False</td>\n",
       "    </tr>\n",
       "    <tr>\n",
       "      <th>7</th>\n",
       "      <td>666055525042405380</td>\n",
       "      <td>https://pbs.twimg.com/media/CT5N9tpXIAAifs1.jpg</td>\n",
       "      <td>1</td>\n",
       "      <td>chow</td>\n",
       "      <td>0.692517</td>\n",
       "      <td>True</td>\n",
       "      <td>Tibetan_mastiff</td>\n",
       "      <td>0.058279</td>\n",
       "      <td>True</td>\n",
       "      <td>fur_coat</td>\n",
       "      <td>0.054449</td>\n",
       "      <td>False</td>\n",
       "    </tr>\n",
       "    <tr>\n",
       "      <th>8</th>\n",
       "      <td>666057090499244032</td>\n",
       "      <td>https://pbs.twimg.com/media/CT5PY90WoAAQGLo.jpg</td>\n",
       "      <td>1</td>\n",
       "      <td>shopping_cart</td>\n",
       "      <td>0.962465</td>\n",
       "      <td>False</td>\n",
       "      <td>shopping_basket</td>\n",
       "      <td>0.014594</td>\n",
       "      <td>False</td>\n",
       "      <td>golden_retriever</td>\n",
       "      <td>0.007959</td>\n",
       "      <td>True</td>\n",
       "    </tr>\n",
       "    <tr>\n",
       "      <th>9</th>\n",
       "      <td>666058600524156928</td>\n",
       "      <td>https://pbs.twimg.com/media/CT5Qw94XAAA_2dP.jpg</td>\n",
       "      <td>1</td>\n",
       "      <td>miniature_poodle</td>\n",
       "      <td>0.201493</td>\n",
       "      <td>True</td>\n",
       "      <td>komondor</td>\n",
       "      <td>0.192305</td>\n",
       "      <td>True</td>\n",
       "      <td>soft-coated_wheaten_terrier</td>\n",
       "      <td>0.082086</td>\n",
       "      <td>True</td>\n",
       "    </tr>\n",
       "  </tbody>\n",
       "</table>\n",
       "</div>"
      ],
      "text/plain": [
       "             tweet_id                                          jpg_url  \\\n",
       "0  666020888022790149  https://pbs.twimg.com/media/CT4udn0WwAA0aMy.jpg   \n",
       "1  666029285002620928  https://pbs.twimg.com/media/CT42GRgUYAA5iDo.jpg   \n",
       "2  666033412701032449  https://pbs.twimg.com/media/CT4521TWwAEvMyu.jpg   \n",
       "3  666044226329800704  https://pbs.twimg.com/media/CT5Dr8HUEAA-lEu.jpg   \n",
       "4  666049248165822465  https://pbs.twimg.com/media/CT5IQmsXIAAKY4A.jpg   \n",
       "5  666050758794694657  https://pbs.twimg.com/media/CT5Jof1WUAEuVxN.jpg   \n",
       "6  666051853826850816  https://pbs.twimg.com/media/CT5KoJ1WoAAJash.jpg   \n",
       "7  666055525042405380  https://pbs.twimg.com/media/CT5N9tpXIAAifs1.jpg   \n",
       "8  666057090499244032  https://pbs.twimg.com/media/CT5PY90WoAAQGLo.jpg   \n",
       "9  666058600524156928  https://pbs.twimg.com/media/CT5Qw94XAAA_2dP.jpg   \n",
       "\n",
       "   img_num                      p1   p1_conf  p1_dog                  p2  \\\n",
       "0        1  Welsh_springer_spaniel  0.465074    True              collie   \n",
       "1        1                 redbone  0.506826    True  miniature_pinscher   \n",
       "2        1         German_shepherd  0.596461    True            malinois   \n",
       "3        1     Rhodesian_ridgeback  0.408143    True             redbone   \n",
       "4        1      miniature_pinscher  0.560311    True          Rottweiler   \n",
       "5        1    Bernese_mountain_dog  0.651137    True    English_springer   \n",
       "6        1              box_turtle  0.933012   False          mud_turtle   \n",
       "7        1                    chow  0.692517    True     Tibetan_mastiff   \n",
       "8        1           shopping_cart  0.962465   False     shopping_basket   \n",
       "9        1        miniature_poodle  0.201493    True            komondor   \n",
       "\n",
       "    p2_conf  p2_dog                           p3   p3_conf  p3_dog  \n",
       "0  0.156665    True            Shetland_sheepdog  0.061428    True  \n",
       "1  0.074192    True          Rhodesian_ridgeback  0.072010    True  \n",
       "2  0.138584    True                   bloodhound  0.116197    True  \n",
       "3  0.360687    True           miniature_pinscher  0.222752    True  \n",
       "4  0.243682    True                     Doberman  0.154629    True  \n",
       "5  0.263788    True   Greater_Swiss_Mountain_dog  0.016199    True  \n",
       "6  0.045885   False                     terrapin  0.017885   False  \n",
       "7  0.058279    True                     fur_coat  0.054449   False  \n",
       "8  0.014594   False             golden_retriever  0.007959    True  \n",
       "9  0.192305    True  soft-coated_wheaten_terrier  0.082086    True  "
      ]
     },
     "execution_count": 11,
     "metadata": {},
     "output_type": "execute_result"
    }
   ],
   "source": [
    "# display the first 10 rows of the image prediction data\n",
    "img_data.head(10)"
   ]
  },
  {
   "cell_type": "code",
   "execution_count": 12,
   "id": "28d3ab55",
   "metadata": {},
   "outputs": [
    {
     "data": {
      "application/vnd.microsoft.datawrangler.viewer.v0+json": {
       "columns": [
        {
         "name": "index",
         "rawType": "int64",
         "type": "integer"
        },
        {
         "name": "tweet_id",
         "rawType": "int64",
         "type": "integer"
        },
        {
         "name": "jpg_url",
         "rawType": "object",
         "type": "string"
        },
        {
         "name": "img_num",
         "rawType": "int64",
         "type": "integer"
        },
        {
         "name": "p1",
         "rawType": "object",
         "type": "string"
        },
        {
         "name": "p1_conf",
         "rawType": "float64",
         "type": "float"
        },
        {
         "name": "p1_dog",
         "rawType": "bool",
         "type": "boolean"
        },
        {
         "name": "p2",
         "rawType": "object",
         "type": "string"
        },
        {
         "name": "p2_conf",
         "rawType": "float64",
         "type": "float"
        },
        {
         "name": "p2_dog",
         "rawType": "bool",
         "type": "boolean"
        },
        {
         "name": "p3",
         "rawType": "object",
         "type": "string"
        },
        {
         "name": "p3_conf",
         "rawType": "float64",
         "type": "float"
        },
        {
         "name": "p3_dog",
         "rawType": "bool",
         "type": "boolean"
        }
       ],
       "conversionMethod": "pd.DataFrame",
       "ref": "a76c83c6-a6e0-4a88-9eb2-f6438def65ac",
       "rows": [
        [
         "967",
         "706310011488698368",
         "https://pbs.twimg.com/media/Cc1RNHLW4AACG6H.jpg",
         "1",
         "Pembroke",
         "0.6981649999999999",
         "True",
         "Chihuahua",
         "0.105834",
         "True",
         "bloodhound",
         "0.0620304",
         "True"
        ],
        [
         "711",
         "685315239903100929",
         "https://pbs.twimg.com/media/CYK6kf0WMAAzP-0.jpg",
         "2",
         "chow",
         "0.4701619999999999",
         "True",
         "Pomeranian",
         "0.1596769999999999",
         "True",
         "Eskimo_dog",
         "0.105074",
         "True"
        ],
        [
         "382",
         "673320132811366400",
         "https://pbs.twimg.com/media/CVgdFjNWEAAxmbq.jpg",
         "3",
         "Samoyed",
         "0.978833",
         "True",
         "Pomeranian",
         "0.012763",
         "True",
         "Eskimo_dog",
         "0.00185305",
         "True"
        ],
        [
         "1195",
         "740365076218183684",
         "https://pbs.twimg.com/media/CkZOGhJWsAAHvPv.jpg",
         "1",
         "bow_tie",
         "0.246313",
         "False",
         "Windsor_tie",
         "0.172446",
         "False",
         "mushroom",
         "0.137516",
         "False"
        ],
        [
         "1309",
         "754011816964026368",
         "https://pbs.twimg.com/media/CnbJuPoXEAAjcVF.jpg",
         "1",
         "French_bulldog",
         "0.600985",
         "True",
         "Boston_bull",
         "0.273176",
         "True",
         "boxer",
         "0.0567715",
         "True"
        ],
        [
         "990",
         "707995814724026368",
         "https://pbs.twimg.com/media/CdNOb17WwAA5z4A.jpg",
         "1",
         "agama",
         "0.172087",
         "False",
         "Gila_monster",
         "0.126978",
         "False",
         "lumbermill",
         "0.0504",
         "False"
        ],
        [
         "1239",
         "746872823977771008",
         "https://pbs.twimg.com/media/Cl1s1p7WMAA44Vk.jpg",
         "1",
         "Pembroke",
         "0.540201",
         "True",
         "beagle",
         "0.207835",
         "True",
         "Italian_greyhound",
         "0.0435649",
         "True"
        ]
       ],
       "shape": {
        "columns": 12,
        "rows": 7
       }
      },
      "text/html": [
       "<div>\n",
       "<style scoped>\n",
       "    .dataframe tbody tr th:only-of-type {\n",
       "        vertical-align: middle;\n",
       "    }\n",
       "\n",
       "    .dataframe tbody tr th {\n",
       "        vertical-align: top;\n",
       "    }\n",
       "\n",
       "    .dataframe thead th {\n",
       "        text-align: right;\n",
       "    }\n",
       "</style>\n",
       "<table border=\"1\" class=\"dataframe\">\n",
       "  <thead>\n",
       "    <tr style=\"text-align: right;\">\n",
       "      <th></th>\n",
       "      <th>tweet_id</th>\n",
       "      <th>jpg_url</th>\n",
       "      <th>img_num</th>\n",
       "      <th>p1</th>\n",
       "      <th>p1_conf</th>\n",
       "      <th>p1_dog</th>\n",
       "      <th>p2</th>\n",
       "      <th>p2_conf</th>\n",
       "      <th>p2_dog</th>\n",
       "      <th>p3</th>\n",
       "      <th>p3_conf</th>\n",
       "      <th>p3_dog</th>\n",
       "    </tr>\n",
       "  </thead>\n",
       "  <tbody>\n",
       "    <tr>\n",
       "      <th>967</th>\n",
       "      <td>706310011488698368</td>\n",
       "      <td>https://pbs.twimg.com/media/Cc1RNHLW4AACG6H.jpg</td>\n",
       "      <td>1</td>\n",
       "      <td>Pembroke</td>\n",
       "      <td>0.698165</td>\n",
       "      <td>True</td>\n",
       "      <td>Chihuahua</td>\n",
       "      <td>0.105834</td>\n",
       "      <td>True</td>\n",
       "      <td>bloodhound</td>\n",
       "      <td>0.062030</td>\n",
       "      <td>True</td>\n",
       "    </tr>\n",
       "    <tr>\n",
       "      <th>711</th>\n",
       "      <td>685315239903100929</td>\n",
       "      <td>https://pbs.twimg.com/media/CYK6kf0WMAAzP-0.jpg</td>\n",
       "      <td>2</td>\n",
       "      <td>chow</td>\n",
       "      <td>0.470162</td>\n",
       "      <td>True</td>\n",
       "      <td>Pomeranian</td>\n",
       "      <td>0.159677</td>\n",
       "      <td>True</td>\n",
       "      <td>Eskimo_dog</td>\n",
       "      <td>0.105074</td>\n",
       "      <td>True</td>\n",
       "    </tr>\n",
       "    <tr>\n",
       "      <th>382</th>\n",
       "      <td>673320132811366400</td>\n",
       "      <td>https://pbs.twimg.com/media/CVgdFjNWEAAxmbq.jpg</td>\n",
       "      <td>3</td>\n",
       "      <td>Samoyed</td>\n",
       "      <td>0.978833</td>\n",
       "      <td>True</td>\n",
       "      <td>Pomeranian</td>\n",
       "      <td>0.012763</td>\n",
       "      <td>True</td>\n",
       "      <td>Eskimo_dog</td>\n",
       "      <td>0.001853</td>\n",
       "      <td>True</td>\n",
       "    </tr>\n",
       "    <tr>\n",
       "      <th>1195</th>\n",
       "      <td>740365076218183684</td>\n",
       "      <td>https://pbs.twimg.com/media/CkZOGhJWsAAHvPv.jpg</td>\n",
       "      <td>1</td>\n",
       "      <td>bow_tie</td>\n",
       "      <td>0.246313</td>\n",
       "      <td>False</td>\n",
       "      <td>Windsor_tie</td>\n",
       "      <td>0.172446</td>\n",
       "      <td>False</td>\n",
       "      <td>mushroom</td>\n",
       "      <td>0.137516</td>\n",
       "      <td>False</td>\n",
       "    </tr>\n",
       "    <tr>\n",
       "      <th>1309</th>\n",
       "      <td>754011816964026368</td>\n",
       "      <td>https://pbs.twimg.com/media/CnbJuPoXEAAjcVF.jpg</td>\n",
       "      <td>1</td>\n",
       "      <td>French_bulldog</td>\n",
       "      <td>0.600985</td>\n",
       "      <td>True</td>\n",
       "      <td>Boston_bull</td>\n",
       "      <td>0.273176</td>\n",
       "      <td>True</td>\n",
       "      <td>boxer</td>\n",
       "      <td>0.056772</td>\n",
       "      <td>True</td>\n",
       "    </tr>\n",
       "    <tr>\n",
       "      <th>990</th>\n",
       "      <td>707995814724026368</td>\n",
       "      <td>https://pbs.twimg.com/media/CdNOb17WwAA5z4A.jpg</td>\n",
       "      <td>1</td>\n",
       "      <td>agama</td>\n",
       "      <td>0.172087</td>\n",
       "      <td>False</td>\n",
       "      <td>Gila_monster</td>\n",
       "      <td>0.126978</td>\n",
       "      <td>False</td>\n",
       "      <td>lumbermill</td>\n",
       "      <td>0.050400</td>\n",
       "      <td>False</td>\n",
       "    </tr>\n",
       "    <tr>\n",
       "      <th>1239</th>\n",
       "      <td>746872823977771008</td>\n",
       "      <td>https://pbs.twimg.com/media/Cl1s1p7WMAA44Vk.jpg</td>\n",
       "      <td>1</td>\n",
       "      <td>Pembroke</td>\n",
       "      <td>0.540201</td>\n",
       "      <td>True</td>\n",
       "      <td>beagle</td>\n",
       "      <td>0.207835</td>\n",
       "      <td>True</td>\n",
       "      <td>Italian_greyhound</td>\n",
       "      <td>0.043565</td>\n",
       "      <td>True</td>\n",
       "    </tr>\n",
       "  </tbody>\n",
       "</table>\n",
       "</div>"
      ],
      "text/plain": [
       "                tweet_id                                          jpg_url  \\\n",
       "967   706310011488698368  https://pbs.twimg.com/media/Cc1RNHLW4AACG6H.jpg   \n",
       "711   685315239903100929  https://pbs.twimg.com/media/CYK6kf0WMAAzP-0.jpg   \n",
       "382   673320132811366400  https://pbs.twimg.com/media/CVgdFjNWEAAxmbq.jpg   \n",
       "1195  740365076218183684  https://pbs.twimg.com/media/CkZOGhJWsAAHvPv.jpg   \n",
       "1309  754011816964026368  https://pbs.twimg.com/media/CnbJuPoXEAAjcVF.jpg   \n",
       "990   707995814724026368  https://pbs.twimg.com/media/CdNOb17WwAA5z4A.jpg   \n",
       "1239  746872823977771008  https://pbs.twimg.com/media/Cl1s1p7WMAA44Vk.jpg   \n",
       "\n",
       "      img_num              p1   p1_conf  p1_dog            p2   p2_conf  \\\n",
       "967         1        Pembroke  0.698165    True     Chihuahua  0.105834   \n",
       "711         2            chow  0.470162    True    Pomeranian  0.159677   \n",
       "382         3         Samoyed  0.978833    True    Pomeranian  0.012763   \n",
       "1195        1         bow_tie  0.246313   False   Windsor_tie  0.172446   \n",
       "1309        1  French_bulldog  0.600985    True   Boston_bull  0.273176   \n",
       "990         1           agama  0.172087   False  Gila_monster  0.126978   \n",
       "1239        1        Pembroke  0.540201    True        beagle  0.207835   \n",
       "\n",
       "      p2_dog                 p3   p3_conf  p3_dog  \n",
       "967     True         bloodhound  0.062030    True  \n",
       "711     True         Eskimo_dog  0.105074    True  \n",
       "382     True         Eskimo_dog  0.001853    True  \n",
       "1195   False           mushroom  0.137516   False  \n",
       "1309    True              boxer  0.056772    True  \n",
       "990    False         lumbermill  0.050400   False  \n",
       "1239    True  Italian_greyhound  0.043565    True  "
      ]
     },
     "execution_count": 12,
     "metadata": {},
     "output_type": "execute_result"
    }
   ],
   "source": [
    "# checking a sample of the image prediction data\n",
    "img_data.sample(7)"
   ]
  },
  {
   "cell_type": "code",
   "execution_count": 13,
   "id": "28ba3873",
   "metadata": {},
   "outputs": [
    {
     "data": {
      "application/vnd.microsoft.datawrangler.viewer.v0+json": {
       "columns": [
        {
         "name": "index",
         "rawType": "int64",
         "type": "integer"
        },
        {
         "name": "tweet_id",
         "rawType": "int64",
         "type": "integer"
        },
        {
         "name": "jpg_url",
         "rawType": "object",
         "type": "string"
        },
        {
         "name": "img_num",
         "rawType": "int64",
         "type": "integer"
        },
        {
         "name": "p1",
         "rawType": "object",
         "type": "string"
        },
        {
         "name": "p1_conf",
         "rawType": "float64",
         "type": "float"
        },
        {
         "name": "p1_dog",
         "rawType": "bool",
         "type": "boolean"
        },
        {
         "name": "p2",
         "rawType": "object",
         "type": "string"
        },
        {
         "name": "p2_conf",
         "rawType": "float64",
         "type": "float"
        },
        {
         "name": "p2_dog",
         "rawType": "bool",
         "type": "boolean"
        },
        {
         "name": "p3",
         "rawType": "object",
         "type": "string"
        },
        {
         "name": "p3_conf",
         "rawType": "float64",
         "type": "float"
        },
        {
         "name": "p3_dog",
         "rawType": "bool",
         "type": "boolean"
        }
       ],
       "conversionMethod": "pd.DataFrame",
       "ref": "43d29ed2-01d0-4ba2-8150-24d0134a7d1d",
       "rows": [
        [
         "2065",
         "890240255349198849",
         "https://pbs.twimg.com/media/DFrEyVuW0AAO3t9.jpg",
         "1",
         "Pembroke",
         "0.511319",
         "True",
         "Cardigan",
         "0.451038",
         "True",
         "Chihuahua",
         "0.0292482",
         "True"
        ],
        [
         "2066",
         "890609185150312448",
         "https://pbs.twimg.com/media/DFwUU__XcAEpyXI.jpg",
         "1",
         "Irish_terrier",
         "0.4875739999999999",
         "True",
         "Irish_setter",
         "0.193054",
         "True",
         "Chesapeake_Bay_retriever",
         "0.118184",
         "True"
        ],
        [
         "2067",
         "890729181411237888",
         "https://pbs.twimg.com/media/DFyBahAVwAAhUTd.jpg",
         "2",
         "Pomeranian",
         "0.566142",
         "True",
         "Eskimo_dog",
         "0.1784059999999999",
         "True",
         "Pembroke",
         "0.0765069",
         "True"
        ],
        [
         "2068",
         "890971913173991426",
         "https://pbs.twimg.com/media/DF1eOmZXUAALUcq.jpg",
         "1",
         "Appenzeller",
         "0.341703",
         "True",
         "Border_collie",
         "0.199287",
         "True",
         "ice_lolly",
         "0.193548",
         "False"
        ],
        [
         "2069",
         "891087950875897856",
         "https://pbs.twimg.com/media/DF3HwyEWsAABqE6.jpg",
         "1",
         "Chesapeake_Bay_retriever",
         "0.425595",
         "True",
         "Irish_terrier",
         "0.116317",
         "True",
         "Indian_elephant",
         "0.0769021999999999",
         "False"
        ],
        [
         "2070",
         "891327558926688256",
         "https://pbs.twimg.com/media/DF6hr6BUMAAzZgT.jpg",
         "2",
         "basset",
         "0.555712",
         "True",
         "English_springer",
         "0.2257699999999999",
         "True",
         "German_short-haired_pointer",
         "0.175219",
         "True"
        ],
        [
         "2071",
         "891689557279858688",
         "https://pbs.twimg.com/media/DF_q7IAWsAEuuN8.jpg",
         "1",
         "paper_towel",
         "0.1702779999999999",
         "False",
         "Labrador_retriever",
         "0.1680859999999999",
         "True",
         "spatula",
         "0.0408359",
         "False"
        ],
        [
         "2072",
         "891815181378084864",
         "https://pbs.twimg.com/media/DGBdLU1WsAANxJ9.jpg",
         "1",
         "Chihuahua",
         "0.716012",
         "True",
         "malamute",
         "0.078253",
         "True",
         "kelpie",
         "0.0313789",
         "True"
        ],
        [
         "2073",
         "892177421306343426",
         "https://pbs.twimg.com/media/DGGmoV4XsAAUL6n.jpg",
         "1",
         "Chihuahua",
         "0.323581",
         "True",
         "Pekinese",
         "0.0906465",
         "True",
         "papillon",
         "0.0689569",
         "True"
        ],
        [
         "2074",
         "892420643555336193",
         "https://pbs.twimg.com/media/DGKD1-bXoAAIAUK.jpg",
         "1",
         "orange",
         "0.0970486",
         "False",
         "bagel",
         "0.0858511",
         "False",
         "banana",
         "0.07611",
         "False"
        ]
       ],
       "shape": {
        "columns": 12,
        "rows": 10
       }
      },
      "text/html": [
       "<div>\n",
       "<style scoped>\n",
       "    .dataframe tbody tr th:only-of-type {\n",
       "        vertical-align: middle;\n",
       "    }\n",
       "\n",
       "    .dataframe tbody tr th {\n",
       "        vertical-align: top;\n",
       "    }\n",
       "\n",
       "    .dataframe thead th {\n",
       "        text-align: right;\n",
       "    }\n",
       "</style>\n",
       "<table border=\"1\" class=\"dataframe\">\n",
       "  <thead>\n",
       "    <tr style=\"text-align: right;\">\n",
       "      <th></th>\n",
       "      <th>tweet_id</th>\n",
       "      <th>jpg_url</th>\n",
       "      <th>img_num</th>\n",
       "      <th>p1</th>\n",
       "      <th>p1_conf</th>\n",
       "      <th>p1_dog</th>\n",
       "      <th>p2</th>\n",
       "      <th>p2_conf</th>\n",
       "      <th>p2_dog</th>\n",
       "      <th>p3</th>\n",
       "      <th>p3_conf</th>\n",
       "      <th>p3_dog</th>\n",
       "    </tr>\n",
       "  </thead>\n",
       "  <tbody>\n",
       "    <tr>\n",
       "      <th>2065</th>\n",
       "      <td>890240255349198849</td>\n",
       "      <td>https://pbs.twimg.com/media/DFrEyVuW0AAO3t9.jpg</td>\n",
       "      <td>1</td>\n",
       "      <td>Pembroke</td>\n",
       "      <td>0.511319</td>\n",
       "      <td>True</td>\n",
       "      <td>Cardigan</td>\n",
       "      <td>0.451038</td>\n",
       "      <td>True</td>\n",
       "      <td>Chihuahua</td>\n",
       "      <td>0.029248</td>\n",
       "      <td>True</td>\n",
       "    </tr>\n",
       "    <tr>\n",
       "      <th>2066</th>\n",
       "      <td>890609185150312448</td>\n",
       "      <td>https://pbs.twimg.com/media/DFwUU__XcAEpyXI.jpg</td>\n",
       "      <td>1</td>\n",
       "      <td>Irish_terrier</td>\n",
       "      <td>0.487574</td>\n",
       "      <td>True</td>\n",
       "      <td>Irish_setter</td>\n",
       "      <td>0.193054</td>\n",
       "      <td>True</td>\n",
       "      <td>Chesapeake_Bay_retriever</td>\n",
       "      <td>0.118184</td>\n",
       "      <td>True</td>\n",
       "    </tr>\n",
       "    <tr>\n",
       "      <th>2067</th>\n",
       "      <td>890729181411237888</td>\n",
       "      <td>https://pbs.twimg.com/media/DFyBahAVwAAhUTd.jpg</td>\n",
       "      <td>2</td>\n",
       "      <td>Pomeranian</td>\n",
       "      <td>0.566142</td>\n",
       "      <td>True</td>\n",
       "      <td>Eskimo_dog</td>\n",
       "      <td>0.178406</td>\n",
       "      <td>True</td>\n",
       "      <td>Pembroke</td>\n",
       "      <td>0.076507</td>\n",
       "      <td>True</td>\n",
       "    </tr>\n",
       "    <tr>\n",
       "      <th>2068</th>\n",
       "      <td>890971913173991426</td>\n",
       "      <td>https://pbs.twimg.com/media/DF1eOmZXUAALUcq.jpg</td>\n",
       "      <td>1</td>\n",
       "      <td>Appenzeller</td>\n",
       "      <td>0.341703</td>\n",
       "      <td>True</td>\n",
       "      <td>Border_collie</td>\n",
       "      <td>0.199287</td>\n",
       "      <td>True</td>\n",
       "      <td>ice_lolly</td>\n",
       "      <td>0.193548</td>\n",
       "      <td>False</td>\n",
       "    </tr>\n",
       "    <tr>\n",
       "      <th>2069</th>\n",
       "      <td>891087950875897856</td>\n",
       "      <td>https://pbs.twimg.com/media/DF3HwyEWsAABqE6.jpg</td>\n",
       "      <td>1</td>\n",
       "      <td>Chesapeake_Bay_retriever</td>\n",
       "      <td>0.425595</td>\n",
       "      <td>True</td>\n",
       "      <td>Irish_terrier</td>\n",
       "      <td>0.116317</td>\n",
       "      <td>True</td>\n",
       "      <td>Indian_elephant</td>\n",
       "      <td>0.076902</td>\n",
       "      <td>False</td>\n",
       "    </tr>\n",
       "    <tr>\n",
       "      <th>2070</th>\n",
       "      <td>891327558926688256</td>\n",
       "      <td>https://pbs.twimg.com/media/DF6hr6BUMAAzZgT.jpg</td>\n",
       "      <td>2</td>\n",
       "      <td>basset</td>\n",
       "      <td>0.555712</td>\n",
       "      <td>True</td>\n",
       "      <td>English_springer</td>\n",
       "      <td>0.225770</td>\n",
       "      <td>True</td>\n",
       "      <td>German_short-haired_pointer</td>\n",
       "      <td>0.175219</td>\n",
       "      <td>True</td>\n",
       "    </tr>\n",
       "    <tr>\n",
       "      <th>2071</th>\n",
       "      <td>891689557279858688</td>\n",
       "      <td>https://pbs.twimg.com/media/DF_q7IAWsAEuuN8.jpg</td>\n",
       "      <td>1</td>\n",
       "      <td>paper_towel</td>\n",
       "      <td>0.170278</td>\n",
       "      <td>False</td>\n",
       "      <td>Labrador_retriever</td>\n",
       "      <td>0.168086</td>\n",
       "      <td>True</td>\n",
       "      <td>spatula</td>\n",
       "      <td>0.040836</td>\n",
       "      <td>False</td>\n",
       "    </tr>\n",
       "    <tr>\n",
       "      <th>2072</th>\n",
       "      <td>891815181378084864</td>\n",
       "      <td>https://pbs.twimg.com/media/DGBdLU1WsAANxJ9.jpg</td>\n",
       "      <td>1</td>\n",
       "      <td>Chihuahua</td>\n",
       "      <td>0.716012</td>\n",
       "      <td>True</td>\n",
       "      <td>malamute</td>\n",
       "      <td>0.078253</td>\n",
       "      <td>True</td>\n",
       "      <td>kelpie</td>\n",
       "      <td>0.031379</td>\n",
       "      <td>True</td>\n",
       "    </tr>\n",
       "    <tr>\n",
       "      <th>2073</th>\n",
       "      <td>892177421306343426</td>\n",
       "      <td>https://pbs.twimg.com/media/DGGmoV4XsAAUL6n.jpg</td>\n",
       "      <td>1</td>\n",
       "      <td>Chihuahua</td>\n",
       "      <td>0.323581</td>\n",
       "      <td>True</td>\n",
       "      <td>Pekinese</td>\n",
       "      <td>0.090647</td>\n",
       "      <td>True</td>\n",
       "      <td>papillon</td>\n",
       "      <td>0.068957</td>\n",
       "      <td>True</td>\n",
       "    </tr>\n",
       "    <tr>\n",
       "      <th>2074</th>\n",
       "      <td>892420643555336193</td>\n",
       "      <td>https://pbs.twimg.com/media/DGKD1-bXoAAIAUK.jpg</td>\n",
       "      <td>1</td>\n",
       "      <td>orange</td>\n",
       "      <td>0.097049</td>\n",
       "      <td>False</td>\n",
       "      <td>bagel</td>\n",
       "      <td>0.085851</td>\n",
       "      <td>False</td>\n",
       "      <td>banana</td>\n",
       "      <td>0.076110</td>\n",
       "      <td>False</td>\n",
       "    </tr>\n",
       "  </tbody>\n",
       "</table>\n",
       "</div>"
      ],
      "text/plain": [
       "                tweet_id                                          jpg_url  \\\n",
       "2065  890240255349198849  https://pbs.twimg.com/media/DFrEyVuW0AAO3t9.jpg   \n",
       "2066  890609185150312448  https://pbs.twimg.com/media/DFwUU__XcAEpyXI.jpg   \n",
       "2067  890729181411237888  https://pbs.twimg.com/media/DFyBahAVwAAhUTd.jpg   \n",
       "2068  890971913173991426  https://pbs.twimg.com/media/DF1eOmZXUAALUcq.jpg   \n",
       "2069  891087950875897856  https://pbs.twimg.com/media/DF3HwyEWsAABqE6.jpg   \n",
       "2070  891327558926688256  https://pbs.twimg.com/media/DF6hr6BUMAAzZgT.jpg   \n",
       "2071  891689557279858688  https://pbs.twimg.com/media/DF_q7IAWsAEuuN8.jpg   \n",
       "2072  891815181378084864  https://pbs.twimg.com/media/DGBdLU1WsAANxJ9.jpg   \n",
       "2073  892177421306343426  https://pbs.twimg.com/media/DGGmoV4XsAAUL6n.jpg   \n",
       "2074  892420643555336193  https://pbs.twimg.com/media/DGKD1-bXoAAIAUK.jpg   \n",
       "\n",
       "      img_num                        p1   p1_conf  p1_dog                  p2  \\\n",
       "2065        1                  Pembroke  0.511319    True            Cardigan   \n",
       "2066        1             Irish_terrier  0.487574    True        Irish_setter   \n",
       "2067        2                Pomeranian  0.566142    True          Eskimo_dog   \n",
       "2068        1               Appenzeller  0.341703    True       Border_collie   \n",
       "2069        1  Chesapeake_Bay_retriever  0.425595    True       Irish_terrier   \n",
       "2070        2                    basset  0.555712    True    English_springer   \n",
       "2071        1               paper_towel  0.170278   False  Labrador_retriever   \n",
       "2072        1                 Chihuahua  0.716012    True            malamute   \n",
       "2073        1                 Chihuahua  0.323581    True            Pekinese   \n",
       "2074        1                    orange  0.097049   False               bagel   \n",
       "\n",
       "       p2_conf  p2_dog                           p3   p3_conf  p3_dog  \n",
       "2065  0.451038    True                    Chihuahua  0.029248    True  \n",
       "2066  0.193054    True     Chesapeake_Bay_retriever  0.118184    True  \n",
       "2067  0.178406    True                     Pembroke  0.076507    True  \n",
       "2068  0.199287    True                    ice_lolly  0.193548   False  \n",
       "2069  0.116317    True              Indian_elephant  0.076902   False  \n",
       "2070  0.225770    True  German_short-haired_pointer  0.175219    True  \n",
       "2071  0.168086    True                      spatula  0.040836   False  \n",
       "2072  0.078253    True                       kelpie  0.031379    True  \n",
       "2073  0.090647    True                     papillon  0.068957    True  \n",
       "2074  0.085851   False                       banana  0.076110   False  "
      ]
     },
     "execution_count": 13,
     "metadata": {},
     "output_type": "execute_result"
    }
   ],
   "source": [
    "# checking the last 10 rows of the twitter archive data\n",
    "img_data.tail(10)"
   ]
  },
  {
   "cell_type": "code",
   "execution_count": 14,
   "id": "356b50ac",
   "metadata": {},
   "outputs": [
    {
     "data": {
      "text/plain": [
       "(2075, 12)"
      ]
     },
     "execution_count": 14,
     "metadata": {},
     "output_type": "execute_result"
    }
   ],
   "source": [
    "# getting the shape of the dataset\n",
    "img_data.shape"
   ]
  },
  {
   "cell_type": "markdown",
   "id": "9e08de21",
   "metadata": {},
   "source": [
    "##### Twitter's API Dataset"
   ]
  },
  {
   "cell_type": "code",
   "execution_count": 15,
   "id": "7f89ce47",
   "metadata": {},
   "outputs": [
    {
     "data": {
      "application/vnd.microsoft.datawrangler.viewer.v0+json": {
       "columns": [
        {
         "name": "index",
         "rawType": "int64",
         "type": "integer"
        },
        {
         "name": "id",
         "rawType": "int64",
         "type": "integer"
        },
        {
         "name": "created_at",
         "rawType": "object",
         "type": "string"
        },
        {
         "name": "retweet_count",
         "rawType": "int64",
         "type": "integer"
        },
        {
         "name": "favorite_count",
         "rawType": "int64",
         "type": "integer"
        }
       ],
       "conversionMethod": "pd.DataFrame",
       "ref": "cf3a4a57-2e77-4a0c-b892-826913dbec7a",
       "rows": [
        [
         "0",
         "892420643555336193",
         "Tue Aug 01 16:23:56 +0000 2017",
         "8853",
         "39467"
        ],
        [
         "1",
         "892177421306343426",
         "Tue Aug 01 00:17:27 +0000 2017",
         "6514",
         "33819"
        ],
        [
         "2",
         "891815181378084864",
         "Mon Jul 31 00:18:03 +0000 2017",
         "4328",
         "25461"
        ],
        [
         "3",
         "891689557279858688",
         "Sun Jul 30 15:58:51 +0000 2017",
         "8964",
         "42908"
        ],
        [
         "4",
         "891327558926688256",
         "Sat Jul 29 16:00:24 +0000 2017",
         "9774",
         "41048"
        ],
        [
         "5",
         "891087950875897856",
         "Sat Jul 29 00:08:17 +0000 2017",
         "3261",
         "20562"
        ],
        [
         "6",
         "890971913173991426",
         "Fri Jul 28 16:27:12 +0000 2017",
         "2158",
         "12041"
        ],
        [
         "7",
         "890729181411237888",
         "Fri Jul 28 00:22:40 +0000 2017",
         "16716",
         "56848"
        ],
        [
         "8",
         "890609185150312448",
         "Thu Jul 27 16:25:51 +0000 2017",
         "4429",
         "28226"
        ],
        [
         "9",
         "890240255349198849",
         "Wed Jul 26 15:59:51 +0000 2017",
         "7711",
         "32467"
        ]
       ],
       "shape": {
        "columns": 4,
        "rows": 10
       }
      },
      "text/html": [
       "<div>\n",
       "<style scoped>\n",
       "    .dataframe tbody tr th:only-of-type {\n",
       "        vertical-align: middle;\n",
       "    }\n",
       "\n",
       "    .dataframe tbody tr th {\n",
       "        vertical-align: top;\n",
       "    }\n",
       "\n",
       "    .dataframe thead th {\n",
       "        text-align: right;\n",
       "    }\n",
       "</style>\n",
       "<table border=\"1\" class=\"dataframe\">\n",
       "  <thead>\n",
       "    <tr style=\"text-align: right;\">\n",
       "      <th></th>\n",
       "      <th>id</th>\n",
       "      <th>created_at</th>\n",
       "      <th>retweet_count</th>\n",
       "      <th>favorite_count</th>\n",
       "    </tr>\n",
       "  </thead>\n",
       "  <tbody>\n",
       "    <tr>\n",
       "      <th>0</th>\n",
       "      <td>892420643555336193</td>\n",
       "      <td>Tue Aug 01 16:23:56 +0000 2017</td>\n",
       "      <td>8853</td>\n",
       "      <td>39467</td>\n",
       "    </tr>\n",
       "    <tr>\n",
       "      <th>1</th>\n",
       "      <td>892177421306343426</td>\n",
       "      <td>Tue Aug 01 00:17:27 +0000 2017</td>\n",
       "      <td>6514</td>\n",
       "      <td>33819</td>\n",
       "    </tr>\n",
       "    <tr>\n",
       "      <th>2</th>\n",
       "      <td>891815181378084864</td>\n",
       "      <td>Mon Jul 31 00:18:03 +0000 2017</td>\n",
       "      <td>4328</td>\n",
       "      <td>25461</td>\n",
       "    </tr>\n",
       "    <tr>\n",
       "      <th>3</th>\n",
       "      <td>891689557279858688</td>\n",
       "      <td>Sun Jul 30 15:58:51 +0000 2017</td>\n",
       "      <td>8964</td>\n",
       "      <td>42908</td>\n",
       "    </tr>\n",
       "    <tr>\n",
       "      <th>4</th>\n",
       "      <td>891327558926688256</td>\n",
       "      <td>Sat Jul 29 16:00:24 +0000 2017</td>\n",
       "      <td>9774</td>\n",
       "      <td>41048</td>\n",
       "    </tr>\n",
       "    <tr>\n",
       "      <th>5</th>\n",
       "      <td>891087950875897856</td>\n",
       "      <td>Sat Jul 29 00:08:17 +0000 2017</td>\n",
       "      <td>3261</td>\n",
       "      <td>20562</td>\n",
       "    </tr>\n",
       "    <tr>\n",
       "      <th>6</th>\n",
       "      <td>890971913173991426</td>\n",
       "      <td>Fri Jul 28 16:27:12 +0000 2017</td>\n",
       "      <td>2158</td>\n",
       "      <td>12041</td>\n",
       "    </tr>\n",
       "    <tr>\n",
       "      <th>7</th>\n",
       "      <td>890729181411237888</td>\n",
       "      <td>Fri Jul 28 00:22:40 +0000 2017</td>\n",
       "      <td>16716</td>\n",
       "      <td>56848</td>\n",
       "    </tr>\n",
       "    <tr>\n",
       "      <th>8</th>\n",
       "      <td>890609185150312448</td>\n",
       "      <td>Thu Jul 27 16:25:51 +0000 2017</td>\n",
       "      <td>4429</td>\n",
       "      <td>28226</td>\n",
       "    </tr>\n",
       "    <tr>\n",
       "      <th>9</th>\n",
       "      <td>890240255349198849</td>\n",
       "      <td>Wed Jul 26 15:59:51 +0000 2017</td>\n",
       "      <td>7711</td>\n",
       "      <td>32467</td>\n",
       "    </tr>\n",
       "  </tbody>\n",
       "</table>\n",
       "</div>"
      ],
      "text/plain": [
       "                   id                      created_at  retweet_count  \\\n",
       "0  892420643555336193  Tue Aug 01 16:23:56 +0000 2017           8853   \n",
       "1  892177421306343426  Tue Aug 01 00:17:27 +0000 2017           6514   \n",
       "2  891815181378084864  Mon Jul 31 00:18:03 +0000 2017           4328   \n",
       "3  891689557279858688  Sun Jul 30 15:58:51 +0000 2017           8964   \n",
       "4  891327558926688256  Sat Jul 29 16:00:24 +0000 2017           9774   \n",
       "5  891087950875897856  Sat Jul 29 00:08:17 +0000 2017           3261   \n",
       "6  890971913173991426  Fri Jul 28 16:27:12 +0000 2017           2158   \n",
       "7  890729181411237888  Fri Jul 28 00:22:40 +0000 2017          16716   \n",
       "8  890609185150312448  Thu Jul 27 16:25:51 +0000 2017           4429   \n",
       "9  890240255349198849  Wed Jul 26 15:59:51 +0000 2017           7711   \n",
       "\n",
       "   favorite_count  \n",
       "0           39467  \n",
       "1           33819  \n",
       "2           25461  \n",
       "3           42908  \n",
       "4           41048  \n",
       "5           20562  \n",
       "6           12041  \n",
       "7           56848  \n",
       "8           28226  \n",
       "9           32467  "
      ]
     },
     "execution_count": 15,
     "metadata": {},
     "output_type": "execute_result"
    }
   ],
   "source": [
    "# displaying the first 10 rows of the twitter data\n",
    "tweets_data.head(10)"
   ]
  },
  {
   "cell_type": "code",
   "execution_count": 16,
   "id": "7eba8115",
   "metadata": {},
   "outputs": [
    {
     "data": {
      "application/vnd.microsoft.datawrangler.viewer.v0+json": {
       "columns": [
        {
         "name": "index",
         "rawType": "int64",
         "type": "integer"
        },
        {
         "name": "id",
         "rawType": "int64",
         "type": "integer"
        },
        {
         "name": "created_at",
         "rawType": "object",
         "type": "string"
        },
        {
         "name": "retweet_count",
         "rawType": "int64",
         "type": "integer"
        },
        {
         "name": "favorite_count",
         "rawType": "int64",
         "type": "integer"
        }
       ],
       "conversionMethod": "pd.DataFrame",
       "ref": "a93edd80-2987-4192-ab03-1e911b03c6de",
       "rows": [
        [
         "2250",
         "667801013445750784",
         "Fri Nov 20 20:25:43 +0000 2015",
         "101",
         "346"
        ],
        [
         "1952",
         "673656262056419329",
         "Mon Dec 07 00:12:23 +0000 2015",
         "265",
         "769"
        ],
        [
         "2254",
         "667766675769573376",
         "Fri Nov 20 18:09:16 +0000 2015",
         "243",
         "476"
        ],
        [
         "1332",
         "705428427625635840",
         "Thu Mar 03 16:23:38 +0000 2016",
         "1931",
         "4188"
        ],
        [
         "1290",
         "708109389455101952",
         "Fri Mar 11 01:56:49 +0000 2016",
         "610",
         "2124"
        ],
        [
         "1467",
         "694183373896572928",
         "Mon Feb 01 15:39:48 +0000 2016",
         "1040",
         "3236"
        ],
        [
         "630",
         "794205286408003585",
         "Thu Nov 03 15:51:10 +0000 2016",
         "3895",
         "10314"
        ]
       ],
       "shape": {
        "columns": 4,
        "rows": 7
       }
      },
      "text/html": [
       "<div>\n",
       "<style scoped>\n",
       "    .dataframe tbody tr th:only-of-type {\n",
       "        vertical-align: middle;\n",
       "    }\n",
       "\n",
       "    .dataframe tbody tr th {\n",
       "        vertical-align: top;\n",
       "    }\n",
       "\n",
       "    .dataframe thead th {\n",
       "        text-align: right;\n",
       "    }\n",
       "</style>\n",
       "<table border=\"1\" class=\"dataframe\">\n",
       "  <thead>\n",
       "    <tr style=\"text-align: right;\">\n",
       "      <th></th>\n",
       "      <th>id</th>\n",
       "      <th>created_at</th>\n",
       "      <th>retweet_count</th>\n",
       "      <th>favorite_count</th>\n",
       "    </tr>\n",
       "  </thead>\n",
       "  <tbody>\n",
       "    <tr>\n",
       "      <th>2250</th>\n",
       "      <td>667801013445750784</td>\n",
       "      <td>Fri Nov 20 20:25:43 +0000 2015</td>\n",
       "      <td>101</td>\n",
       "      <td>346</td>\n",
       "    </tr>\n",
       "    <tr>\n",
       "      <th>1952</th>\n",
       "      <td>673656262056419329</td>\n",
       "      <td>Mon Dec 07 00:12:23 +0000 2015</td>\n",
       "      <td>265</td>\n",
       "      <td>769</td>\n",
       "    </tr>\n",
       "    <tr>\n",
       "      <th>2254</th>\n",
       "      <td>667766675769573376</td>\n",
       "      <td>Fri Nov 20 18:09:16 +0000 2015</td>\n",
       "      <td>243</td>\n",
       "      <td>476</td>\n",
       "    </tr>\n",
       "    <tr>\n",
       "      <th>1332</th>\n",
       "      <td>705428427625635840</td>\n",
       "      <td>Thu Mar 03 16:23:38 +0000 2016</td>\n",
       "      <td>1931</td>\n",
       "      <td>4188</td>\n",
       "    </tr>\n",
       "    <tr>\n",
       "      <th>1290</th>\n",
       "      <td>708109389455101952</td>\n",
       "      <td>Fri Mar 11 01:56:49 +0000 2016</td>\n",
       "      <td>610</td>\n",
       "      <td>2124</td>\n",
       "    </tr>\n",
       "    <tr>\n",
       "      <th>1467</th>\n",
       "      <td>694183373896572928</td>\n",
       "      <td>Mon Feb 01 15:39:48 +0000 2016</td>\n",
       "      <td>1040</td>\n",
       "      <td>3236</td>\n",
       "    </tr>\n",
       "    <tr>\n",
       "      <th>630</th>\n",
       "      <td>794205286408003585</td>\n",
       "      <td>Thu Nov 03 15:51:10 +0000 2016</td>\n",
       "      <td>3895</td>\n",
       "      <td>10314</td>\n",
       "    </tr>\n",
       "  </tbody>\n",
       "</table>\n",
       "</div>"
      ],
      "text/plain": [
       "                      id                      created_at  retweet_count  \\\n",
       "2250  667801013445750784  Fri Nov 20 20:25:43 +0000 2015            101   \n",
       "1952  673656262056419329  Mon Dec 07 00:12:23 +0000 2015            265   \n",
       "2254  667766675769573376  Fri Nov 20 18:09:16 +0000 2015            243   \n",
       "1332  705428427625635840  Thu Mar 03 16:23:38 +0000 2016           1931   \n",
       "1290  708109389455101952  Fri Mar 11 01:56:49 +0000 2016            610   \n",
       "1467  694183373896572928  Mon Feb 01 15:39:48 +0000 2016           1040   \n",
       "630   794205286408003585  Thu Nov 03 15:51:10 +0000 2016           3895   \n",
       "\n",
       "      favorite_count  \n",
       "2250             346  \n",
       "1952             769  \n",
       "2254             476  \n",
       "1332            4188  \n",
       "1290            2124  \n",
       "1467            3236  \n",
       "630            10314  "
      ]
     },
     "execution_count": 16,
     "metadata": {},
     "output_type": "execute_result"
    }
   ],
   "source": [
    "# checking a sample of the twitter data\n",
    "tweets_data.sample(7)"
   ]
  },
  {
   "cell_type": "code",
   "execution_count": 17,
   "id": "75a56822",
   "metadata": {},
   "outputs": [
    {
     "data": {
      "application/vnd.microsoft.datawrangler.viewer.v0+json": {
       "columns": [
        {
         "name": "index",
         "rawType": "int64",
         "type": "integer"
        },
        {
         "name": "id",
         "rawType": "int64",
         "type": "integer"
        },
        {
         "name": "created_at",
         "rawType": "object",
         "type": "string"
        },
        {
         "name": "retweet_count",
         "rawType": "int64",
         "type": "integer"
        },
        {
         "name": "favorite_count",
         "rawType": "int64",
         "type": "integer"
        }
       ],
       "conversionMethod": "pd.DataFrame",
       "ref": "b5568653-d4fe-4468-8884-ed1f2bc741cc",
       "rows": [
        [
         "2344",
         "666058600524156928",
         "Mon Nov 16 01:01:59 +0000 2015",
         "61",
         "115"
        ],
        [
         "2345",
         "666057090499244032",
         "Mon Nov 16 00:55:59 +0000 2015",
         "146",
         "304"
        ],
        [
         "2346",
         "666055525042405380",
         "Mon Nov 16 00:49:46 +0000 2015",
         "261",
         "448"
        ],
        [
         "2347",
         "666051853826850816",
         "Mon Nov 16 00:35:11 +0000 2015",
         "879",
         "1253"
        ],
        [
         "2348",
         "666050758794694657",
         "Mon Nov 16 00:30:50 +0000 2015",
         "60",
         "136"
        ],
        [
         "2349",
         "666049248165822465",
         "Mon Nov 16 00:24:50 +0000 2015",
         "41",
         "111"
        ],
        [
         "2350",
         "666044226329800704",
         "Mon Nov 16 00:04:52 +0000 2015",
         "147",
         "311"
        ],
        [
         "2351",
         "666033412701032449",
         "Sun Nov 15 23:21:54 +0000 2015",
         "47",
         "128"
        ],
        [
         "2352",
         "666029285002620928",
         "Sun Nov 15 23:05:30 +0000 2015",
         "48",
         "132"
        ],
        [
         "2353",
         "666020888022790149",
         "Sun Nov 15 22:32:08 +0000 2015",
         "532",
         "2535"
        ]
       ],
       "shape": {
        "columns": 4,
        "rows": 10
       }
      },
      "text/html": [
       "<div>\n",
       "<style scoped>\n",
       "    .dataframe tbody tr th:only-of-type {\n",
       "        vertical-align: middle;\n",
       "    }\n",
       "\n",
       "    .dataframe tbody tr th {\n",
       "        vertical-align: top;\n",
       "    }\n",
       "\n",
       "    .dataframe thead th {\n",
       "        text-align: right;\n",
       "    }\n",
       "</style>\n",
       "<table border=\"1\" class=\"dataframe\">\n",
       "  <thead>\n",
       "    <tr style=\"text-align: right;\">\n",
       "      <th></th>\n",
       "      <th>id</th>\n",
       "      <th>created_at</th>\n",
       "      <th>retweet_count</th>\n",
       "      <th>favorite_count</th>\n",
       "    </tr>\n",
       "  </thead>\n",
       "  <tbody>\n",
       "    <tr>\n",
       "      <th>2344</th>\n",
       "      <td>666058600524156928</td>\n",
       "      <td>Mon Nov 16 01:01:59 +0000 2015</td>\n",
       "      <td>61</td>\n",
       "      <td>115</td>\n",
       "    </tr>\n",
       "    <tr>\n",
       "      <th>2345</th>\n",
       "      <td>666057090499244032</td>\n",
       "      <td>Mon Nov 16 00:55:59 +0000 2015</td>\n",
       "      <td>146</td>\n",
       "      <td>304</td>\n",
       "    </tr>\n",
       "    <tr>\n",
       "      <th>2346</th>\n",
       "      <td>666055525042405380</td>\n",
       "      <td>Mon Nov 16 00:49:46 +0000 2015</td>\n",
       "      <td>261</td>\n",
       "      <td>448</td>\n",
       "    </tr>\n",
       "    <tr>\n",
       "      <th>2347</th>\n",
       "      <td>666051853826850816</td>\n",
       "      <td>Mon Nov 16 00:35:11 +0000 2015</td>\n",
       "      <td>879</td>\n",
       "      <td>1253</td>\n",
       "    </tr>\n",
       "    <tr>\n",
       "      <th>2348</th>\n",
       "      <td>666050758794694657</td>\n",
       "      <td>Mon Nov 16 00:30:50 +0000 2015</td>\n",
       "      <td>60</td>\n",
       "      <td>136</td>\n",
       "    </tr>\n",
       "    <tr>\n",
       "      <th>2349</th>\n",
       "      <td>666049248165822465</td>\n",
       "      <td>Mon Nov 16 00:24:50 +0000 2015</td>\n",
       "      <td>41</td>\n",
       "      <td>111</td>\n",
       "    </tr>\n",
       "    <tr>\n",
       "      <th>2350</th>\n",
       "      <td>666044226329800704</td>\n",
       "      <td>Mon Nov 16 00:04:52 +0000 2015</td>\n",
       "      <td>147</td>\n",
       "      <td>311</td>\n",
       "    </tr>\n",
       "    <tr>\n",
       "      <th>2351</th>\n",
       "      <td>666033412701032449</td>\n",
       "      <td>Sun Nov 15 23:21:54 +0000 2015</td>\n",
       "      <td>47</td>\n",
       "      <td>128</td>\n",
       "    </tr>\n",
       "    <tr>\n",
       "      <th>2352</th>\n",
       "      <td>666029285002620928</td>\n",
       "      <td>Sun Nov 15 23:05:30 +0000 2015</td>\n",
       "      <td>48</td>\n",
       "      <td>132</td>\n",
       "    </tr>\n",
       "    <tr>\n",
       "      <th>2353</th>\n",
       "      <td>666020888022790149</td>\n",
       "      <td>Sun Nov 15 22:32:08 +0000 2015</td>\n",
       "      <td>532</td>\n",
       "      <td>2535</td>\n",
       "    </tr>\n",
       "  </tbody>\n",
       "</table>\n",
       "</div>"
      ],
      "text/plain": [
       "                      id                      created_at  retweet_count  \\\n",
       "2344  666058600524156928  Mon Nov 16 01:01:59 +0000 2015             61   \n",
       "2345  666057090499244032  Mon Nov 16 00:55:59 +0000 2015            146   \n",
       "2346  666055525042405380  Mon Nov 16 00:49:46 +0000 2015            261   \n",
       "2347  666051853826850816  Mon Nov 16 00:35:11 +0000 2015            879   \n",
       "2348  666050758794694657  Mon Nov 16 00:30:50 +0000 2015             60   \n",
       "2349  666049248165822465  Mon Nov 16 00:24:50 +0000 2015             41   \n",
       "2350  666044226329800704  Mon Nov 16 00:04:52 +0000 2015            147   \n",
       "2351  666033412701032449  Sun Nov 15 23:21:54 +0000 2015             47   \n",
       "2352  666029285002620928  Sun Nov 15 23:05:30 +0000 2015             48   \n",
       "2353  666020888022790149  Sun Nov 15 22:32:08 +0000 2015            532   \n",
       "\n",
       "      favorite_count  \n",
       "2344             115  \n",
       "2345             304  \n",
       "2346             448  \n",
       "2347            1253  \n",
       "2348             136  \n",
       "2349             111  \n",
       "2350             311  \n",
       "2351             128  \n",
       "2352             132  \n",
       "2353            2535  "
      ]
     },
     "execution_count": 17,
     "metadata": {},
     "output_type": "execute_result"
    }
   ],
   "source": [
    "# checking the last 10 rows of the twitter data\n",
    "tweets_data.tail(10)"
   ]
  },
  {
   "cell_type": "code",
   "execution_count": 18,
   "id": "d2fce8a9",
   "metadata": {},
   "outputs": [
    {
     "data": {
      "text/plain": [
       "(2354, 4)"
      ]
     },
     "execution_count": 18,
     "metadata": {},
     "output_type": "execute_result"
    }
   ],
   "source": [
    "# getting the shape of the dataset\n",
    "tweets_data.shape"
   ]
  },
  {
   "cell_type": "markdown",
   "id": "ed624461",
   "metadata": {},
   "source": [
    "After evaluating the `shape` of the three datasets, row numbers is mismatched.<br>\n",
    "That point indicates to know about irrelevant observations in the three datasets to find alike observation rows."
   ]
  },
  {
   "cell_type": "markdown",
   "id": "bc614133",
   "metadata": {},
   "source": [
    "#### Programmatic Assessment\n",
    "In this section, I'll use more specific programmatic methods to display statistics, detect duplicates, and perform other checks on the data."
   ]
  },
  {
   "cell_type": "markdown",
   "id": "192f931c",
   "metadata": {},
   "source": [
    "##### Twitter Archive Dataset"
   ]
  },
  {
   "cell_type": "markdown",
   "id": "894b6d2f",
   "metadata": {},
   "source": [
    "In this section, I will assess the `twitter_arch_data` dataset to identify potential quality and tidiness issues.  \n",
    "First, I will use the `info()` method to get a brief overview of the data types and the number of null values in each column."
   ]
  },
  {
   "cell_type": "code",
   "execution_count": 19,
   "id": "f5c45cde",
   "metadata": {},
   "outputs": [
    {
     "name": "stdout",
     "output_type": "stream",
     "text": [
      "<class 'pandas.core.frame.DataFrame'>\n",
      "RangeIndex: 2356 entries, 0 to 2355\n",
      "Data columns (total 17 columns):\n",
      " #   Column                      Non-Null Count  Dtype  \n",
      "---  ------                      --------------  -----  \n",
      " 0   tweet_id                    2356 non-null   int64  \n",
      " 1   in_reply_to_status_id       78 non-null     float64\n",
      " 2   in_reply_to_user_id         78 non-null     float64\n",
      " 3   timestamp                   2356 non-null   object \n",
      " 4   source                      2356 non-null   object \n",
      " 5   text                        2356 non-null   object \n",
      " 6   retweeted_status_id         181 non-null    float64\n",
      " 7   retweeted_status_user_id    181 non-null    float64\n",
      " 8   retweeted_status_timestamp  181 non-null    object \n",
      " 9   expanded_urls               2297 non-null   object \n",
      " 10  rating_numerator            2356 non-null   int64  \n",
      " 11  rating_denominator          2356 non-null   int64  \n",
      " 12  name                        1611 non-null   object \n",
      " 13  doggo                       97 non-null     object \n",
      " 14  floofer                     10 non-null     object \n",
      " 15  pupper                      257 non-null    object \n",
      " 16  puppo                       30 non-null     object \n",
      "dtypes: float64(4), int64(3), object(10)\n",
      "memory usage: 313.0+ KB\n"
     ]
    }
   ],
   "source": [
    "# display information about the twitter archive data\n",
    "twitter_arch_data.info()"
   ]
  },
  {
   "cell_type": "markdown",
   "id": "2d289df1",
   "metadata": {},
   "source": [
    "Given the number of rows in this dataset (2356), completeness issues are observed in some columns, along with validity issues in the `id` and timestamp fields.\n",
    "\n",
    "In this dataset, the retweet-related columns contain many null values, which indicate original tweets.  \n",
    "Therefore, checking these columns is necessary to ensure the relationship between them before proceeding with the cleaning process."
   ]
  },
  {
   "cell_type": "code",
   "execution_count": 20,
   "id": "74a44d07",
   "metadata": {},
   "outputs": [
    {
     "data": {
      "text/plain": [
       "181"
      ]
     },
     "execution_count": 20,
     "metadata": {},
     "output_type": "execute_result"
    }
   ],
   "source": [
    "# checking the relationship between the columns in the twitter archive data\n",
    "twitter_arch_data[twitter_arch_data['retweeted_status_id'].notnull() & \n",
    "                  twitter_arch_data['retweeted_status_user_id'].notnull() &\n",
    "                  twitter_arch_data['retweeted_status_timestamp'].notnull()].shape[0]"
   ]
  },
  {
   "cell_type": "markdown",
   "id": "ce1e846f",
   "metadata": {},
   "source": [
    "The three retweet-related columns (`retweeted_status_id`, `retweeted_status_user_id`, and `retweeted_status_timestamp`) always appear together in the same rows, as indicated by their equal non-null counts (181).  \n",
    "Since all three columns have identical non-null values, we can confidently rely on just one of them (e.g., `retweeted_status_id`) to filter out retweets.  \n",
    "This approach simplifies the data cleaning process by focusing only on original tweets.\n",
    "\n",
    "The same method will be implemented on `in_reply_to_status_id` and `in_reply_to_user_id` as they are related to the originality of the tweets."
   ]
  },
  {
   "cell_type": "code",
   "execution_count": 21,
   "id": "4fcf3d0f",
   "metadata": {},
   "outputs": [
    {
     "data": {
      "text/plain": [
       "78"
      ]
     },
     "execution_count": 21,
     "metadata": {},
     "output_type": "execute_result"
    }
   ],
   "source": [
    "twitter_arch_data[twitter_arch_data['in_reply_to_status_id'].notnull() & \n",
    "                  twitter_arch_data['in_reply_to_user_id'].notnull()].shape[0]"
   ]
  },
  {
   "cell_type": "markdown",
   "id": "9f25abab",
   "metadata": {},
   "source": [
    "The two columns appear together in the same rows, as indicated by their equal non-null counts `78`."
   ]
  },
  {
   "cell_type": "code",
   "execution_count": 22,
   "id": "5c2a0ca7",
   "metadata": {},
   "outputs": [
    {
     "data": {
      "application/vnd.microsoft.datawrangler.viewer.v0+json": {
       "columns": [
        {
         "name": "index",
         "rawType": "object",
         "type": "string"
        },
        {
         "name": "rating_numerator",
         "rawType": "float64",
         "type": "float"
        },
        {
         "name": "rating_denominator",
         "rawType": "float64",
         "type": "float"
        }
       ],
       "conversionMethod": "pd.DataFrame",
       "ref": "2e357b58-fafc-4bc7-9cb0-0c9cb33cb3bf",
       "rows": [
        [
         "count",
         "2356.0",
         "2356.0"
        ],
        [
         "mean",
         "13.12648556876061",
         "10.455432937181664"
        ],
        [
         "std",
         "45.87664762333017",
         "6.745237226942428"
        ],
        [
         "min",
         "0.0",
         "0.0"
        ],
        [
         "25%",
         "10.0",
         "10.0"
        ],
        [
         "50%",
         "11.0",
         "10.0"
        ],
        [
         "75%",
         "12.0",
         "10.0"
        ],
        [
         "max",
         "1776.0",
         "170.0"
        ]
       ],
       "shape": {
        "columns": 2,
        "rows": 8
       }
      },
      "text/html": [
       "<div>\n",
       "<style scoped>\n",
       "    .dataframe tbody tr th:only-of-type {\n",
       "        vertical-align: middle;\n",
       "    }\n",
       "\n",
       "    .dataframe tbody tr th {\n",
       "        vertical-align: top;\n",
       "    }\n",
       "\n",
       "    .dataframe thead th {\n",
       "        text-align: right;\n",
       "    }\n",
       "</style>\n",
       "<table border=\"1\" class=\"dataframe\">\n",
       "  <thead>\n",
       "    <tr style=\"text-align: right;\">\n",
       "      <th></th>\n",
       "      <th>rating_numerator</th>\n",
       "      <th>rating_denominator</th>\n",
       "    </tr>\n",
       "  </thead>\n",
       "  <tbody>\n",
       "    <tr>\n",
       "      <th>count</th>\n",
       "      <td>2356.000000</td>\n",
       "      <td>2356.000000</td>\n",
       "    </tr>\n",
       "    <tr>\n",
       "      <th>mean</th>\n",
       "      <td>13.126486</td>\n",
       "      <td>10.455433</td>\n",
       "    </tr>\n",
       "    <tr>\n",
       "      <th>std</th>\n",
       "      <td>45.876648</td>\n",
       "      <td>6.745237</td>\n",
       "    </tr>\n",
       "    <tr>\n",
       "      <th>min</th>\n",
       "      <td>0.000000</td>\n",
       "      <td>0.000000</td>\n",
       "    </tr>\n",
       "    <tr>\n",
       "      <th>25%</th>\n",
       "      <td>10.000000</td>\n",
       "      <td>10.000000</td>\n",
       "    </tr>\n",
       "    <tr>\n",
       "      <th>50%</th>\n",
       "      <td>11.000000</td>\n",
       "      <td>10.000000</td>\n",
       "    </tr>\n",
       "    <tr>\n",
       "      <th>75%</th>\n",
       "      <td>12.000000</td>\n",
       "      <td>10.000000</td>\n",
       "    </tr>\n",
       "    <tr>\n",
       "      <th>max</th>\n",
       "      <td>1776.000000</td>\n",
       "      <td>170.000000</td>\n",
       "    </tr>\n",
       "  </tbody>\n",
       "</table>\n",
       "</div>"
      ],
      "text/plain": [
       "       rating_numerator  rating_denominator\n",
       "count       2356.000000         2356.000000\n",
       "mean          13.126486           10.455433\n",
       "std           45.876648            6.745237\n",
       "min            0.000000            0.000000\n",
       "25%           10.000000           10.000000\n",
       "50%           11.000000           10.000000\n",
       "75%           12.000000           10.000000\n",
       "max         1776.000000          170.000000"
      ]
     },
     "execution_count": 22,
     "metadata": {},
     "output_type": "execute_result"
    }
   ],
   "source": [
    "# displaying a description of the twitter archive data valid columns\n",
    "twitter_arch_data[['rating_numerator', 'rating_denominator']].describe()"
   ]
  },
  {
   "cell_type": "markdown",
   "id": "e3ee947c",
   "metadata": {},
   "source": [
    "The code cell above demonstrates statistical information about the numerical columns in twitter archive dataset. There is an issue with the `max` values for the `rating_denominator` and `rating_numerator` columns."
   ]
  },
  {
   "cell_type": "code",
   "execution_count": 23,
   "id": "592183b4",
   "metadata": {},
   "outputs": [
    {
     "data": {
      "text/plain": [
       "rating_denominator\n",
       "10     2333\n",
       "11        3\n",
       "50        3\n",
       "20        2\n",
       "80        2\n",
       "0         1\n",
       "7         1\n",
       "70        1\n",
       "170       1\n",
       "15        1\n",
       "150       1\n",
       "90        1\n",
       "40        1\n",
       "130       1\n",
       "110       1\n",
       "16        1\n",
       "120       1\n",
       "2         1\n",
       "Name: count, dtype: int64"
      ]
     },
     "execution_count": 23,
     "metadata": {},
     "output_type": "execute_result"
    }
   ],
   "source": [
    "# checking for values are not equal to 10\n",
    "twitter_arch_data['rating_denominator'].value_counts()"
   ]
  },
  {
   "cell_type": "markdown",
   "id": "bc9f7c49",
   "metadata": {},
   "source": [
    "There are many values aren't equal to 10 in the `rating_denominator` column, which must be replaced with the main denominator of `10`."
   ]
  },
  {
   "cell_type": "code",
   "execution_count": 24,
   "id": "d6ad9af9",
   "metadata": {},
   "outputs": [
    {
     "data": {
      "text/plain": [
       "25"
      ]
     },
     "execution_count": 24,
     "metadata": {},
     "output_type": "execute_result"
    }
   ],
   "source": [
    "# checking for out of range values in rating numerator\n",
    "twitter_arch_data[twitter_arch_data['rating_numerator'] > 17].shape[0]"
   ]
  },
  {
   "cell_type": "markdown",
   "id": "b7c7f973",
   "metadata": {},
   "source": [
    "The `rating_numerator` column has `25` out of range values which are greater than `17`, so removing them in the cleaning process won't affect much.\n",
    "> **Note:** the value of `17` I have chosen will be set a holder value."
   ]
  },
  {
   "cell_type": "markdown",
   "id": "25d30ca3",
   "metadata": {},
   "source": [
    "Then, I am checking the `source` column unique values."
   ]
  },
  {
   "cell_type": "code",
   "execution_count": 25,
   "id": "911bd83e",
   "metadata": {},
   "outputs": [
    {
     "data": {
      "text/plain": [
       "source\n",
       "<a href=\"http://twitter.com/download/iphone\" rel=\"nofollow\">Twitter for iPhone</a>     2221\n",
       "<a href=\"http://vine.co\" rel=\"nofollow\">Vine - Make a Scene</a>                          91\n",
       "<a href=\"http://twitter.com\" rel=\"nofollow\">Twitter Web Client</a>                       33\n",
       "<a href=\"https://about.twitter.com/products/tweetdeck\" rel=\"nofollow\">TweetDeck</a>      11\n",
       "Name: count, dtype: int64"
      ]
     },
     "execution_count": 25,
     "metadata": {},
     "output_type": "execute_result"
    }
   ],
   "source": [
    "# checking source column values in the twitter archive data\n",
    "twitter_arch_data['source'].value_counts()"
   ]
  },
  {
   "cell_type": "markdown",
   "id": "529a5752",
   "metadata": {},
   "source": [
    "The source column have HTML-like format with a link of the source and the name of it.\n",
    "\n",
    "I'm checking for the uniqueness data quality pillar by searching for duplicates by using two methods:\n",
    "\n",
    "- The first method is looking for duplicates on the entire dataset.\n",
    "- The second method finds them with an exception for the `tweet_id` column.\n"
   ]
  },
  {
   "cell_type": "code",
   "execution_count": 26,
   "id": "27c21e2c",
   "metadata": {},
   "outputs": [
    {
     "name": "stdout",
     "output_type": "stream",
     "text": [
      "0\n"
     ]
    }
   ],
   "source": [
    "# checking duplicates in the twitter archive data\n",
    "print(twitter_arch_data.duplicated().sum())"
   ]
  },
  {
   "cell_type": "markdown",
   "id": "59c920fd",
   "metadata": {},
   "source": [
    "There isn't any duplicates as the output is `0` for the entire dataset."
   ]
  },
  {
   "cell_type": "code",
   "execution_count": 27,
   "id": "ad42ea9e",
   "metadata": {},
   "outputs": [
    {
     "name": "stdout",
     "output_type": "stream",
     "text": [
      "0\n"
     ]
    }
   ],
   "source": [
    "# checking duplicates in the twitter archive data without the id column\n",
    "print((twitter_arch_data.duplicated(subset=['tweet_id'])).sum())"
   ]
  },
  {
   "cell_type": "markdown",
   "id": "a984b1c0",
   "metadata": {},
   "source": [
    "There isn't any duplicates as the output is `0` in the two methods, which means that this dataset doesn't have uniqueness issues."
   ]
  },
  {
   "cell_type": "code",
   "execution_count": 28,
   "id": "dda15aef",
   "metadata": {},
   "outputs": [
    {
     "name": "stdout",
     "output_type": "stream",
     "text": [
      "doggo\n",
      "doggo    97\n",
      "Name: count, dtype: int64\n",
      "floofer\n",
      "floofer    10\n",
      "Name: count, dtype: int64\n",
      "pupper\n",
      "pupper    257\n",
      "Name: count, dtype: int64\n",
      "puppo\n",
      "puppo    30\n",
      "Name: count, dtype: int64\n"
     ]
    }
   ],
   "source": [
    "# checking the unique values in the doggo, floofer, pupper and puppo columns\n",
    "print(twitter_arch_data['doggo'].value_counts())\n",
    "print(twitter_arch_data['floofer'].value_counts())\n",
    "print(twitter_arch_data['pupper'].value_counts())\n",
    "print(twitter_arch_data['puppo'].value_counts())"
   ]
  },
  {
   "cell_type": "markdown",
   "id": "4e9664be",
   "metadata": {},
   "source": [
    "##### Images Predictions Dataset"
   ]
  },
  {
   "cell_type": "markdown",
   "id": "35c51a0d",
   "metadata": {},
   "source": [
    "Here, I will review the `Img_data` dataset to detect any possible quality or tidiness concerns.  \n",
    "The initial step involves using the `info()` method to quickly examine the data types and the presence of null values across the columns."
   ]
  },
  {
   "cell_type": "code",
   "execution_count": 29,
   "id": "b4715ed6",
   "metadata": {},
   "outputs": [
    {
     "name": "stdout",
     "output_type": "stream",
     "text": [
      "<class 'pandas.core.frame.DataFrame'>\n",
      "RangeIndex: 2075 entries, 0 to 2074\n",
      "Data columns (total 12 columns):\n",
      " #   Column    Non-Null Count  Dtype  \n",
      "---  ------    --------------  -----  \n",
      " 0   tweet_id  2075 non-null   int64  \n",
      " 1   jpg_url   2075 non-null   object \n",
      " 2   img_num   2075 non-null   int64  \n",
      " 3   p1        2075 non-null   object \n",
      " 4   p1_conf   2075 non-null   float64\n",
      " 5   p1_dog    2075 non-null   bool   \n",
      " 6   p2        2075 non-null   object \n",
      " 7   p2_conf   2075 non-null   float64\n",
      " 8   p2_dog    2075 non-null   bool   \n",
      " 9   p3        2075 non-null   object \n",
      " 10  p3_conf   2075 non-null   float64\n",
      " 11  p3_dog    2075 non-null   bool   \n",
      "dtypes: bool(3), float64(3), int64(2), object(4)\n",
      "memory usage: 152.1+ KB\n"
     ]
    }
   ],
   "source": [
    "# display information about the image prediction data\n",
    "img_data.info()"
   ]
  },
  {
   "cell_type": "markdown",
   "id": "af543b44",
   "metadata": {},
   "source": [
    "`info` method didn't display any serious issues with the image prediction data except for the data type for the `tweet_id`  column"
   ]
  },
  {
   "cell_type": "code",
   "execution_count": 30,
   "id": "f1e5e5e8",
   "metadata": {},
   "outputs": [
    {
     "data": {
      "application/vnd.microsoft.datawrangler.viewer.v0+json": {
       "columns": [
        {
         "name": "index",
         "rawType": "object",
         "type": "string"
        },
        {
         "name": "tweet_id",
         "rawType": "float64",
         "type": "float"
        },
        {
         "name": "img_num",
         "rawType": "float64",
         "type": "float"
        },
        {
         "name": "p1_conf",
         "rawType": "float64",
         "type": "float"
        },
        {
         "name": "p2_conf",
         "rawType": "float64",
         "type": "float"
        },
        {
         "name": "p3_conf",
         "rawType": "float64",
         "type": "float"
        }
       ],
       "conversionMethod": "pd.DataFrame",
       "ref": "408d4234-de78-40c2-a86d-0154d9715193",
       "rows": [
        [
         "count",
         "2075.0",
         "2075.0",
         "2075.0",
         "2075.0",
         "2075.0"
        ],
        [
         "mean",
         "7.384513578525292e+17",
         "1.203855421686747",
         "0.5945482636144578",
         "0.1345886095003918",
         "0.0603241686181065"
        ],
        [
         "std",
         "6.785203333023566e+16",
         "0.5618750279836288",
         "0.27117351686569",
         "0.10066573936432342",
         "0.05090593131945619"
        ],
        [
         "min",
         "6.660208880227901e+17",
         "1.0",
         "0.0443334",
         "1.0113000000000001e-08",
         "1.7401699999999998e-10"
        ],
        [
         "25%",
         "6.76483507139541e+17",
         "1.0",
         "0.36441199999999996",
         "0.05388625",
         "0.016222399999999998"
        ],
        [
         "50%",
         "7.119988098580439e+17",
         "1.0",
         "0.58823",
         "0.118181",
         "0.0494438"
        ],
        [
         "75%",
         "7.932034485251789e+17",
         "1.0",
         "0.843855",
         "0.19556549999999995",
         "0.09180755"
        ],
        [
         "max",
         "8.924206435553362e+17",
         "4.0",
         "1.0",
         "0.488014",
         "0.273419"
        ]
       ],
       "shape": {
        "columns": 5,
        "rows": 8
       }
      },
      "text/html": [
       "<div>\n",
       "<style scoped>\n",
       "    .dataframe tbody tr th:only-of-type {\n",
       "        vertical-align: middle;\n",
       "    }\n",
       "\n",
       "    .dataframe tbody tr th {\n",
       "        vertical-align: top;\n",
       "    }\n",
       "\n",
       "    .dataframe thead th {\n",
       "        text-align: right;\n",
       "    }\n",
       "</style>\n",
       "<table border=\"1\" class=\"dataframe\">\n",
       "  <thead>\n",
       "    <tr style=\"text-align: right;\">\n",
       "      <th></th>\n",
       "      <th>tweet_id</th>\n",
       "      <th>img_num</th>\n",
       "      <th>p1_conf</th>\n",
       "      <th>p2_conf</th>\n",
       "      <th>p3_conf</th>\n",
       "    </tr>\n",
       "  </thead>\n",
       "  <tbody>\n",
       "    <tr>\n",
       "      <th>count</th>\n",
       "      <td>2.075000e+03</td>\n",
       "      <td>2075.000000</td>\n",
       "      <td>2075.000000</td>\n",
       "      <td>2.075000e+03</td>\n",
       "      <td>2.075000e+03</td>\n",
       "    </tr>\n",
       "    <tr>\n",
       "      <th>mean</th>\n",
       "      <td>7.384514e+17</td>\n",
       "      <td>1.203855</td>\n",
       "      <td>0.594548</td>\n",
       "      <td>1.345886e-01</td>\n",
       "      <td>6.032417e-02</td>\n",
       "    </tr>\n",
       "    <tr>\n",
       "      <th>std</th>\n",
       "      <td>6.785203e+16</td>\n",
       "      <td>0.561875</td>\n",
       "      <td>0.271174</td>\n",
       "      <td>1.006657e-01</td>\n",
       "      <td>5.090593e-02</td>\n",
       "    </tr>\n",
       "    <tr>\n",
       "      <th>min</th>\n",
       "      <td>6.660209e+17</td>\n",
       "      <td>1.000000</td>\n",
       "      <td>0.044333</td>\n",
       "      <td>1.011300e-08</td>\n",
       "      <td>1.740170e-10</td>\n",
       "    </tr>\n",
       "    <tr>\n",
       "      <th>25%</th>\n",
       "      <td>6.764835e+17</td>\n",
       "      <td>1.000000</td>\n",
       "      <td>0.364412</td>\n",
       "      <td>5.388625e-02</td>\n",
       "      <td>1.622240e-02</td>\n",
       "    </tr>\n",
       "    <tr>\n",
       "      <th>50%</th>\n",
       "      <td>7.119988e+17</td>\n",
       "      <td>1.000000</td>\n",
       "      <td>0.588230</td>\n",
       "      <td>1.181810e-01</td>\n",
       "      <td>4.944380e-02</td>\n",
       "    </tr>\n",
       "    <tr>\n",
       "      <th>75%</th>\n",
       "      <td>7.932034e+17</td>\n",
       "      <td>1.000000</td>\n",
       "      <td>0.843855</td>\n",
       "      <td>1.955655e-01</td>\n",
       "      <td>9.180755e-02</td>\n",
       "    </tr>\n",
       "    <tr>\n",
       "      <th>max</th>\n",
       "      <td>8.924206e+17</td>\n",
       "      <td>4.000000</td>\n",
       "      <td>1.000000</td>\n",
       "      <td>4.880140e-01</td>\n",
       "      <td>2.734190e-01</td>\n",
       "    </tr>\n",
       "  </tbody>\n",
       "</table>\n",
       "</div>"
      ],
      "text/plain": [
       "           tweet_id      img_num      p1_conf       p2_conf       p3_conf\n",
       "count  2.075000e+03  2075.000000  2075.000000  2.075000e+03  2.075000e+03\n",
       "mean   7.384514e+17     1.203855     0.594548  1.345886e-01  6.032417e-02\n",
       "std    6.785203e+16     0.561875     0.271174  1.006657e-01  5.090593e-02\n",
       "min    6.660209e+17     1.000000     0.044333  1.011300e-08  1.740170e-10\n",
       "25%    6.764835e+17     1.000000     0.364412  5.388625e-02  1.622240e-02\n",
       "50%    7.119988e+17     1.000000     0.588230  1.181810e-01  4.944380e-02\n",
       "75%    7.932034e+17     1.000000     0.843855  1.955655e-01  9.180755e-02\n",
       "max    8.924206e+17     4.000000     1.000000  4.880140e-01  2.734190e-01"
      ]
     },
     "execution_count": 30,
     "metadata": {},
     "output_type": "execute_result"
    }
   ],
   "source": [
    "# displaying a description of the image prediction data\n",
    "img_data.describe()"
   ]
  },
  {
   "cell_type": "markdown",
   "id": "418f6ae3",
   "metadata": {},
   "source": [
    "The code cell above demonstrates statistical information about the numerical columns in image prediction dataset.<br>\n",
    "There is a weird value in the `max` of `p1_conf`. I'll check it because it isn't understandable to get `1` as a model prediction confidence.\n"
   ]
  },
  {
   "cell_type": "code",
   "execution_count": 31,
   "id": "0f3c17c9",
   "metadata": {},
   "outputs": [
    {
     "data": {
      "application/vnd.microsoft.datawrangler.viewer.v0+json": {
       "columns": [
        {
         "name": "index",
         "rawType": "int64",
         "type": "integer"
        },
        {
         "name": "tweet_id",
         "rawType": "int64",
         "type": "integer"
        },
        {
         "name": "jpg_url",
         "rawType": "object",
         "type": "string"
        },
        {
         "name": "img_num",
         "rawType": "int64",
         "type": "integer"
        },
        {
         "name": "p1",
         "rawType": "object",
         "type": "string"
        },
        {
         "name": "p1_conf",
         "rawType": "float64",
         "type": "float"
        },
        {
         "name": "p1_dog",
         "rawType": "bool",
         "type": "boolean"
        },
        {
         "name": "p2",
         "rawType": "object",
         "type": "string"
        },
        {
         "name": "p2_conf",
         "rawType": "float64",
         "type": "float"
        },
        {
         "name": "p2_dog",
         "rawType": "bool",
         "type": "boolean"
        },
        {
         "name": "p3",
         "rawType": "object",
         "type": "string"
        },
        {
         "name": "p3_conf",
         "rawType": "float64",
         "type": "float"
        },
        {
         "name": "p3_dog",
         "rawType": "bool",
         "type": "boolean"
        }
       ],
       "conversionMethod": "pd.DataFrame",
       "ref": "940f9b70-dda3-4083-8081-454f09ce1f1f",
       "rows": [
        [
         "106",
         "667866724293877760",
         "https://pbs.twimg.com/media/CUS9PlUWwAANeAD.jpg",
         "1",
         "jigsaw_puzzle",
         "1.0",
         "False",
         "prayer_rug",
         "1.0113000000000001e-08",
         "False",
         "doormat",
         "1.7401699999999998e-10",
         "False"
        ]
       ],
       "shape": {
        "columns": 12,
        "rows": 1
       }
      },
      "text/html": [
       "<div>\n",
       "<style scoped>\n",
       "    .dataframe tbody tr th:only-of-type {\n",
       "        vertical-align: middle;\n",
       "    }\n",
       "\n",
       "    .dataframe tbody tr th {\n",
       "        vertical-align: top;\n",
       "    }\n",
       "\n",
       "    .dataframe thead th {\n",
       "        text-align: right;\n",
       "    }\n",
       "</style>\n",
       "<table border=\"1\" class=\"dataframe\">\n",
       "  <thead>\n",
       "    <tr style=\"text-align: right;\">\n",
       "      <th></th>\n",
       "      <th>tweet_id</th>\n",
       "      <th>jpg_url</th>\n",
       "      <th>img_num</th>\n",
       "      <th>p1</th>\n",
       "      <th>p1_conf</th>\n",
       "      <th>p1_dog</th>\n",
       "      <th>p2</th>\n",
       "      <th>p2_conf</th>\n",
       "      <th>p2_dog</th>\n",
       "      <th>p3</th>\n",
       "      <th>p3_conf</th>\n",
       "      <th>p3_dog</th>\n",
       "    </tr>\n",
       "  </thead>\n",
       "  <tbody>\n",
       "    <tr>\n",
       "      <th>106</th>\n",
       "      <td>667866724293877760</td>\n",
       "      <td>https://pbs.twimg.com/media/CUS9PlUWwAANeAD.jpg</td>\n",
       "      <td>1</td>\n",
       "      <td>jigsaw_puzzle</td>\n",
       "      <td>1.0</td>\n",
       "      <td>False</td>\n",
       "      <td>prayer_rug</td>\n",
       "      <td>1.011300e-08</td>\n",
       "      <td>False</td>\n",
       "      <td>doormat</td>\n",
       "      <td>1.740170e-10</td>\n",
       "      <td>False</td>\n",
       "    </tr>\n",
       "  </tbody>\n",
       "</table>\n",
       "</div>"
      ],
      "text/plain": [
       "               tweet_id                                          jpg_url  \\\n",
       "106  667866724293877760  https://pbs.twimg.com/media/CUS9PlUWwAANeAD.jpg   \n",
       "\n",
       "     img_num             p1  p1_conf  p1_dog          p2       p2_conf  \\\n",
       "106        1  jigsaw_puzzle      1.0   False  prayer_rug  1.011300e-08   \n",
       "\n",
       "     p2_dog       p3       p3_conf  p3_dog  \n",
       "106   False  doormat  1.740170e-10   False  "
      ]
     },
     "execution_count": 31,
     "metadata": {},
     "output_type": "execute_result"
    }
   ],
   "source": [
    "img_data[img_data['p1_conf'] >= 1]"
   ]
  },
  {
   "cell_type": "markdown",
   "id": "ce99e931",
   "metadata": {},
   "source": [
    "As shown above this row actually couldn't been classified as a \"dog\" by the three prediction models. Therefore, there is a **validity** issue here.\n",
    "\n",
    "Because there are three prediction columns which classify the image as a dog or not, I will check if there are rows that are not classified as a dog in all three columns."
   ]
  },
  {
   "cell_type": "code",
   "execution_count": 32,
   "id": "2d43c9f8",
   "metadata": {},
   "outputs": [
    {
     "data": {
      "text/plain": [
       "324"
      ]
     },
     "execution_count": 32,
     "metadata": {},
     "output_type": "execute_result"
    }
   ],
   "source": [
    "# checking for rows which don't classify a dog\n",
    "not_dog = img_data[(img_data['p1_dog'] == False) & (img_data['p2_dog'] == False) & (img_data['p3_dog'] == False)]\n",
    "not_dog.shape[0]"
   ]
  },
  {
   "cell_type": "markdown",
   "id": "501a7273",
   "metadata": {},
   "source": [
    "There are `324` rows that are not classified as a dog in all three columns of classifying *(including the previous issue found)*, which is a **validity** issue.\n",
    "\n",
    "I used here the same two methods I used before with the first dataset to deal with uniqueness quality pillar by looking for duplicates."
   ]
  },
  {
   "cell_type": "code",
   "execution_count": 33,
   "id": "31c4ffeb",
   "metadata": {},
   "outputs": [
    {
     "name": "stdout",
     "output_type": "stream",
     "text": [
      "0\n"
     ]
    }
   ],
   "source": [
    "# checking for duplicates in the entire image prediction data\n",
    "print(img_data.duplicated().sum())"
   ]
  },
  {
   "cell_type": "markdown",
   "id": "55813237",
   "metadata": {},
   "source": [
    "There isn't any duplicates as the output is `0` for the entire dataset."
   ]
  },
  {
   "cell_type": "code",
   "execution_count": 34,
   "id": "11bc170d",
   "metadata": {},
   "outputs": [
    {
     "name": "stdout",
     "output_type": "stream",
     "text": [
      "0\n"
     ]
    }
   ],
   "source": [
    "# checking for duplicates in the image prediction data without the id column\n",
    "print((img_data.duplicated(subset=['tweet_id'])).sum())"
   ]
  },
  {
   "cell_type": "markdown",
   "id": "ea3cc7e5",
   "metadata": {},
   "source": [
    "There isn't any duplicates as the output is `0` in the two methods, which means that this dataset doesn't have uniqueness issues.\n",
    "\n",
    "Here I am checking identical ids in `img_data` and `twitter_arch_data` datasets to make sure that the two datasets are related to each other."
   ]
  },
  {
   "cell_type": "code",
   "execution_count": 35,
   "id": "9df8ef99",
   "metadata": {},
   "outputs": [
    {
     "name": "stdout",
     "output_type": "stream",
     "text": [
      "Number of common ids in the two datasets is: 2075\n"
     ]
    }
   ],
   "source": [
    "# making a set containing the tweet ids from both dataframes\n",
    "id_data = set(twitter_arch_data['tweet_id']) & set(img_data['tweet_id'])\n",
    "\n",
    "# checking duplicates in the tweet ids\n",
    "print('Number of common ids in the two datasets is:', len(id_data))"
   ]
  },
  {
   "cell_type": "markdown",
   "id": "1d0035e1",
   "metadata": {},
   "source": [
    "So, we have `2075` common tweet ids between the two datasets, which means that there are `281` tweets in the `twitter_arch_data` dataset that don't have image predictions."
   ]
  },
  {
   "cell_type": "markdown",
   "id": "b9e07473",
   "metadata": {},
   "source": [
    "##### Twitter's API Dataset"
   ]
  },
  {
   "cell_type": "markdown",
   "id": "c0e7c24f",
   "metadata": {},
   "source": [
    "In this part, I will explore the `tweets_data` dataset to highlight any potential issues regarding quality and tidiness.  \n",
    "I will begin by applying the `info()` method to summarize the data types and count the null values in each column."
   ]
  },
  {
   "cell_type": "code",
   "execution_count": 36,
   "id": "eaca3b1c",
   "metadata": {},
   "outputs": [
    {
     "name": "stdout",
     "output_type": "stream",
     "text": [
      "<class 'pandas.core.frame.DataFrame'>\n",
      "RangeIndex: 2354 entries, 0 to 2353\n",
      "Data columns (total 4 columns):\n",
      " #   Column          Non-Null Count  Dtype \n",
      "---  ------          --------------  ----- \n",
      " 0   id              2354 non-null   int64 \n",
      " 1   created_at      2354 non-null   object\n",
      " 2   retweet_count   2354 non-null   int64 \n",
      " 3   favorite_count  2354 non-null   int64 \n",
      "dtypes: int64(3), object(1)\n",
      "memory usage: 73.7+ KB\n"
     ]
    }
   ],
   "source": [
    "# display information about the twitter data\n",
    "tweets_data.info()"
   ]
  },
  {
   "cell_type": "markdown",
   "id": "65cc0df9",
   "metadata": {},
   "source": [
    "As it's a small dataset it hasn't many issues. It hasn't any completeness issues, but I should turn the `id` and `created_at` columns into string and datetime types."
   ]
  },
  {
   "cell_type": "code",
   "execution_count": 37,
   "id": "e18afbb0",
   "metadata": {},
   "outputs": [
    {
     "data": {
      "application/vnd.microsoft.datawrangler.viewer.v0+json": {
       "columns": [
        {
         "name": "index",
         "rawType": "object",
         "type": "string"
        },
        {
         "name": "retweet_count",
         "rawType": "float64",
         "type": "float"
        },
        {
         "name": "favorite_count",
         "rawType": "float64",
         "type": "float"
        }
       ],
       "conversionMethod": "pd.DataFrame",
       "ref": "6d7dc2ac-4b53-43a1-a463-9f44c1a94bd0",
       "rows": [
        [
         "count",
         "2354.0",
         "2354.0"
        ],
        [
         "mean",
         "3164.7973661852166",
         "8080.968564146135"
        ],
        [
         "std",
         "5284.770363535315",
         "11814.771334127436"
        ],
        [
         "min",
         "0.0",
         "0.0"
        ],
        [
         "25%",
         "624.5",
         "1415.0"
        ],
        [
         "50%",
         "1473.5",
         "3603.5"
        ],
        [
         "75%",
         "3652.0",
         "10122.25"
        ],
        [
         "max",
         "79515.0",
         "132810.0"
        ]
       ],
       "shape": {
        "columns": 2,
        "rows": 8
       }
      },
      "text/html": [
       "<div>\n",
       "<style scoped>\n",
       "    .dataframe tbody tr th:only-of-type {\n",
       "        vertical-align: middle;\n",
       "    }\n",
       "\n",
       "    .dataframe tbody tr th {\n",
       "        vertical-align: top;\n",
       "    }\n",
       "\n",
       "    .dataframe thead th {\n",
       "        text-align: right;\n",
       "    }\n",
       "</style>\n",
       "<table border=\"1\" class=\"dataframe\">\n",
       "  <thead>\n",
       "    <tr style=\"text-align: right;\">\n",
       "      <th></th>\n",
       "      <th>retweet_count</th>\n",
       "      <th>favorite_count</th>\n",
       "    </tr>\n",
       "  </thead>\n",
       "  <tbody>\n",
       "    <tr>\n",
       "      <th>count</th>\n",
       "      <td>2354.000000</td>\n",
       "      <td>2354.000000</td>\n",
       "    </tr>\n",
       "    <tr>\n",
       "      <th>mean</th>\n",
       "      <td>3164.797366</td>\n",
       "      <td>8080.968564</td>\n",
       "    </tr>\n",
       "    <tr>\n",
       "      <th>std</th>\n",
       "      <td>5284.770364</td>\n",
       "      <td>11814.771334</td>\n",
       "    </tr>\n",
       "    <tr>\n",
       "      <th>min</th>\n",
       "      <td>0.000000</td>\n",
       "      <td>0.000000</td>\n",
       "    </tr>\n",
       "    <tr>\n",
       "      <th>25%</th>\n",
       "      <td>624.500000</td>\n",
       "      <td>1415.000000</td>\n",
       "    </tr>\n",
       "    <tr>\n",
       "      <th>50%</th>\n",
       "      <td>1473.500000</td>\n",
       "      <td>3603.500000</td>\n",
       "    </tr>\n",
       "    <tr>\n",
       "      <th>75%</th>\n",
       "      <td>3652.000000</td>\n",
       "      <td>10122.250000</td>\n",
       "    </tr>\n",
       "    <tr>\n",
       "      <th>max</th>\n",
       "      <td>79515.000000</td>\n",
       "      <td>132810.000000</td>\n",
       "    </tr>\n",
       "  </tbody>\n",
       "</table>\n",
       "</div>"
      ],
      "text/plain": [
       "       retweet_count  favorite_count\n",
       "count    2354.000000     2354.000000\n",
       "mean     3164.797366     8080.968564\n",
       "std      5284.770364    11814.771334\n",
       "min         0.000000        0.000000\n",
       "25%       624.500000     1415.000000\n",
       "50%      1473.500000     3603.500000\n",
       "75%      3652.000000    10122.250000\n",
       "max     79515.000000   132810.000000"
      ]
     },
     "execution_count": 37,
     "metadata": {},
     "output_type": "execute_result"
    }
   ],
   "source": [
    "# displaying a description of the twitter data\n",
    "tweets_data[['retweet_count', 'favorite_count']].describe()"
   ]
  },
  {
   "cell_type": "markdown",
   "id": "3a3acb50",
   "metadata": {},
   "source": [
    "`describe` method doesn't display issues here because the dataset is ordinary.\n",
    "\n",
    "The same two ways (methods) to check uniqueness quality pillar I used above is used here too."
   ]
  },
  {
   "cell_type": "code",
   "execution_count": 38,
   "id": "7d852f0b",
   "metadata": {},
   "outputs": [
    {
     "name": "stdout",
     "output_type": "stream",
     "text": [
      "0\n"
     ]
    }
   ],
   "source": [
    "# checking for duplicates in the twitter data\n",
    "print(tweets_data.duplicated().sum())"
   ]
  },
  {
   "cell_type": "code",
   "execution_count": 39,
   "id": "06e7fc41",
   "metadata": {},
   "outputs": [
    {
     "name": "stdout",
     "output_type": "stream",
     "text": [
      "0\n"
     ]
    }
   ],
   "source": [
    "# checking for duplicates in the twitter's api data without the id column\n",
    "print((tweets_data.duplicated(subset=['id'])).sum())"
   ]
  },
  {
   "cell_type": "markdown",
   "id": "41f53219",
   "metadata": {},
   "source": [
    "There aren't any duplicates with the two methods used.\n",
    "\n",
    "I'm checking identical ids in all datasets to make sure that the three datasets are related to each other by putting all ids in a `Series` and then using the `duplicated()` method to find any duplicates."
   ]
  },
  {
   "cell_type": "code",
   "execution_count": 40,
   "id": "144e89d5",
   "metadata": {},
   "outputs": [
    {
     "name": "stdout",
     "output_type": "stream",
     "text": [
      "Number of common ids in the three datasets is: 2073\n"
     ]
    }
   ],
   "source": [
    "# making a set containing the tweet ids from all dataframes\n",
    "all_id_data = set(twitter_arch_data['tweet_id'].astype(str)) & set(img_data['tweet_id'].astype(str)) & set(tweets_data['id'].astype(str))\n",
    "\n",
    "# checking duplicates in the tweet ids\n",
    "print('Number of common ids in the three datasets is:', len(all_id_data))"
   ]
  },
  {
   "cell_type": "markdown",
   "id": "012906c5",
   "metadata": {},
   "source": [
    "The number of common tweet ids between the three datasets is `2073`, which means that there are `283` tweets in the `twitter_arch_data` dataset that don't have image predictions and `tweets_data` information."
   ]
  },
  {
   "cell_type": "markdown",
   "id": "6d0b8c56",
   "metadata": {},
   "source": [
    "#### Assessing Report: Specifying The Problems Found"
   ]
  },
  {
   "cell_type": "markdown",
   "id": "f82c0a6c",
   "metadata": {},
   "source": [
    "##### Quality issues:\n",
    "**Twitter Archive dataset:**\n",
    "- retweeted tweets and unoriginal tweets **(Validity)**\n",
    "- unreal dog names like: \"a\", \"the\" or \"this\" **(Accuracy)**\n",
    "- `tweet_id` should be in string format (and any other id) **(Validity)**\n",
    "- `timestamp` should be in datetime format (and any other timestamps) **(Validity)**\n",
    "- `null` values in `name` column **(Completeness)**\n",
    "- `rating_numerator` out-of-range values **(Validity)**"
   ]
  },
  {
   "cell_type": "markdown",
   "id": "b1382b3d",
   "metadata": {},
   "source": [
    "**Image prediction dataset:**\n",
    "- `tweet_id` should be in string format **(Validity)**\n",
    "- the row with `p1_conf` equals `1` **(Validity)**\n",
    "- the rows that are not classified as a dog in all classifying columns **(Validity)**"
   ]
  },
  {
   "cell_type": "markdown",
   "id": "e4b8c87c",
   "metadata": {},
   "source": [
    "**Twitter's API dataset:**\n",
    "- `id` should be in string format **(Validity)**\n",
    "- `created_at` should be in a datetime format **(Validity)**\n",
    "- common tweet ids between the three datasets **(Consistency)**"
   ]
  },
  {
   "cell_type": "markdown",
   "id": "8e8ed77f",
   "metadata": {},
   "source": [
    "##### Tidiness issues:\n",
    "- dog stages are distributed in columns: `floofer`, `doggo`....etc\n",
    "- `rating_denominator` column doesn't measure a variable \n",
    "- the three datasets should be merged into one dataset"
   ]
  },
  {
   "cell_type": "markdown",
   "id": "0612b969",
   "metadata": {},
   "source": [
    "After assessing the three datasets above I found many problems. First dataset has the most issues as it's the biggest one. In this project, quality issues are ranked by severeness like this:\n",
    "- Completeness\n",
    "- Validity\n",
    "- Consistency\n",
    "- Accuracy\n",
    "\n",
    "So, issues in the **first dataset** are severe as there are many completeness and validity issues.<br>\n",
    "There are tweets without correlated images in the images dataset because the difference in the number of entries in the two datasets (the third dataset has a small lack of entries too).<br>\n",
    "Also, unoriginal tweets (or retweeted tweets) aren't required because they doesn't belong to the author. Unoriginal tweets have values in `retweeted_status_id` and `in_reply_to_status` columns, so these columns will act like **guide** to know unoriginal tweets in the cleaning step.<br>\n",
    "The `rating_denominator` column has many values which aren't equal to `10`, but actually it doesn't measure a variable, so I will deal with it as a **tidiness** issue.<br>\n",
    "`source` column contains HTML-like format with a link of the source and the name of it, but it's not very useful for analysis, so I will deal with in the **Dimensionality Reduction** step.<br>\n",
    "The `rating_numerator` column has many out-of-range values, but I will set `17` as a holder value for them in the cleaning step.<br>\n",
    "The `name` column has many null values, but I will deal with them by replacing them with a holder value instead of dropping them.<br>\n",
    "\n",
    "\n",
    "The **second** and the **third datasets** actually have the same issues nearly.<br>\n",
    "**IDs** and **Timestamps** are stored as integers *(int)* and strings *(object)*, but it isn't the best practice to deal with them. This type of validity issues is common.<br>\n",
    "Another validity issue in the second dataset related to the prediction confidence ratio of a row which isn't logical as it has the same confidence value in all corresponded columns equals `1`. There is another validity issue in the second dataset related to the rows that are not classified as a dog in all classifying columns."
   ]
  },
  {
   "cell_type": "markdown",
   "id": "8482829b",
   "metadata": {},
   "source": [
    "## Cleaning"
   ]
  },
  {
   "cell_type": "markdown",
   "id": "661e6c66",
   "metadata": {},
   "source": [
    "In this section, I will clean the datasets to fix the issues I found in the assessment process.<br>\n",
    "The cleaning process will be done in the following steps:\n",
    "- Storing a copy from each dataset to avoid any unintentional changes in the original datasets.\n",
    "- Cleaning the quality issues in each dataset.\n",
    "- Tidying the datasets to make them more organized and easier to analyze which will contain:\n",
    "  - Merging the three datasets into one dataset.\n",
    "- A **Dimensionality Reduction** step to reduce the number of columns in the datasets.\n",
    "- A **Storing** step to save the cleaned datasets in a CSV file.\n",
    "- A **Cleaning Report** to summarize the changes made to the datasets.\n",
    "\n",
    "I will clean each quality issue in the datasets using the Define-Code-Test framework.\n",
    "- **Define**: Define the issue.\n",
    "- **Code**: Write the code to fix the issue.\n",
    "- **Test**: Test the code to ensure that the issue has been fixed."
   ]
  },
  {
   "cell_type": "markdown",
   "id": "de19af0c",
   "metadata": {},
   "source": [
    "### Making Copies of the Datasets"
   ]
  },
  {
   "cell_type": "code",
   "execution_count": 41,
   "id": "fd5e8ee9",
   "metadata": {},
   "outputs": [],
   "source": [
    "# storing a copy of the dataframes to avoid modifying the original data when cleaning the data\n",
    "twitter_arch_copy = twitter_arch_data.copy()\n",
    "img_data_copy = img_data.copy()\n",
    "tweets_data_copy = tweets_data.copy()"
   ]
  },
  {
   "cell_type": "markdown",
   "id": "fb301650",
   "metadata": {},
   "source": [
    "This step is crucial to prevent any accidental changes or loss of data.\n"
   ]
  },
  {
   "cell_type": "markdown",
   "id": "8787c2a5",
   "metadata": {},
   "source": [
    "### Quality Issues:\n",
    "#### Twitter Archive Dataset"
   ]
  },
  {
   "cell_type": "markdown",
   "id": "71076970",
   "metadata": {},
   "source": [
    "- Change the `tweet_id` column type to string (object) to do best practices dealing with IDs.\n",
    "\n",
    "**Code**"
   ]
  },
  {
   "cell_type": "code",
   "execution_count": 42,
   "id": "7b85cf34",
   "metadata": {},
   "outputs": [],
   "source": [
    "# converting id column type to string (object)\n",
    "twitter_arch_data['tweet_id'] = twitter_arch_data['tweet_id'].astype(str)"
   ]
  },
  {
   "cell_type": "markdown",
   "id": "59875d6f",
   "metadata": {},
   "source": [
    "**Test**"
   ]
  },
  {
   "cell_type": "code",
   "execution_count": 43,
   "id": "14bd2fcf",
   "metadata": {},
   "outputs": [
    {
     "name": "stdout",
     "output_type": "stream",
     "text": [
      "object\n"
     ]
    }
   ],
   "source": [
    "# check the column type to confirm the process\n",
    "print(twitter_arch_data['tweet_id'].dtype)"
   ]
  },
  {
   "cell_type": "markdown",
   "id": "ccac10cb",
   "metadata": {},
   "source": [
    "- Convert the `timestamp` column to `datetime` format to follow best practices when working with time-based data.\n",
    "\n",
    "**Code**"
   ]
  },
  {
   "cell_type": "code",
   "execution_count": 44,
   "id": "b7d78291",
   "metadata": {},
   "outputs": [],
   "source": [
    "# convert 'timestamp' column to datetime type\n",
    "twitter_arch_data['timestamp'] = pd.to_datetime(twitter_arch_data['timestamp'], errors='coerce')"
   ]
  },
  {
   "cell_type": "markdown",
   "id": "addc2f6d",
   "metadata": {},
   "source": [
    "**Test**"
   ]
  },
  {
   "cell_type": "code",
   "execution_count": 45,
   "id": "48982cbe",
   "metadata": {},
   "outputs": [
    {
     "data": {
      "text/plain": [
       "datetime64[ns, UTC]"
      ]
     },
     "execution_count": 45,
     "metadata": {},
     "output_type": "execute_result"
    }
   ],
   "source": [
    "# check the column type to confirm the change\n",
    "twitter_arch_data['timestamp'].dtype"
   ]
  },
  {
   "cell_type": "markdown",
   "id": "772c52c1",
   "metadata": {},
   "source": [
    "- To ensure the dataset contains only original tweets, retweets and in-reply-to tweets will be excluded based on the `retweeted_status_id` and `in_reply_to_status_id` columns.\n",
    "\n",
    "**Code**"
   ]
  },
  {
   "cell_type": "code",
   "execution_count": 46,
   "id": "59389a1b",
   "metadata": {},
   "outputs": [],
   "source": [
    "# removing retweeted and in-reply-to tweets relying on the 'retweeted_status_id' and 'in_reply_to_status_id' columns\n",
    "twitter_arch_data = twitter_arch_data[twitter_arch_data.loc[:,'retweeted_status_id'].isnull() &\n",
    "                                        twitter_arch_data.loc[:,'in_reply_to_status_id'].isnull()]"
   ]
  },
  {
   "cell_type": "markdown",
   "id": "ee4736f0",
   "metadata": {},
   "source": [
    "**Test**"
   ]
  },
  {
   "cell_type": "code",
   "execution_count": 47,
   "id": "3c3250db",
   "metadata": {},
   "outputs": [
    {
     "name": "stdout",
     "output_type": "stream",
     "text": [
      "<class 'pandas.core.frame.DataFrame'>\n",
      "Index: 2097 entries, 0 to 2355\n",
      "Data columns (total 2 columns):\n",
      " #   Column                 Non-Null Count  Dtype  \n",
      "---  ------                 --------------  -----  \n",
      " 0   retweeted_status_id    0 non-null      float64\n",
      " 1   in_reply_to_status_id  0 non-null      float64\n",
      "dtypes: float64(2)\n",
      "memory usage: 49.1 KB\n"
     ]
    }
   ],
   "source": [
    "# check info of the 'retweeted_status_id' and 'in_reply_to_status_id' columns after filtering\n",
    "twitter_arch_data[['retweeted_status_id', 'in_reply_to_status_id']].info()"
   ]
  },
  {
   "cell_type": "markdown",
   "id": "5380dc93",
   "metadata": {},
   "source": [
    "- Filling the `NaN` values in `name` column with `Unknown`\n",
    "\n",
    "**Code**"
   ]
  },
  {
   "cell_type": "code",
   "execution_count": 48,
   "id": "83e02658",
   "metadata": {},
   "outputs": [],
   "source": [
    "# replacing null values with Unknown in the name column\n",
    "twitter_arch_data.loc[:, 'name'] = twitter_arch_data['name'].fillna('Unknown')"
   ]
  },
  {
   "cell_type": "markdown",
   "id": "10d2f088",
   "metadata": {},
   "source": [
    "**Test**\n",
    "\n",
    "Checking the cleaning process by getting the number of `NaN` values in each column."
   ]
  },
  {
   "cell_type": "code",
   "execution_count": 49,
   "id": "c7406e85",
   "metadata": {},
   "outputs": [
    {
     "name": "stdout",
     "output_type": "stream",
     "text": [
      "Number of null values in the name column is: 0\n"
     ]
    }
   ],
   "source": [
    "# checking the null values after cleaning\n",
    "print('Number of null values in the name column is:',twitter_arch_data['name'].isnull().sum()) "
   ]
  },
  {
   "cell_type": "markdown",
   "id": "c300425f",
   "metadata": {},
   "source": [
    "- Removing out-of-range values in the `rating_numerator` column.\n",
    "Values greater than 17 are considered out of the expected range in this context.\n",
    "\n",
    "**Code**"
   ]
  },
  {
   "cell_type": "code",
   "execution_count": 50,
   "id": "09009768",
   "metadata": {},
   "outputs": [],
   "source": [
    "# removing out-of-range numerator values\n",
    "twitter_arch_data = twitter_arch_data[twitter_arch_data['rating_numerator'] <= 17]"
   ]
  },
  {
   "cell_type": "markdown",
   "id": "bfb43a0c",
   "metadata": {},
   "source": [
    "**Test**"
   ]
  },
  {
   "cell_type": "code",
   "execution_count": 51,
   "id": "66ac23df",
   "metadata": {},
   "outputs": [
    {
     "data": {
      "text/plain": [
       "count    2079.000000\n",
       "mean       10.595960\n",
       "std         2.168615\n",
       "min         0.000000\n",
       "25%        10.000000\n",
       "50%        11.000000\n",
       "75%        12.000000\n",
       "max        14.000000\n",
       "Name: rating_numerator, dtype: float64"
      ]
     },
     "execution_count": 51,
     "metadata": {},
     "output_type": "execute_result"
    }
   ],
   "source": [
    "# checking the numerator column after removing out-of-range values\n",
    "twitter_arch_data['rating_numerator'].describe()"
   ]
  },
  {
   "cell_type": "markdown",
   "id": "a5eb3e7c",
   "metadata": {},
   "source": [
    "- Unreal dog names identified during the [Visual Assessment](#visual-assessment) include entries like: `a`, `an`, `the`, and `this` will be replaced with `Unknown`.\n",
    "\n",
    "**Code**"
   ]
  },
  {
   "cell_type": "code",
   "execution_count": 52,
   "id": "311fa5eb",
   "metadata": {},
   "outputs": [],
   "source": [
    "# making a list containing unreal dog names observed in the assessment\n",
    "unreal_names = ['a', 'an', 'this', 'the', 'not']\n",
    "\n",
    "# replacing unreal names with 'Unknown'\n",
    "twitter_arch_data['name'] = twitter_arch_data['name'].apply(lambda x: 'Unknown' if x in unreal_names else x)"
   ]
  },
  {
   "cell_type": "markdown",
   "id": "a8a7ca5f",
   "metadata": {},
   "source": [
    "**Test**"
   ]
  },
  {
   "cell_type": "code",
   "execution_count": 53,
   "id": "2d24b3a0",
   "metadata": {},
   "outputs": [
    {
     "data": {
      "text/plain": [
       "name\n",
       "Unknown    662\n",
       "Charlie     11\n",
       "Lucy        11\n",
       "Oliver      10\n",
       "Cooper      10\n",
       "Tucker       9\n",
       "Penny        9\n",
       "Lola         8\n",
       "Sadie        8\n",
       "Winston      8\n",
       "Name: count, dtype: int64"
      ]
     },
     "execution_count": 53,
     "metadata": {},
     "output_type": "execute_result"
    }
   ],
   "source": [
    "# checking the name column after replacing unreal names\n",
    "twitter_arch_data['name'].value_counts().head(10)"
   ]
  },
  {
   "cell_type": "markdown",
   "id": "6ae20be6",
   "metadata": {},
   "source": [
    "Until here, the `twitter_arch_data` dataset has the cleaned and original tweets only."
   ]
  },
  {
   "cell_type": "markdown",
   "id": "cefd616b",
   "metadata": {},
   "source": [
    "#### Image Predictions Dataset"
   ]
  },
  {
   "cell_type": "markdown",
   "id": "ee8e0ea3",
   "metadata": {},
   "source": [
    "- Change the `tweet_id` column type to string (object) to do best practices dealing with IDs.\n",
    "\n",
    "**Code**"
   ]
  },
  {
   "cell_type": "code",
   "execution_count": 54,
   "id": "0fa95405",
   "metadata": {},
   "outputs": [],
   "source": [
    "# converting the id column type to string\n",
    "img_data['tweet_id'] = img_data['tweet_id'].astype(str)"
   ]
  },
  {
   "cell_type": "markdown",
   "id": "be8a6e5d",
   "metadata": {},
   "source": [
    "**Test**"
   ]
  },
  {
   "cell_type": "code",
   "execution_count": 55,
   "id": "13f28fc7",
   "metadata": {},
   "outputs": [
    {
     "name": "stdout",
     "output_type": "stream",
     "text": [
      "object\n"
     ]
    }
   ],
   "source": [
    "# checking the column type after cleaning\n",
    "print(img_data['tweet_id'].dtype)"
   ]
  },
  {
   "cell_type": "markdown",
   "id": "23d52ae7",
   "metadata": {},
   "source": [
    "- Removing the row which has invalid prediction confidence ratio. \n",
    "\n",
    "**Code**"
   ]
  },
  {
   "cell_type": "code",
   "execution_count": 56,
   "id": "a7a39756",
   "metadata": {},
   "outputs": [],
   "source": [
    "# filtering the p1_conf row with the value of 1\n",
    "img_data = img_data[img_data['p1_conf'] < 1]"
   ]
  },
  {
   "cell_type": "markdown",
   "id": "ac431614",
   "metadata": {},
   "source": [
    "**Test**"
   ]
  },
  {
   "cell_type": "code",
   "execution_count": 57,
   "id": "84fac109",
   "metadata": {},
   "outputs": [
    {
     "data": {
      "text/plain": [
       "count    2074.000000\n",
       "mean        0.594353\n",
       "std         0.271093\n",
       "min         0.044333\n",
       "25%         0.364254\n",
       "50%         0.588030\n",
       "75%         0.843799\n",
       "max         0.999984\n",
       "Name: p1_conf, dtype: float64"
      ]
     },
     "execution_count": 57,
     "metadata": {},
     "output_type": "execute_result"
    }
   ],
   "source": [
    "# checking statistics of the p1_conf column after filtering\n",
    "img_data['p1_conf'].describe()"
   ]
  },
  {
   "cell_type": "code",
   "execution_count": 58,
   "id": "258c6384",
   "metadata": {},
   "outputs": [],
   "source": [
    "# filtering the image prediction data to include only rows that classify a dog\n",
    "img_data = img_data[\n",
    "    (img_data['p1_dog'] == True) |\n",
    "    (img_data['p2_dog'] == True) |\n",
    "    (img_data['p3_dog'] == True)]"
   ]
  },
  {
   "cell_type": "markdown",
   "id": "e49b3a20",
   "metadata": {},
   "source": [
    "**Test**"
   ]
  },
  {
   "cell_type": "code",
   "execution_count": 59,
   "id": "167d1772",
   "metadata": {},
   "outputs": [
    {
     "data": {
      "text/plain": [
       "0"
      ]
     },
     "execution_count": 59,
     "metadata": {},
     "output_type": "execute_result"
    }
   ],
   "source": [
    "# checking the number of rows that don't classify a dog by reassigning the variable used in the issue assessment\n",
    "not_dog = img_data[(img_data['p1_dog'] == False) & (img_data['p2_dog'] == False) & (img_data['p3_dog'] == False)]\n",
    "not_dog.shape[0]"
   ]
  },
  {
   "cell_type": "markdown",
   "id": "ff2cbff9",
   "metadata": {},
   "source": [
    "#### Twitter's API Dataset"
   ]
  },
  {
   "cell_type": "markdown",
   "id": "e7da45ce",
   "metadata": {},
   "source": [
    "- Change the `id` column type to string (object) to do best practices dealing with IDs.\n",
    "\n",
    "**Code**"
   ]
  },
  {
   "cell_type": "code",
   "execution_count": 60,
   "id": "2b5106ca",
   "metadata": {},
   "outputs": [],
   "source": [
    "# converting the id column type\n",
    "tweets_data['id'] = tweets_data['id'].astype(str)"
   ]
  },
  {
   "cell_type": "markdown",
   "id": "8a249f98",
   "metadata": {},
   "source": [
    "**Test**"
   ]
  },
  {
   "cell_type": "code",
   "execution_count": 61,
   "id": "203f2875",
   "metadata": {},
   "outputs": [
    {
     "name": "stdout",
     "output_type": "stream",
     "text": [
      "object\n"
     ]
    }
   ],
   "source": [
    "print(tweets_data['id'].dtype)"
   ]
  },
  {
   "cell_type": "markdown",
   "id": "32291e73",
   "metadata": {},
   "source": [
    "- Convert the `created_at` column to `datetime` format to follow best practices when working with time-based data.\n",
    "\n",
    "**Code**"
   ]
  },
  {
   "cell_type": "code",
   "execution_count": 62,
   "id": "143cf930",
   "metadata": {},
   "outputs": [
    {
     "name": "stderr",
     "output_type": "stream",
     "text": [
      "C:\\Users\\dodoy\\AppData\\Local\\Temp\\ipykernel_22304\\3791646989.py:2: UserWarning: Could not infer format, so each element will be parsed individually, falling back to `dateutil`. To ensure parsing is consistent and as-expected, please specify a format.\n",
      "  tweets_data['created_at'] = pd.to_datetime(tweets_data['created_at'], errors='coerce')\n"
     ]
    }
   ],
   "source": [
    "# converting 'created_at' column type to datetime\n",
    "tweets_data['created_at'] = pd.to_datetime(tweets_data['created_at'], errors='coerce')"
   ]
  },
  {
   "cell_type": "markdown",
   "id": "8a300b73",
   "metadata": {},
   "source": [
    "**Test**"
   ]
  },
  {
   "cell_type": "code",
   "execution_count": 63,
   "id": "16a09aaf",
   "metadata": {},
   "outputs": [
    {
     "data": {
      "text/plain": [
       "datetime64[ns, UTC]"
      ]
     },
     "execution_count": 63,
     "metadata": {},
     "output_type": "execute_result"
    }
   ],
   "source": [
    "# checking the column type after cleaning\n",
    "tweets_data['created_at'].dtype"
   ]
  },
  {
   "cell_type": "markdown",
   "id": "4ee731e9",
   "metadata": {},
   "source": [
    "- Getting common tweet ids in the three datasets to have common tweets only.\n",
    "\n",
    "**Code**<br>\n",
    "I will reassign the `all_id_data` variable from the assessment process to apply the previous cleaning steps on it."
   ]
  },
  {
   "cell_type": "code",
   "execution_count": 64,
   "id": "3536836f",
   "metadata": {},
   "outputs": [],
   "source": [
    "# reassigning the 'all_id_data' variable to contain the tweet ids from all dataframes after cleaning\n",
    "all_id_data = set(twitter_arch_data['tweet_id'].astype(str)) & set(img_data['tweet_id'].astype(str)) & set(tweets_data['id'].astype(str))\n",
    "\n",
    "# getting common ids in the three datasets after cleaning all of them\n",
    "twitter_arch_data = twitter_arch_data[twitter_arch_data['tweet_id'].isin(all_id_data)]\n",
    "img_data = img_data[img_data['tweet_id'].isin(all_id_data)]\n",
    "tweets_data = tweets_data[tweets_data['id'].isin(all_id_data)]"
   ]
  },
  {
   "cell_type": "markdown",
   "id": "426901c4",
   "metadata": {},
   "source": [
    "**Test**"
   ]
  },
  {
   "cell_type": "code",
   "execution_count": 65,
   "id": "0aa62b52",
   "metadata": {},
   "outputs": [
    {
     "name": "stdout",
     "output_type": "stream",
     "text": [
      "(1651, 17)\n",
      "(1651, 12)\n",
      "(1651, 4)\n"
     ]
    }
   ],
   "source": [
    "# checking the shape of the three datasets after filtering\n",
    "print(twitter_arch_data.shape)\n",
    "print(img_data.shape)\n",
    "print(tweets_data.shape)"
   ]
  },
  {
   "cell_type": "markdown",
   "id": "9f159c57",
   "metadata": {},
   "source": [
    "#### Tidiness Issues:"
   ]
  },
  {
   "cell_type": "markdown",
   "id": "32a354ec",
   "metadata": {},
   "source": [
    "- Merging the dog stages in one column instead of having them in separate columns.\n",
    "\n",
    "**Code**"
   ]
  },
  {
   "cell_type": "code",
   "execution_count": 66,
   "id": "b095b692",
   "metadata": {},
   "outputs": [],
   "source": [
    "# make a new column 'dog_stage' to merge the dog stage values into one column\n",
    "twitter_arch_data['dog_stage'] = twitter_arch_data[['doggo', 'floofer', 'pupper', 'puppo']].apply(lambda row: next((val for val in row if pd.notnull(val)), None), axis=1)"
   ]
  },
  {
   "cell_type": "markdown",
   "id": "a056f58c",
   "metadata": {},
   "source": [
    "I will drop the columns which are not required anymore after merging the dog stages in one column."
   ]
  },
  {
   "cell_type": "code",
   "execution_count": 67,
   "id": "311eb798",
   "metadata": {},
   "outputs": [],
   "source": [
    "# dropping the doggo, floofer, pupper and puppo columns\n",
    "twitter_arch_data = twitter_arch_data.drop(['doggo', 'floofer', 'pupper', 'puppo'], axis=1)"
   ]
  },
  {
   "cell_type": "markdown",
   "id": "f88a9339",
   "metadata": {},
   "source": [
    "Then I will fill the `NaN` values in the `dog_stage` column with `Unknown` to make it more informative."
   ]
  },
  {
   "cell_type": "code",
   "execution_count": 68,
   "id": "2c40bc18",
   "metadata": {},
   "outputs": [],
   "source": [
    "# filling null values in the dog_stage column with 'Unknown'\n",
    "twitter_arch_data['dog_stage'] = twitter_arch_data['dog_stage'].fillna('Unknown')"
   ]
  },
  {
   "cell_type": "markdown",
   "id": "9f2bcef9",
   "metadata": {},
   "source": [
    "**Test**"
   ]
  },
  {
   "cell_type": "code",
   "execution_count": 69,
   "id": "f6fd7d8d",
   "metadata": {},
   "outputs": [
    {
     "data": {
      "application/vnd.microsoft.datawrangler.viewer.v0+json": {
       "columns": [
        {
         "name": "index",
         "rawType": "int64",
         "type": "integer"
        },
        {
         "name": "tweet_id",
         "rawType": "object",
         "type": "string"
        },
        {
         "name": "in_reply_to_status_id",
         "rawType": "float64",
         "type": "float"
        },
        {
         "name": "in_reply_to_user_id",
         "rawType": "float64",
         "type": "float"
        },
        {
         "name": "timestamp",
         "rawType": "datetime64[ns, UTC]",
         "type": "unknown"
        },
        {
         "name": "source",
         "rawType": "object",
         "type": "string"
        },
        {
         "name": "text",
         "rawType": "object",
         "type": "string"
        },
        {
         "name": "retweeted_status_id",
         "rawType": "float64",
         "type": "float"
        },
        {
         "name": "retweeted_status_user_id",
         "rawType": "float64",
         "type": "float"
        },
        {
         "name": "retweeted_status_timestamp",
         "rawType": "object",
         "type": "unknown"
        },
        {
         "name": "expanded_urls",
         "rawType": "object",
         "type": "string"
        },
        {
         "name": "rating_numerator",
         "rawType": "int64",
         "type": "integer"
        },
        {
         "name": "rating_denominator",
         "rawType": "int64",
         "type": "integer"
        },
        {
         "name": "name",
         "rawType": "object",
         "type": "string"
        },
        {
         "name": "dog_stage",
         "rawType": "object",
         "type": "string"
        }
       ],
       "conversionMethod": "pd.DataFrame",
       "ref": "799f5906-87db-4af7-a1da-606130165675",
       "rows": [
        [
         "2041",
         "671542985629241344",
         null,
         null,
         "2015-12-01 04:14:59+00:00",
         "<a href=\"http://twitter.com/download/iphone\" rel=\"nofollow\">Twitter for iPhone</a>",
         "This is JD (stands for \"just dog\"). He's like Airbud but with trading card games instead of sports. 10/10 much skill https://t.co/zzueJV9jCF",
         null,
         null,
         null,
         "https://twitter.com/dog_rates/status/671542985629241344/photo/1",
         "10",
         "10",
         "JD",
         "Unknown"
        ],
        [
         "2345",
         "666063827256086533",
         null,
         null,
         "2015-11-16 01:22:45+00:00",
         "<a href=\"http://twitter.com/download/iphone\" rel=\"nofollow\">Twitter for iPhone</a>",
         "This is the happiest dog you will ever see. Very committed owner. Nice couch. 10/10 https://t.co/RhUEAloehK",
         null,
         null,
         null,
         "https://twitter.com/dog_rates/status/666063827256086533/photo/1",
         "10",
         "10",
         "Unknown",
         "Unknown"
        ],
        [
         "1697",
         "681231109724700672",
         null,
         null,
         "2015-12-27 21:52:07+00:00",
         "<a href=\"http://twitter.com/download/iphone\" rel=\"nofollow\">Twitter for iPhone</a>",
         "I just love this pic. 11/10 this pupper is going places https://t.co/P16uhh1PbI",
         null,
         null,
         null,
         "https://twitter.com/dog_rates/status/681231109724700672/photo/1",
         "11",
         "10",
         "Unknown",
         "pupper"
        ],
        [
         "383",
         "827199976799354881",
         null,
         null,
         "2017-02-02 17:00:17+00:00",
         "<a href=\"http://twitter.com/download/iphone\" rel=\"nofollow\">Twitter for iPhone</a>",
         "This is Charlie. He wins every game of chess he plays. Won't let opponent pet him until they forfeit. 13/10 you win again Charlie https://t.co/UkyQibIBzZ",
         null,
         null,
         null,
         "https://twitter.com/dog_rates/status/827199976799354881/photo/1,https://twitter.com/dog_rates/status/827199976799354881/photo/1,https://twitter.com/dog_rates/status/827199976799354881/photo/1,https://twitter.com/dog_rates/status/827199976799354881/photo/1",
         "13",
         "10",
         "Charlie",
         "Unknown"
        ],
        [
         "1225",
         "714141408463036416",
         null,
         null,
         "2016-03-27 17:25:54+00:00",
         "<a href=\"http://twitter.com/download/iphone\" rel=\"nofollow\">Twitter for iPhone</a>",
         "I know we only rate dogs, but since it's Easter I guess we could rate a bunny for a change. 10/10 petable as hell https://t.co/O2RlKXigHu",
         null,
         null,
         null,
         "https://twitter.com/dog_rates/status/714141408463036416/photo/1",
         "10",
         "10",
         "Unknown",
         "Unknown"
        ],
        [
         "300",
         "836753516572119041",
         null,
         null,
         "2017-03-01 01:42:39+00:00",
         "<a href=\"http://twitter.com/download/iphone\" rel=\"nofollow\">Twitter for iPhone</a>",
         "This is Meera. She just heard about taxes and how much a doghouse in a nice area costs. Not pupared to be a  doggo anymore. 12/10 https://t.co/GZmNEdyoJY",
         null,
         null,
         null,
         "https://twitter.com/dog_rates/status/836753516572119041/photo/1",
         "12",
         "10",
         "Meera",
         "doggo"
        ],
        [
         "986",
         "749064354620928000",
         null,
         null,
         "2016-07-02 02:17:13+00:00",
         "<a href=\"http://twitter.com/download/iphone\" rel=\"nofollow\">Twitter for iPhone</a>",
         "Meet Winston. He's pupset because I forgot to mention that it's Canada Day today. 11/10 please forgive me Winston https://t.co/xEY8dbJxnF",
         null,
         null,
         null,
         "https://twitter.com/dog_rates/status/749064354620928000/photo/1,https://twitter.com/dog_rates/status/749064354620928000/photo/1",
         "11",
         "10",
         "Winston",
         "Unknown"
        ],
        [
         "201",
         "853760880890318849",
         null,
         null,
         "2017-04-17 00:03:50+00:00",
         "<a href=\"http://twitter.com/download/iphone\" rel=\"nofollow\">Twitter for iPhone</a>",
         "Say hello to Alice. I'm told she enjoys car rides and smells good. 12/10 would give her everything she could ever want https://t.co/yT4vw8y77x",
         null,
         null,
         null,
         "https://twitter.com/dog_rates/status/853760880890318849/photo/1",
         "12",
         "10",
         "Alice",
         "Unknown"
        ],
        [
         "331",
         "832998151111966721",
         null,
         null,
         "2017-02-18 17:00:10+00:00",
         "<a href=\"http://twitter.com/download/iphone\" rel=\"nofollow\">Twitter for iPhone</a>",
         "This is Rhino. He arrived at a shelter with an elaborate doggo manual for his new family, written by someone who will always love him. 13/10 https://t.co/QX1h0oqMz0",
         null,
         null,
         null,
         "https://twitter.com/dog_rates/status/832998151111966721/photo/1,https://twitter.com/dog_rates/status/832998151111966721/photo/1",
         "13",
         "10",
         "Rhino",
         "doggo"
        ],
        [
         "982",
         "749403093750648834",
         null,
         null,
         "2016-07-03 00:43:15+00:00",
         "<a href=\"http://twitter.com/download/iphone\" rel=\"nofollow\">Twitter for iPhone</a>",
         "Duuun dun... duuun dun... dunn  dun. dunn dun. dun dun dun dun dun dun dun dun dun dun dun dun dun dun dun. 10/10 https://t.co/9qdJ2Q1Cwx",
         null,
         null,
         null,
         "https://twitter.com/dog_rates/status/749403093750648834/photo/1",
         "10",
         "10",
         "Unknown",
         "Unknown"
        ]
       ],
       "shape": {
        "columns": 14,
        "rows": 10
       }
      },
      "text/html": [
       "<div>\n",
       "<style scoped>\n",
       "    .dataframe tbody tr th:only-of-type {\n",
       "        vertical-align: middle;\n",
       "    }\n",
       "\n",
       "    .dataframe tbody tr th {\n",
       "        vertical-align: top;\n",
       "    }\n",
       "\n",
       "    .dataframe thead th {\n",
       "        text-align: right;\n",
       "    }\n",
       "</style>\n",
       "<table border=\"1\" class=\"dataframe\">\n",
       "  <thead>\n",
       "    <tr style=\"text-align: right;\">\n",
       "      <th></th>\n",
       "      <th>tweet_id</th>\n",
       "      <th>in_reply_to_status_id</th>\n",
       "      <th>in_reply_to_user_id</th>\n",
       "      <th>timestamp</th>\n",
       "      <th>source</th>\n",
       "      <th>text</th>\n",
       "      <th>retweeted_status_id</th>\n",
       "      <th>retweeted_status_user_id</th>\n",
       "      <th>retweeted_status_timestamp</th>\n",
       "      <th>expanded_urls</th>\n",
       "      <th>rating_numerator</th>\n",
       "      <th>rating_denominator</th>\n",
       "      <th>name</th>\n",
       "      <th>dog_stage</th>\n",
       "    </tr>\n",
       "  </thead>\n",
       "  <tbody>\n",
       "    <tr>\n",
       "      <th>2041</th>\n",
       "      <td>671542985629241344</td>\n",
       "      <td>NaN</td>\n",
       "      <td>NaN</td>\n",
       "      <td>2015-12-01 04:14:59+00:00</td>\n",
       "      <td>&lt;a href=\"http://twitter.com/download/iphone\" r...</td>\n",
       "      <td>This is JD (stands for \"just dog\"). He's like ...</td>\n",
       "      <td>NaN</td>\n",
       "      <td>NaN</td>\n",
       "      <td>NaN</td>\n",
       "      <td>https://twitter.com/dog_rates/status/671542985...</td>\n",
       "      <td>10</td>\n",
       "      <td>10</td>\n",
       "      <td>JD</td>\n",
       "      <td>Unknown</td>\n",
       "    </tr>\n",
       "    <tr>\n",
       "      <th>2345</th>\n",
       "      <td>666063827256086533</td>\n",
       "      <td>NaN</td>\n",
       "      <td>NaN</td>\n",
       "      <td>2015-11-16 01:22:45+00:00</td>\n",
       "      <td>&lt;a href=\"http://twitter.com/download/iphone\" r...</td>\n",
       "      <td>This is the happiest dog you will ever see. Ve...</td>\n",
       "      <td>NaN</td>\n",
       "      <td>NaN</td>\n",
       "      <td>NaN</td>\n",
       "      <td>https://twitter.com/dog_rates/status/666063827...</td>\n",
       "      <td>10</td>\n",
       "      <td>10</td>\n",
       "      <td>Unknown</td>\n",
       "      <td>Unknown</td>\n",
       "    </tr>\n",
       "    <tr>\n",
       "      <th>1697</th>\n",
       "      <td>681231109724700672</td>\n",
       "      <td>NaN</td>\n",
       "      <td>NaN</td>\n",
       "      <td>2015-12-27 21:52:07+00:00</td>\n",
       "      <td>&lt;a href=\"http://twitter.com/download/iphone\" r...</td>\n",
       "      <td>I just love this pic. 11/10 this pupper is goi...</td>\n",
       "      <td>NaN</td>\n",
       "      <td>NaN</td>\n",
       "      <td>NaN</td>\n",
       "      <td>https://twitter.com/dog_rates/status/681231109...</td>\n",
       "      <td>11</td>\n",
       "      <td>10</td>\n",
       "      <td>Unknown</td>\n",
       "      <td>pupper</td>\n",
       "    </tr>\n",
       "    <tr>\n",
       "      <th>383</th>\n",
       "      <td>827199976799354881</td>\n",
       "      <td>NaN</td>\n",
       "      <td>NaN</td>\n",
       "      <td>2017-02-02 17:00:17+00:00</td>\n",
       "      <td>&lt;a href=\"http://twitter.com/download/iphone\" r...</td>\n",
       "      <td>This is Charlie. He wins every game of chess h...</td>\n",
       "      <td>NaN</td>\n",
       "      <td>NaN</td>\n",
       "      <td>NaN</td>\n",
       "      <td>https://twitter.com/dog_rates/status/827199976...</td>\n",
       "      <td>13</td>\n",
       "      <td>10</td>\n",
       "      <td>Charlie</td>\n",
       "      <td>Unknown</td>\n",
       "    </tr>\n",
       "    <tr>\n",
       "      <th>1225</th>\n",
       "      <td>714141408463036416</td>\n",
       "      <td>NaN</td>\n",
       "      <td>NaN</td>\n",
       "      <td>2016-03-27 17:25:54+00:00</td>\n",
       "      <td>&lt;a href=\"http://twitter.com/download/iphone\" r...</td>\n",
       "      <td>I know we only rate dogs, but since it's Easte...</td>\n",
       "      <td>NaN</td>\n",
       "      <td>NaN</td>\n",
       "      <td>NaN</td>\n",
       "      <td>https://twitter.com/dog_rates/status/714141408...</td>\n",
       "      <td>10</td>\n",
       "      <td>10</td>\n",
       "      <td>Unknown</td>\n",
       "      <td>Unknown</td>\n",
       "    </tr>\n",
       "    <tr>\n",
       "      <th>300</th>\n",
       "      <td>836753516572119041</td>\n",
       "      <td>NaN</td>\n",
       "      <td>NaN</td>\n",
       "      <td>2017-03-01 01:42:39+00:00</td>\n",
       "      <td>&lt;a href=\"http://twitter.com/download/iphone\" r...</td>\n",
       "      <td>This is Meera. She just heard about taxes and ...</td>\n",
       "      <td>NaN</td>\n",
       "      <td>NaN</td>\n",
       "      <td>NaN</td>\n",
       "      <td>https://twitter.com/dog_rates/status/836753516...</td>\n",
       "      <td>12</td>\n",
       "      <td>10</td>\n",
       "      <td>Meera</td>\n",
       "      <td>doggo</td>\n",
       "    </tr>\n",
       "    <tr>\n",
       "      <th>986</th>\n",
       "      <td>749064354620928000</td>\n",
       "      <td>NaN</td>\n",
       "      <td>NaN</td>\n",
       "      <td>2016-07-02 02:17:13+00:00</td>\n",
       "      <td>&lt;a href=\"http://twitter.com/download/iphone\" r...</td>\n",
       "      <td>Meet Winston. He's pupset because I forgot to ...</td>\n",
       "      <td>NaN</td>\n",
       "      <td>NaN</td>\n",
       "      <td>NaN</td>\n",
       "      <td>https://twitter.com/dog_rates/status/749064354...</td>\n",
       "      <td>11</td>\n",
       "      <td>10</td>\n",
       "      <td>Winston</td>\n",
       "      <td>Unknown</td>\n",
       "    </tr>\n",
       "    <tr>\n",
       "      <th>201</th>\n",
       "      <td>853760880890318849</td>\n",
       "      <td>NaN</td>\n",
       "      <td>NaN</td>\n",
       "      <td>2017-04-17 00:03:50+00:00</td>\n",
       "      <td>&lt;a href=\"http://twitter.com/download/iphone\" r...</td>\n",
       "      <td>Say hello to Alice. I'm told she enjoys car ri...</td>\n",
       "      <td>NaN</td>\n",
       "      <td>NaN</td>\n",
       "      <td>NaN</td>\n",
       "      <td>https://twitter.com/dog_rates/status/853760880...</td>\n",
       "      <td>12</td>\n",
       "      <td>10</td>\n",
       "      <td>Alice</td>\n",
       "      <td>Unknown</td>\n",
       "    </tr>\n",
       "    <tr>\n",
       "      <th>331</th>\n",
       "      <td>832998151111966721</td>\n",
       "      <td>NaN</td>\n",
       "      <td>NaN</td>\n",
       "      <td>2017-02-18 17:00:10+00:00</td>\n",
       "      <td>&lt;a href=\"http://twitter.com/download/iphone\" r...</td>\n",
       "      <td>This is Rhino. He arrived at a shelter with an...</td>\n",
       "      <td>NaN</td>\n",
       "      <td>NaN</td>\n",
       "      <td>NaN</td>\n",
       "      <td>https://twitter.com/dog_rates/status/832998151...</td>\n",
       "      <td>13</td>\n",
       "      <td>10</td>\n",
       "      <td>Rhino</td>\n",
       "      <td>doggo</td>\n",
       "    </tr>\n",
       "    <tr>\n",
       "      <th>982</th>\n",
       "      <td>749403093750648834</td>\n",
       "      <td>NaN</td>\n",
       "      <td>NaN</td>\n",
       "      <td>2016-07-03 00:43:15+00:00</td>\n",
       "      <td>&lt;a href=\"http://twitter.com/download/iphone\" r...</td>\n",
       "      <td>Duuun dun... duuun dun... dunn  dun. dunn dun....</td>\n",
       "      <td>NaN</td>\n",
       "      <td>NaN</td>\n",
       "      <td>NaN</td>\n",
       "      <td>https://twitter.com/dog_rates/status/749403093...</td>\n",
       "      <td>10</td>\n",
       "      <td>10</td>\n",
       "      <td>Unknown</td>\n",
       "      <td>Unknown</td>\n",
       "    </tr>\n",
       "  </tbody>\n",
       "</table>\n",
       "</div>"
      ],
      "text/plain": [
       "                tweet_id  in_reply_to_status_id  in_reply_to_user_id  \\\n",
       "2041  671542985629241344                    NaN                  NaN   \n",
       "2345  666063827256086533                    NaN                  NaN   \n",
       "1697  681231109724700672                    NaN                  NaN   \n",
       "383   827199976799354881                    NaN                  NaN   \n",
       "1225  714141408463036416                    NaN                  NaN   \n",
       "300   836753516572119041                    NaN                  NaN   \n",
       "986   749064354620928000                    NaN                  NaN   \n",
       "201   853760880890318849                    NaN                  NaN   \n",
       "331   832998151111966721                    NaN                  NaN   \n",
       "982   749403093750648834                    NaN                  NaN   \n",
       "\n",
       "                     timestamp  \\\n",
       "2041 2015-12-01 04:14:59+00:00   \n",
       "2345 2015-11-16 01:22:45+00:00   \n",
       "1697 2015-12-27 21:52:07+00:00   \n",
       "383  2017-02-02 17:00:17+00:00   \n",
       "1225 2016-03-27 17:25:54+00:00   \n",
       "300  2017-03-01 01:42:39+00:00   \n",
       "986  2016-07-02 02:17:13+00:00   \n",
       "201  2017-04-17 00:03:50+00:00   \n",
       "331  2017-02-18 17:00:10+00:00   \n",
       "982  2016-07-03 00:43:15+00:00   \n",
       "\n",
       "                                                 source  \\\n",
       "2041  <a href=\"http://twitter.com/download/iphone\" r...   \n",
       "2345  <a href=\"http://twitter.com/download/iphone\" r...   \n",
       "1697  <a href=\"http://twitter.com/download/iphone\" r...   \n",
       "383   <a href=\"http://twitter.com/download/iphone\" r...   \n",
       "1225  <a href=\"http://twitter.com/download/iphone\" r...   \n",
       "300   <a href=\"http://twitter.com/download/iphone\" r...   \n",
       "986   <a href=\"http://twitter.com/download/iphone\" r...   \n",
       "201   <a href=\"http://twitter.com/download/iphone\" r...   \n",
       "331   <a href=\"http://twitter.com/download/iphone\" r...   \n",
       "982   <a href=\"http://twitter.com/download/iphone\" r...   \n",
       "\n",
       "                                                   text  retweeted_status_id  \\\n",
       "2041  This is JD (stands for \"just dog\"). He's like ...                  NaN   \n",
       "2345  This is the happiest dog you will ever see. Ve...                  NaN   \n",
       "1697  I just love this pic. 11/10 this pupper is goi...                  NaN   \n",
       "383   This is Charlie. He wins every game of chess h...                  NaN   \n",
       "1225  I know we only rate dogs, but since it's Easte...                  NaN   \n",
       "300   This is Meera. She just heard about taxes and ...                  NaN   \n",
       "986   Meet Winston. He's pupset because I forgot to ...                  NaN   \n",
       "201   Say hello to Alice. I'm told she enjoys car ri...                  NaN   \n",
       "331   This is Rhino. He arrived at a shelter with an...                  NaN   \n",
       "982   Duuun dun... duuun dun... dunn  dun. dunn dun....                  NaN   \n",
       "\n",
       "      retweeted_status_user_id retweeted_status_timestamp  \\\n",
       "2041                       NaN                        NaN   \n",
       "2345                       NaN                        NaN   \n",
       "1697                       NaN                        NaN   \n",
       "383                        NaN                        NaN   \n",
       "1225                       NaN                        NaN   \n",
       "300                        NaN                        NaN   \n",
       "986                        NaN                        NaN   \n",
       "201                        NaN                        NaN   \n",
       "331                        NaN                        NaN   \n",
       "982                        NaN                        NaN   \n",
       "\n",
       "                                          expanded_urls  rating_numerator  \\\n",
       "2041  https://twitter.com/dog_rates/status/671542985...                10   \n",
       "2345  https://twitter.com/dog_rates/status/666063827...                10   \n",
       "1697  https://twitter.com/dog_rates/status/681231109...                11   \n",
       "383   https://twitter.com/dog_rates/status/827199976...                13   \n",
       "1225  https://twitter.com/dog_rates/status/714141408...                10   \n",
       "300   https://twitter.com/dog_rates/status/836753516...                12   \n",
       "986   https://twitter.com/dog_rates/status/749064354...                11   \n",
       "201   https://twitter.com/dog_rates/status/853760880...                12   \n",
       "331   https://twitter.com/dog_rates/status/832998151...                13   \n",
       "982   https://twitter.com/dog_rates/status/749403093...                10   \n",
       "\n",
       "      rating_denominator     name dog_stage  \n",
       "2041                  10       JD   Unknown  \n",
       "2345                  10  Unknown   Unknown  \n",
       "1697                  10  Unknown    pupper  \n",
       "383                   10  Charlie   Unknown  \n",
       "1225                  10  Unknown   Unknown  \n",
       "300                   10    Meera     doggo  \n",
       "986                   10  Winston   Unknown  \n",
       "201                   10    Alice   Unknown  \n",
       "331                   10    Rhino     doggo  \n",
       "982                   10  Unknown   Unknown  "
      ]
     },
     "execution_count": 69,
     "metadata": {},
     "output_type": "execute_result"
    }
   ],
   "source": [
    "# dropping the doggo, floofer, pupper and puppo columns\n",
    "twitter_arch_data.sample(10)"
   ]
  },
  {
   "cell_type": "markdown",
   "id": "4f0f1a19",
   "metadata": {},
   "source": [
    "- The `rating_denominator` column in the `twitter_arch_data` dataset doesn't measure a variable, so I will drop it from the dataset and be aware about its value (the main denominator of `10`).\n",
    "\n",
    "**Code**"
   ]
  },
  {
   "cell_type": "code",
   "execution_count": 70,
   "id": "64782a84",
   "metadata": {},
   "outputs": [],
   "source": [
    "# dropping the rating denominator column\n",
    "twitter_arch_data = twitter_arch_data.drop(['rating_denominator'], axis=1)"
   ]
  },
  {
   "cell_type": "markdown",
   "id": "eef30ba2",
   "metadata": {},
   "source": [
    "**Test**"
   ]
  },
  {
   "cell_type": "code",
   "execution_count": 71,
   "id": "613c5049",
   "metadata": {},
   "outputs": [
    {
     "data": {
      "application/vnd.microsoft.datawrangler.viewer.v0+json": {
       "columns": [
        {
         "name": "index",
         "rawType": "int64",
         "type": "integer"
        },
        {
         "name": "tweet_id",
         "rawType": "object",
         "type": "string"
        },
        {
         "name": "in_reply_to_status_id",
         "rawType": "float64",
         "type": "float"
        },
        {
         "name": "in_reply_to_user_id",
         "rawType": "float64",
         "type": "float"
        },
        {
         "name": "timestamp",
         "rawType": "datetime64[ns, UTC]",
         "type": "unknown"
        },
        {
         "name": "source",
         "rawType": "object",
         "type": "string"
        },
        {
         "name": "text",
         "rawType": "object",
         "type": "string"
        },
        {
         "name": "retweeted_status_id",
         "rawType": "float64",
         "type": "float"
        },
        {
         "name": "retweeted_status_user_id",
         "rawType": "float64",
         "type": "float"
        },
        {
         "name": "retweeted_status_timestamp",
         "rawType": "object",
         "type": "unknown"
        },
        {
         "name": "expanded_urls",
         "rawType": "object",
         "type": "string"
        },
        {
         "name": "rating_numerator",
         "rawType": "int64",
         "type": "integer"
        },
        {
         "name": "name",
         "rawType": "object",
         "type": "string"
        },
        {
         "name": "dog_stage",
         "rawType": "object",
         "type": "string"
        }
       ],
       "conversionMethod": "pd.DataFrame",
       "ref": "7fa41ee2-3a2e-4b37-bb73-b3fa4f6f40fd",
       "rows": [
        [
         "1",
         "892177421306343426",
         null,
         null,
         "2017-08-01 00:17:27+00:00",
         "<a href=\"http://twitter.com/download/iphone\" rel=\"nofollow\">Twitter for iPhone</a>",
         "This is Tilly. She's just checking pup on you. Hopes you're doing ok. If not, she's available for pats, snugs, boops, the whole bit. 13/10 https://t.co/0Xxu71qeIV",
         null,
         null,
         null,
         "https://twitter.com/dog_rates/status/892177421306343426/photo/1",
         "13",
         "Tilly",
         "Unknown"
        ],
        [
         "2",
         "891815181378084864",
         null,
         null,
         "2017-07-31 00:18:03+00:00",
         "<a href=\"http://twitter.com/download/iphone\" rel=\"nofollow\">Twitter for iPhone</a>",
         "This is Archie. He is a rare Norwegian Pouncing Corgo. Lives in the tall grass. You never know when one may strike. 12/10 https://t.co/wUnZnhtVJB",
         null,
         null,
         null,
         "https://twitter.com/dog_rates/status/891815181378084864/photo/1",
         "12",
         "Archie",
         "Unknown"
        ],
        [
         "3",
         "891689557279858688",
         null,
         null,
         "2017-07-30 15:58:51+00:00",
         "<a href=\"http://twitter.com/download/iphone\" rel=\"nofollow\">Twitter for iPhone</a>",
         "This is Darla. She commenced a snooze mid meal. 13/10 happens to the best of us https://t.co/tD36da7qLQ",
         null,
         null,
         null,
         "https://twitter.com/dog_rates/status/891689557279858688/photo/1",
         "13",
         "Darla",
         "Unknown"
        ],
        [
         "4",
         "891327558926688256",
         null,
         null,
         "2017-07-29 16:00:24+00:00",
         "<a href=\"http://twitter.com/download/iphone\" rel=\"nofollow\">Twitter for iPhone</a>",
         "This is Franklin. He would like you to stop calling him \"cute.\" He is a very fierce shark and should be respected as such. 12/10 #BarkWeek https://t.co/AtUZn91f7f",
         null,
         null,
         null,
         "https://twitter.com/dog_rates/status/891327558926688256/photo/1,https://twitter.com/dog_rates/status/891327558926688256/photo/1",
         "12",
         "Franklin",
         "Unknown"
        ],
        [
         "5",
         "891087950875897856",
         null,
         null,
         "2017-07-29 00:08:17+00:00",
         "<a href=\"http://twitter.com/download/iphone\" rel=\"nofollow\">Twitter for iPhone</a>",
         "Here we have a majestic great white breaching off South Africa's coast. Absolutely h*ckin breathtaking. 13/10 (IG: tucker_marlo) #BarkWeek https://t.co/kQ04fDDRmh",
         null,
         null,
         null,
         "https://twitter.com/dog_rates/status/891087950875897856/photo/1",
         "13",
         "Unknown",
         "Unknown"
        ]
       ],
       "shape": {
        "columns": 13,
        "rows": 5
       }
      },
      "text/html": [
       "<div>\n",
       "<style scoped>\n",
       "    .dataframe tbody tr th:only-of-type {\n",
       "        vertical-align: middle;\n",
       "    }\n",
       "\n",
       "    .dataframe tbody tr th {\n",
       "        vertical-align: top;\n",
       "    }\n",
       "\n",
       "    .dataframe thead th {\n",
       "        text-align: right;\n",
       "    }\n",
       "</style>\n",
       "<table border=\"1\" class=\"dataframe\">\n",
       "  <thead>\n",
       "    <tr style=\"text-align: right;\">\n",
       "      <th></th>\n",
       "      <th>tweet_id</th>\n",
       "      <th>in_reply_to_status_id</th>\n",
       "      <th>in_reply_to_user_id</th>\n",
       "      <th>timestamp</th>\n",
       "      <th>source</th>\n",
       "      <th>text</th>\n",
       "      <th>retweeted_status_id</th>\n",
       "      <th>retweeted_status_user_id</th>\n",
       "      <th>retweeted_status_timestamp</th>\n",
       "      <th>expanded_urls</th>\n",
       "      <th>rating_numerator</th>\n",
       "      <th>name</th>\n",
       "      <th>dog_stage</th>\n",
       "    </tr>\n",
       "  </thead>\n",
       "  <tbody>\n",
       "    <tr>\n",
       "      <th>1</th>\n",
       "      <td>892177421306343426</td>\n",
       "      <td>NaN</td>\n",
       "      <td>NaN</td>\n",
       "      <td>2017-08-01 00:17:27+00:00</td>\n",
       "      <td>&lt;a href=\"http://twitter.com/download/iphone\" r...</td>\n",
       "      <td>This is Tilly. She's just checking pup on you....</td>\n",
       "      <td>NaN</td>\n",
       "      <td>NaN</td>\n",
       "      <td>NaN</td>\n",
       "      <td>https://twitter.com/dog_rates/status/892177421...</td>\n",
       "      <td>13</td>\n",
       "      <td>Tilly</td>\n",
       "      <td>Unknown</td>\n",
       "    </tr>\n",
       "    <tr>\n",
       "      <th>2</th>\n",
       "      <td>891815181378084864</td>\n",
       "      <td>NaN</td>\n",
       "      <td>NaN</td>\n",
       "      <td>2017-07-31 00:18:03+00:00</td>\n",
       "      <td>&lt;a href=\"http://twitter.com/download/iphone\" r...</td>\n",
       "      <td>This is Archie. He is a rare Norwegian Pouncin...</td>\n",
       "      <td>NaN</td>\n",
       "      <td>NaN</td>\n",
       "      <td>NaN</td>\n",
       "      <td>https://twitter.com/dog_rates/status/891815181...</td>\n",
       "      <td>12</td>\n",
       "      <td>Archie</td>\n",
       "      <td>Unknown</td>\n",
       "    </tr>\n",
       "    <tr>\n",
       "      <th>3</th>\n",
       "      <td>891689557279858688</td>\n",
       "      <td>NaN</td>\n",
       "      <td>NaN</td>\n",
       "      <td>2017-07-30 15:58:51+00:00</td>\n",
       "      <td>&lt;a href=\"http://twitter.com/download/iphone\" r...</td>\n",
       "      <td>This is Darla. She commenced a snooze mid meal...</td>\n",
       "      <td>NaN</td>\n",
       "      <td>NaN</td>\n",
       "      <td>NaN</td>\n",
       "      <td>https://twitter.com/dog_rates/status/891689557...</td>\n",
       "      <td>13</td>\n",
       "      <td>Darla</td>\n",
       "      <td>Unknown</td>\n",
       "    </tr>\n",
       "    <tr>\n",
       "      <th>4</th>\n",
       "      <td>891327558926688256</td>\n",
       "      <td>NaN</td>\n",
       "      <td>NaN</td>\n",
       "      <td>2017-07-29 16:00:24+00:00</td>\n",
       "      <td>&lt;a href=\"http://twitter.com/download/iphone\" r...</td>\n",
       "      <td>This is Franklin. He would like you to stop ca...</td>\n",
       "      <td>NaN</td>\n",
       "      <td>NaN</td>\n",
       "      <td>NaN</td>\n",
       "      <td>https://twitter.com/dog_rates/status/891327558...</td>\n",
       "      <td>12</td>\n",
       "      <td>Franklin</td>\n",
       "      <td>Unknown</td>\n",
       "    </tr>\n",
       "    <tr>\n",
       "      <th>5</th>\n",
       "      <td>891087950875897856</td>\n",
       "      <td>NaN</td>\n",
       "      <td>NaN</td>\n",
       "      <td>2017-07-29 00:08:17+00:00</td>\n",
       "      <td>&lt;a href=\"http://twitter.com/download/iphone\" r...</td>\n",
       "      <td>Here we have a majestic great white breaching ...</td>\n",
       "      <td>NaN</td>\n",
       "      <td>NaN</td>\n",
       "      <td>NaN</td>\n",
       "      <td>https://twitter.com/dog_rates/status/891087950...</td>\n",
       "      <td>13</td>\n",
       "      <td>Unknown</td>\n",
       "      <td>Unknown</td>\n",
       "    </tr>\n",
       "  </tbody>\n",
       "</table>\n",
       "</div>"
      ],
      "text/plain": [
       "             tweet_id  in_reply_to_status_id  in_reply_to_user_id  \\\n",
       "1  892177421306343426                    NaN                  NaN   \n",
       "2  891815181378084864                    NaN                  NaN   \n",
       "3  891689557279858688                    NaN                  NaN   \n",
       "4  891327558926688256                    NaN                  NaN   \n",
       "5  891087950875897856                    NaN                  NaN   \n",
       "\n",
       "                  timestamp  \\\n",
       "1 2017-08-01 00:17:27+00:00   \n",
       "2 2017-07-31 00:18:03+00:00   \n",
       "3 2017-07-30 15:58:51+00:00   \n",
       "4 2017-07-29 16:00:24+00:00   \n",
       "5 2017-07-29 00:08:17+00:00   \n",
       "\n",
       "                                              source  \\\n",
       "1  <a href=\"http://twitter.com/download/iphone\" r...   \n",
       "2  <a href=\"http://twitter.com/download/iphone\" r...   \n",
       "3  <a href=\"http://twitter.com/download/iphone\" r...   \n",
       "4  <a href=\"http://twitter.com/download/iphone\" r...   \n",
       "5  <a href=\"http://twitter.com/download/iphone\" r...   \n",
       "\n",
       "                                                text  retweeted_status_id  \\\n",
       "1  This is Tilly. She's just checking pup on you....                  NaN   \n",
       "2  This is Archie. He is a rare Norwegian Pouncin...                  NaN   \n",
       "3  This is Darla. She commenced a snooze mid meal...                  NaN   \n",
       "4  This is Franklin. He would like you to stop ca...                  NaN   \n",
       "5  Here we have a majestic great white breaching ...                  NaN   \n",
       "\n",
       "   retweeted_status_user_id retweeted_status_timestamp  \\\n",
       "1                       NaN                        NaN   \n",
       "2                       NaN                        NaN   \n",
       "3                       NaN                        NaN   \n",
       "4                       NaN                        NaN   \n",
       "5                       NaN                        NaN   \n",
       "\n",
       "                                       expanded_urls  rating_numerator  \\\n",
       "1  https://twitter.com/dog_rates/status/892177421...                13   \n",
       "2  https://twitter.com/dog_rates/status/891815181...                12   \n",
       "3  https://twitter.com/dog_rates/status/891689557...                13   \n",
       "4  https://twitter.com/dog_rates/status/891327558...                12   \n",
       "5  https://twitter.com/dog_rates/status/891087950...                13   \n",
       "\n",
       "       name dog_stage  \n",
       "1     Tilly   Unknown  \n",
       "2    Archie   Unknown  \n",
       "3     Darla   Unknown  \n",
       "4  Franklin   Unknown  \n",
       "5   Unknown   Unknown  "
      ]
     },
     "execution_count": 71,
     "metadata": {},
     "output_type": "execute_result"
    }
   ],
   "source": [
    "# checking the 'twitter_arch_data' dataframe after dropping the rating denominator column\n",
    "twitter_arch_data.head()"
   ]
  },
  {
   "cell_type": "markdown",
   "id": "a9c6c4ea",
   "metadata": {},
   "source": [
    "- Merging the three datasets into one dataset because they measure the same variable and to make it easier to analyze.\n",
    "\n",
    "**Code**"
   ]
  },
  {
   "cell_type": "code",
   "execution_count": 72,
   "id": "129cb206",
   "metadata": {},
   "outputs": [],
   "source": [
    "# renaming the id column in the tweets data to tweet_id to match the other dataframes\n",
    "tweets_data = tweets_data.rename(columns={'id': 'tweet_id'})\n",
    "\n",
    "# merging the three dataframes into one\n",
    "full_tweets = pd.merge(twitter_arch_data, img_data, on='tweet_id', how='inner')\n",
    "full_tweets = pd.merge(full_tweets, tweets_data, on='tweet_id', how='inner')"
   ]
  },
  {
   "cell_type": "markdown",
   "id": "9267016a",
   "metadata": {},
   "source": [
    "**Test**"
   ]
  },
  {
   "cell_type": "code",
   "execution_count": 73,
   "id": "26c5fa3d",
   "metadata": {},
   "outputs": [
    {
     "data": {
      "text/plain": [
       "(1651, 27)"
      ]
     },
     "execution_count": 73,
     "metadata": {},
     "output_type": "execute_result"
    }
   ],
   "source": [
    "# checking the shape of the merged dataframe\n",
    "full_tweets.shape"
   ]
  },
  {
   "cell_type": "code",
   "execution_count": 74,
   "id": "4d431564",
   "metadata": {},
   "outputs": [
    {
     "data": {
      "application/vnd.microsoft.datawrangler.viewer.v0+json": {
       "columns": [
        {
         "name": "index",
         "rawType": "int64",
         "type": "integer"
        },
        {
         "name": "tweet_id",
         "rawType": "object",
         "type": "string"
        },
        {
         "name": "in_reply_to_status_id",
         "rawType": "float64",
         "type": "float"
        },
        {
         "name": "in_reply_to_user_id",
         "rawType": "float64",
         "type": "float"
        },
        {
         "name": "timestamp",
         "rawType": "datetime64[ns, UTC]",
         "type": "unknown"
        },
        {
         "name": "source",
         "rawType": "object",
         "type": "string"
        },
        {
         "name": "text",
         "rawType": "object",
         "type": "string"
        },
        {
         "name": "retweeted_status_id",
         "rawType": "float64",
         "type": "float"
        },
        {
         "name": "retweeted_status_user_id",
         "rawType": "float64",
         "type": "float"
        },
        {
         "name": "retweeted_status_timestamp",
         "rawType": "object",
         "type": "unknown"
        },
        {
         "name": "expanded_urls",
         "rawType": "object",
         "type": "string"
        },
        {
         "name": "rating_numerator",
         "rawType": "int64",
         "type": "integer"
        },
        {
         "name": "name",
         "rawType": "object",
         "type": "string"
        },
        {
         "name": "dog_stage",
         "rawType": "object",
         "type": "string"
        },
        {
         "name": "jpg_url",
         "rawType": "object",
         "type": "string"
        },
        {
         "name": "img_num",
         "rawType": "int64",
         "type": "integer"
        },
        {
         "name": "p1",
         "rawType": "object",
         "type": "string"
        },
        {
         "name": "p1_conf",
         "rawType": "float64",
         "type": "float"
        },
        {
         "name": "p1_dog",
         "rawType": "bool",
         "type": "boolean"
        },
        {
         "name": "p2",
         "rawType": "object",
         "type": "string"
        },
        {
         "name": "p2_conf",
         "rawType": "float64",
         "type": "float"
        },
        {
         "name": "p2_dog",
         "rawType": "bool",
         "type": "boolean"
        },
        {
         "name": "p3",
         "rawType": "object",
         "type": "string"
        },
        {
         "name": "p3_conf",
         "rawType": "float64",
         "type": "float"
        },
        {
         "name": "p3_dog",
         "rawType": "bool",
         "type": "boolean"
        },
        {
         "name": "created_at",
         "rawType": "datetime64[ns, UTC]",
         "type": "unknown"
        },
        {
         "name": "retweet_count",
         "rawType": "int64",
         "type": "integer"
        },
        {
         "name": "favorite_count",
         "rawType": "int64",
         "type": "integer"
        }
       ],
       "conversionMethod": "pd.DataFrame",
       "ref": "619abda8-8031-46d7-a46d-67167598cc1d",
       "rows": [
        [
         "0",
         "892177421306343426",
         null,
         null,
         "2017-08-01 00:17:27+00:00",
         "<a href=\"http://twitter.com/download/iphone\" rel=\"nofollow\">Twitter for iPhone</a>",
         "This is Tilly. She's just checking pup on you. Hopes you're doing ok. If not, she's available for pats, snugs, boops, the whole bit. 13/10 https://t.co/0Xxu71qeIV",
         null,
         null,
         null,
         "https://twitter.com/dog_rates/status/892177421306343426/photo/1",
         "13",
         "Tilly",
         "Unknown",
         "https://pbs.twimg.com/media/DGGmoV4XsAAUL6n.jpg",
         "1",
         "Chihuahua",
         "0.323581",
         "True",
         "Pekinese",
         "0.0906465",
         "True",
         "papillon",
         "0.0689569",
         "True",
         "2017-08-01 00:17:27+00:00",
         "6514",
         "33819"
        ],
        [
         "1",
         "891815181378084864",
         null,
         null,
         "2017-07-31 00:18:03+00:00",
         "<a href=\"http://twitter.com/download/iphone\" rel=\"nofollow\">Twitter for iPhone</a>",
         "This is Archie. He is a rare Norwegian Pouncing Corgo. Lives in the tall grass. You never know when one may strike. 12/10 https://t.co/wUnZnhtVJB",
         null,
         null,
         null,
         "https://twitter.com/dog_rates/status/891815181378084864/photo/1",
         "12",
         "Archie",
         "Unknown",
         "https://pbs.twimg.com/media/DGBdLU1WsAANxJ9.jpg",
         "1",
         "Chihuahua",
         "0.716012",
         "True",
         "malamute",
         "0.078253",
         "True",
         "kelpie",
         "0.0313789",
         "True",
         "2017-07-31 00:18:03+00:00",
         "4328",
         "25461"
        ],
        [
         "2",
         "891689557279858688",
         null,
         null,
         "2017-07-30 15:58:51+00:00",
         "<a href=\"http://twitter.com/download/iphone\" rel=\"nofollow\">Twitter for iPhone</a>",
         "This is Darla. She commenced a snooze mid meal. 13/10 happens to the best of us https://t.co/tD36da7qLQ",
         null,
         null,
         null,
         "https://twitter.com/dog_rates/status/891689557279858688/photo/1",
         "13",
         "Darla",
         "Unknown",
         "https://pbs.twimg.com/media/DF_q7IAWsAEuuN8.jpg",
         "1",
         "paper_towel",
         "0.1702779999999999",
         "False",
         "Labrador_retriever",
         "0.1680859999999999",
         "True",
         "spatula",
         "0.0408359",
         "False",
         "2017-07-30 15:58:51+00:00",
         "8964",
         "42908"
        ],
        [
         "3",
         "891327558926688256",
         null,
         null,
         "2017-07-29 16:00:24+00:00",
         "<a href=\"http://twitter.com/download/iphone\" rel=\"nofollow\">Twitter for iPhone</a>",
         "This is Franklin. He would like you to stop calling him \"cute.\" He is a very fierce shark and should be respected as such. 12/10 #BarkWeek https://t.co/AtUZn91f7f",
         null,
         null,
         null,
         "https://twitter.com/dog_rates/status/891327558926688256/photo/1,https://twitter.com/dog_rates/status/891327558926688256/photo/1",
         "12",
         "Franklin",
         "Unknown",
         "https://pbs.twimg.com/media/DF6hr6BUMAAzZgT.jpg",
         "2",
         "basset",
         "0.555712",
         "True",
         "English_springer",
         "0.2257699999999999",
         "True",
         "German_short-haired_pointer",
         "0.175219",
         "True",
         "2017-07-29 16:00:24+00:00",
         "9774",
         "41048"
        ],
        [
         "4",
         "891087950875897856",
         null,
         null,
         "2017-07-29 00:08:17+00:00",
         "<a href=\"http://twitter.com/download/iphone\" rel=\"nofollow\">Twitter for iPhone</a>",
         "Here we have a majestic great white breaching off South Africa's coast. Absolutely h*ckin breathtaking. 13/10 (IG: tucker_marlo) #BarkWeek https://t.co/kQ04fDDRmh",
         null,
         null,
         null,
         "https://twitter.com/dog_rates/status/891087950875897856/photo/1",
         "13",
         "Unknown",
         "Unknown",
         "https://pbs.twimg.com/media/DF3HwyEWsAABqE6.jpg",
         "1",
         "Chesapeake_Bay_retriever",
         "0.425595",
         "True",
         "Irish_terrier",
         "0.116317",
         "True",
         "Indian_elephant",
         "0.0769021999999999",
         "False",
         "2017-07-29 00:08:17+00:00",
         "3261",
         "20562"
        ]
       ],
       "shape": {
        "columns": 27,
        "rows": 5
       }
      },
      "text/html": [
       "<div>\n",
       "<style scoped>\n",
       "    .dataframe tbody tr th:only-of-type {\n",
       "        vertical-align: middle;\n",
       "    }\n",
       "\n",
       "    .dataframe tbody tr th {\n",
       "        vertical-align: top;\n",
       "    }\n",
       "\n",
       "    .dataframe thead th {\n",
       "        text-align: right;\n",
       "    }\n",
       "</style>\n",
       "<table border=\"1\" class=\"dataframe\">\n",
       "  <thead>\n",
       "    <tr style=\"text-align: right;\">\n",
       "      <th></th>\n",
       "      <th>tweet_id</th>\n",
       "      <th>in_reply_to_status_id</th>\n",
       "      <th>in_reply_to_user_id</th>\n",
       "      <th>timestamp</th>\n",
       "      <th>source</th>\n",
       "      <th>text</th>\n",
       "      <th>retweeted_status_id</th>\n",
       "      <th>retweeted_status_user_id</th>\n",
       "      <th>retweeted_status_timestamp</th>\n",
       "      <th>expanded_urls</th>\n",
       "      <th>...</th>\n",
       "      <th>p1_dog</th>\n",
       "      <th>p2</th>\n",
       "      <th>p2_conf</th>\n",
       "      <th>p2_dog</th>\n",
       "      <th>p3</th>\n",
       "      <th>p3_conf</th>\n",
       "      <th>p3_dog</th>\n",
       "      <th>created_at</th>\n",
       "      <th>retweet_count</th>\n",
       "      <th>favorite_count</th>\n",
       "    </tr>\n",
       "  </thead>\n",
       "  <tbody>\n",
       "    <tr>\n",
       "      <th>0</th>\n",
       "      <td>892177421306343426</td>\n",
       "      <td>NaN</td>\n",
       "      <td>NaN</td>\n",
       "      <td>2017-08-01 00:17:27+00:00</td>\n",
       "      <td>&lt;a href=\"http://twitter.com/download/iphone\" r...</td>\n",
       "      <td>This is Tilly. She's just checking pup on you....</td>\n",
       "      <td>NaN</td>\n",
       "      <td>NaN</td>\n",
       "      <td>NaN</td>\n",
       "      <td>https://twitter.com/dog_rates/status/892177421...</td>\n",
       "      <td>...</td>\n",
       "      <td>True</td>\n",
       "      <td>Pekinese</td>\n",
       "      <td>0.090647</td>\n",
       "      <td>True</td>\n",
       "      <td>papillon</td>\n",
       "      <td>0.068957</td>\n",
       "      <td>True</td>\n",
       "      <td>2017-08-01 00:17:27+00:00</td>\n",
       "      <td>6514</td>\n",
       "      <td>33819</td>\n",
       "    </tr>\n",
       "    <tr>\n",
       "      <th>1</th>\n",
       "      <td>891815181378084864</td>\n",
       "      <td>NaN</td>\n",
       "      <td>NaN</td>\n",
       "      <td>2017-07-31 00:18:03+00:00</td>\n",
       "      <td>&lt;a href=\"http://twitter.com/download/iphone\" r...</td>\n",
       "      <td>This is Archie. He is a rare Norwegian Pouncin...</td>\n",
       "      <td>NaN</td>\n",
       "      <td>NaN</td>\n",
       "      <td>NaN</td>\n",
       "      <td>https://twitter.com/dog_rates/status/891815181...</td>\n",
       "      <td>...</td>\n",
       "      <td>True</td>\n",
       "      <td>malamute</td>\n",
       "      <td>0.078253</td>\n",
       "      <td>True</td>\n",
       "      <td>kelpie</td>\n",
       "      <td>0.031379</td>\n",
       "      <td>True</td>\n",
       "      <td>2017-07-31 00:18:03+00:00</td>\n",
       "      <td>4328</td>\n",
       "      <td>25461</td>\n",
       "    </tr>\n",
       "    <tr>\n",
       "      <th>2</th>\n",
       "      <td>891689557279858688</td>\n",
       "      <td>NaN</td>\n",
       "      <td>NaN</td>\n",
       "      <td>2017-07-30 15:58:51+00:00</td>\n",
       "      <td>&lt;a href=\"http://twitter.com/download/iphone\" r...</td>\n",
       "      <td>This is Darla. She commenced a snooze mid meal...</td>\n",
       "      <td>NaN</td>\n",
       "      <td>NaN</td>\n",
       "      <td>NaN</td>\n",
       "      <td>https://twitter.com/dog_rates/status/891689557...</td>\n",
       "      <td>...</td>\n",
       "      <td>False</td>\n",
       "      <td>Labrador_retriever</td>\n",
       "      <td>0.168086</td>\n",
       "      <td>True</td>\n",
       "      <td>spatula</td>\n",
       "      <td>0.040836</td>\n",
       "      <td>False</td>\n",
       "      <td>2017-07-30 15:58:51+00:00</td>\n",
       "      <td>8964</td>\n",
       "      <td>42908</td>\n",
       "    </tr>\n",
       "    <tr>\n",
       "      <th>3</th>\n",
       "      <td>891327558926688256</td>\n",
       "      <td>NaN</td>\n",
       "      <td>NaN</td>\n",
       "      <td>2017-07-29 16:00:24+00:00</td>\n",
       "      <td>&lt;a href=\"http://twitter.com/download/iphone\" r...</td>\n",
       "      <td>This is Franklin. He would like you to stop ca...</td>\n",
       "      <td>NaN</td>\n",
       "      <td>NaN</td>\n",
       "      <td>NaN</td>\n",
       "      <td>https://twitter.com/dog_rates/status/891327558...</td>\n",
       "      <td>...</td>\n",
       "      <td>True</td>\n",
       "      <td>English_springer</td>\n",
       "      <td>0.225770</td>\n",
       "      <td>True</td>\n",
       "      <td>German_short-haired_pointer</td>\n",
       "      <td>0.175219</td>\n",
       "      <td>True</td>\n",
       "      <td>2017-07-29 16:00:24+00:00</td>\n",
       "      <td>9774</td>\n",
       "      <td>41048</td>\n",
       "    </tr>\n",
       "    <tr>\n",
       "      <th>4</th>\n",
       "      <td>891087950875897856</td>\n",
       "      <td>NaN</td>\n",
       "      <td>NaN</td>\n",
       "      <td>2017-07-29 00:08:17+00:00</td>\n",
       "      <td>&lt;a href=\"http://twitter.com/download/iphone\" r...</td>\n",
       "      <td>Here we have a majestic great white breaching ...</td>\n",
       "      <td>NaN</td>\n",
       "      <td>NaN</td>\n",
       "      <td>NaN</td>\n",
       "      <td>https://twitter.com/dog_rates/status/891087950...</td>\n",
       "      <td>...</td>\n",
       "      <td>True</td>\n",
       "      <td>Irish_terrier</td>\n",
       "      <td>0.116317</td>\n",
       "      <td>True</td>\n",
       "      <td>Indian_elephant</td>\n",
       "      <td>0.076902</td>\n",
       "      <td>False</td>\n",
       "      <td>2017-07-29 00:08:17+00:00</td>\n",
       "      <td>3261</td>\n",
       "      <td>20562</td>\n",
       "    </tr>\n",
       "  </tbody>\n",
       "</table>\n",
       "<p>5 rows × 27 columns</p>\n",
       "</div>"
      ],
      "text/plain": [
       "             tweet_id  in_reply_to_status_id  in_reply_to_user_id  \\\n",
       "0  892177421306343426                    NaN                  NaN   \n",
       "1  891815181378084864                    NaN                  NaN   \n",
       "2  891689557279858688                    NaN                  NaN   \n",
       "3  891327558926688256                    NaN                  NaN   \n",
       "4  891087950875897856                    NaN                  NaN   \n",
       "\n",
       "                  timestamp  \\\n",
       "0 2017-08-01 00:17:27+00:00   \n",
       "1 2017-07-31 00:18:03+00:00   \n",
       "2 2017-07-30 15:58:51+00:00   \n",
       "3 2017-07-29 16:00:24+00:00   \n",
       "4 2017-07-29 00:08:17+00:00   \n",
       "\n",
       "                                              source  \\\n",
       "0  <a href=\"http://twitter.com/download/iphone\" r...   \n",
       "1  <a href=\"http://twitter.com/download/iphone\" r...   \n",
       "2  <a href=\"http://twitter.com/download/iphone\" r...   \n",
       "3  <a href=\"http://twitter.com/download/iphone\" r...   \n",
       "4  <a href=\"http://twitter.com/download/iphone\" r...   \n",
       "\n",
       "                                                text  retweeted_status_id  \\\n",
       "0  This is Tilly. She's just checking pup on you....                  NaN   \n",
       "1  This is Archie. He is a rare Norwegian Pouncin...                  NaN   \n",
       "2  This is Darla. She commenced a snooze mid meal...                  NaN   \n",
       "3  This is Franklin. He would like you to stop ca...                  NaN   \n",
       "4  Here we have a majestic great white breaching ...                  NaN   \n",
       "\n",
       "   retweeted_status_user_id retweeted_status_timestamp  \\\n",
       "0                       NaN                        NaN   \n",
       "1                       NaN                        NaN   \n",
       "2                       NaN                        NaN   \n",
       "3                       NaN                        NaN   \n",
       "4                       NaN                        NaN   \n",
       "\n",
       "                                       expanded_urls  ...  p1_dog  \\\n",
       "0  https://twitter.com/dog_rates/status/892177421...  ...    True   \n",
       "1  https://twitter.com/dog_rates/status/891815181...  ...    True   \n",
       "2  https://twitter.com/dog_rates/status/891689557...  ...   False   \n",
       "3  https://twitter.com/dog_rates/status/891327558...  ...    True   \n",
       "4  https://twitter.com/dog_rates/status/891087950...  ...    True   \n",
       "\n",
       "                   p2   p2_conf p2_dog                           p3   p3_conf  \\\n",
       "0            Pekinese  0.090647   True                     papillon  0.068957   \n",
       "1            malamute  0.078253   True                       kelpie  0.031379   \n",
       "2  Labrador_retriever  0.168086   True                      spatula  0.040836   \n",
       "3    English_springer  0.225770   True  German_short-haired_pointer  0.175219   \n",
       "4       Irish_terrier  0.116317   True              Indian_elephant  0.076902   \n",
       "\n",
       "   p3_dog                created_at retweet_count  favorite_count  \n",
       "0    True 2017-08-01 00:17:27+00:00          6514           33819  \n",
       "1    True 2017-07-31 00:18:03+00:00          4328           25461  \n",
       "2   False 2017-07-30 15:58:51+00:00          8964           42908  \n",
       "3    True 2017-07-29 16:00:24+00:00          9774           41048  \n",
       "4   False 2017-07-29 00:08:17+00:00          3261           20562  \n",
       "\n",
       "[5 rows x 27 columns]"
      ]
     },
     "execution_count": 74,
     "metadata": {},
     "output_type": "execute_result"
    }
   ],
   "source": [
    "# checking the head of the merged dataframe\n",
    "full_tweets.head()"
   ]
  },
  {
   "cell_type": "markdown",
   "id": "708a4035",
   "metadata": {},
   "source": [
    "### Dimensionality Reduction\n",
    "In this step, I will reduce the number of columns in the merged dataset to make it more manageable and easier to analyze. The columns I didn't remove them before in the [Quality Issues](#quality-issues) section will be removed here. The columns are:\n",
    "- `source`\n",
    "- `created_at` (because it's already the same as `timestamp`)\n",
    "- `in_reply_to_status_id` and the other one `in_reply_to_user_id`\n",
    "- `retweeted_status_id` and other retweet columns as they don't have any values in them after the cleaning process.\n",
    "- `expanded_urls`\n",
    "- `jpg_url`"
   ]
  },
  {
   "cell_type": "markdown",
   "id": "749a5072",
   "metadata": {},
   "source": [
    "**Code**"
   ]
  },
  {
   "cell_type": "code",
   "execution_count": 75,
   "id": "997cbe19",
   "metadata": {},
   "outputs": [],
   "source": [
    "# dropping the columns that are not needed in the merged dataframe\n",
    "full_tweets = full_tweets.drop(['source', 'created_at', 'in_reply_to_status_id', 'in_reply_to_user_id',\n",
    "                                 'retweeted_status_id', 'retweeted_status_user_id', 'retweeted_status_timestamp',\n",
    "                                   'expanded_urls', 'jpg_url'], axis=1)"
   ]
  },
  {
   "cell_type": "markdown",
   "id": "cb0954a9",
   "metadata": {},
   "source": [
    "**Test**"
   ]
  },
  {
   "cell_type": "code",
   "execution_count": 76,
   "id": "5704b03c",
   "metadata": {},
   "outputs": [
    {
     "data": {
      "application/vnd.microsoft.datawrangler.viewer.v0+json": {
       "columns": [
        {
         "name": "index",
         "rawType": "int64",
         "type": "integer"
        },
        {
         "name": "tweet_id",
         "rawType": "object",
         "type": "string"
        },
        {
         "name": "timestamp",
         "rawType": "datetime64[ns, UTC]",
         "type": "unknown"
        },
        {
         "name": "text",
         "rawType": "object",
         "type": "string"
        },
        {
         "name": "rating_numerator",
         "rawType": "int64",
         "type": "integer"
        },
        {
         "name": "name",
         "rawType": "object",
         "type": "string"
        },
        {
         "name": "dog_stage",
         "rawType": "object",
         "type": "string"
        },
        {
         "name": "img_num",
         "rawType": "int64",
         "type": "integer"
        },
        {
         "name": "p1",
         "rawType": "object",
         "type": "string"
        },
        {
         "name": "p1_conf",
         "rawType": "float64",
         "type": "float"
        },
        {
         "name": "p1_dog",
         "rawType": "bool",
         "type": "boolean"
        },
        {
         "name": "p2",
         "rawType": "object",
         "type": "string"
        },
        {
         "name": "p2_conf",
         "rawType": "float64",
         "type": "float"
        },
        {
         "name": "p2_dog",
         "rawType": "bool",
         "type": "boolean"
        },
        {
         "name": "p3",
         "rawType": "object",
         "type": "string"
        },
        {
         "name": "p3_conf",
         "rawType": "float64",
         "type": "float"
        },
        {
         "name": "p3_dog",
         "rawType": "bool",
         "type": "boolean"
        },
        {
         "name": "retweet_count",
         "rawType": "int64",
         "type": "integer"
        },
        {
         "name": "favorite_count",
         "rawType": "int64",
         "type": "integer"
        }
       ],
       "conversionMethod": "pd.DataFrame",
       "ref": "c8c9e549-afd2-42df-86da-bc555d9965c6",
       "rows": [
        [
         "0",
         "892177421306343426",
         "2017-08-01 00:17:27+00:00",
         "This is Tilly. She's just checking pup on you. Hopes you're doing ok. If not, she's available for pats, snugs, boops, the whole bit. 13/10 https://t.co/0Xxu71qeIV",
         "13",
         "Tilly",
         "Unknown",
         "1",
         "Chihuahua",
         "0.323581",
         "True",
         "Pekinese",
         "0.0906465",
         "True",
         "papillon",
         "0.0689569",
         "True",
         "6514",
         "33819"
        ],
        [
         "1",
         "891815181378084864",
         "2017-07-31 00:18:03+00:00",
         "This is Archie. He is a rare Norwegian Pouncing Corgo. Lives in the tall grass. You never know when one may strike. 12/10 https://t.co/wUnZnhtVJB",
         "12",
         "Archie",
         "Unknown",
         "1",
         "Chihuahua",
         "0.716012",
         "True",
         "malamute",
         "0.078253",
         "True",
         "kelpie",
         "0.0313789",
         "True",
         "4328",
         "25461"
        ],
        [
         "2",
         "891689557279858688",
         "2017-07-30 15:58:51+00:00",
         "This is Darla. She commenced a snooze mid meal. 13/10 happens to the best of us https://t.co/tD36da7qLQ",
         "13",
         "Darla",
         "Unknown",
         "1",
         "paper_towel",
         "0.1702779999999999",
         "False",
         "Labrador_retriever",
         "0.1680859999999999",
         "True",
         "spatula",
         "0.0408359",
         "False",
         "8964",
         "42908"
        ],
        [
         "3",
         "891327558926688256",
         "2017-07-29 16:00:24+00:00",
         "This is Franklin. He would like you to stop calling him \"cute.\" He is a very fierce shark and should be respected as such. 12/10 #BarkWeek https://t.co/AtUZn91f7f",
         "12",
         "Franklin",
         "Unknown",
         "2",
         "basset",
         "0.555712",
         "True",
         "English_springer",
         "0.2257699999999999",
         "True",
         "German_short-haired_pointer",
         "0.175219",
         "True",
         "9774",
         "41048"
        ],
        [
         "4",
         "891087950875897856",
         "2017-07-29 00:08:17+00:00",
         "Here we have a majestic great white breaching off South Africa's coast. Absolutely h*ckin breathtaking. 13/10 (IG: tucker_marlo) #BarkWeek https://t.co/kQ04fDDRmh",
         "13",
         "Unknown",
         "Unknown",
         "1",
         "Chesapeake_Bay_retriever",
         "0.425595",
         "True",
         "Irish_terrier",
         "0.116317",
         "True",
         "Indian_elephant",
         "0.0769021999999999",
         "False",
         "3261",
         "20562"
        ]
       ],
       "shape": {
        "columns": 18,
        "rows": 5
       }
      },
      "text/html": [
       "<div>\n",
       "<style scoped>\n",
       "    .dataframe tbody tr th:only-of-type {\n",
       "        vertical-align: middle;\n",
       "    }\n",
       "\n",
       "    .dataframe tbody tr th {\n",
       "        vertical-align: top;\n",
       "    }\n",
       "\n",
       "    .dataframe thead th {\n",
       "        text-align: right;\n",
       "    }\n",
       "</style>\n",
       "<table border=\"1\" class=\"dataframe\">\n",
       "  <thead>\n",
       "    <tr style=\"text-align: right;\">\n",
       "      <th></th>\n",
       "      <th>tweet_id</th>\n",
       "      <th>timestamp</th>\n",
       "      <th>text</th>\n",
       "      <th>rating_numerator</th>\n",
       "      <th>name</th>\n",
       "      <th>dog_stage</th>\n",
       "      <th>img_num</th>\n",
       "      <th>p1</th>\n",
       "      <th>p1_conf</th>\n",
       "      <th>p1_dog</th>\n",
       "      <th>p2</th>\n",
       "      <th>p2_conf</th>\n",
       "      <th>p2_dog</th>\n",
       "      <th>p3</th>\n",
       "      <th>p3_conf</th>\n",
       "      <th>p3_dog</th>\n",
       "      <th>retweet_count</th>\n",
       "      <th>favorite_count</th>\n",
       "    </tr>\n",
       "  </thead>\n",
       "  <tbody>\n",
       "    <tr>\n",
       "      <th>0</th>\n",
       "      <td>892177421306343426</td>\n",
       "      <td>2017-08-01 00:17:27+00:00</td>\n",
       "      <td>This is Tilly. She's just checking pup on you....</td>\n",
       "      <td>13</td>\n",
       "      <td>Tilly</td>\n",
       "      <td>Unknown</td>\n",
       "      <td>1</td>\n",
       "      <td>Chihuahua</td>\n",
       "      <td>0.323581</td>\n",
       "      <td>True</td>\n",
       "      <td>Pekinese</td>\n",
       "      <td>0.090647</td>\n",
       "      <td>True</td>\n",
       "      <td>papillon</td>\n",
       "      <td>0.068957</td>\n",
       "      <td>True</td>\n",
       "      <td>6514</td>\n",
       "      <td>33819</td>\n",
       "    </tr>\n",
       "    <tr>\n",
       "      <th>1</th>\n",
       "      <td>891815181378084864</td>\n",
       "      <td>2017-07-31 00:18:03+00:00</td>\n",
       "      <td>This is Archie. He is a rare Norwegian Pouncin...</td>\n",
       "      <td>12</td>\n",
       "      <td>Archie</td>\n",
       "      <td>Unknown</td>\n",
       "      <td>1</td>\n",
       "      <td>Chihuahua</td>\n",
       "      <td>0.716012</td>\n",
       "      <td>True</td>\n",
       "      <td>malamute</td>\n",
       "      <td>0.078253</td>\n",
       "      <td>True</td>\n",
       "      <td>kelpie</td>\n",
       "      <td>0.031379</td>\n",
       "      <td>True</td>\n",
       "      <td>4328</td>\n",
       "      <td>25461</td>\n",
       "    </tr>\n",
       "    <tr>\n",
       "      <th>2</th>\n",
       "      <td>891689557279858688</td>\n",
       "      <td>2017-07-30 15:58:51+00:00</td>\n",
       "      <td>This is Darla. She commenced a snooze mid meal...</td>\n",
       "      <td>13</td>\n",
       "      <td>Darla</td>\n",
       "      <td>Unknown</td>\n",
       "      <td>1</td>\n",
       "      <td>paper_towel</td>\n",
       "      <td>0.170278</td>\n",
       "      <td>False</td>\n",
       "      <td>Labrador_retriever</td>\n",
       "      <td>0.168086</td>\n",
       "      <td>True</td>\n",
       "      <td>spatula</td>\n",
       "      <td>0.040836</td>\n",
       "      <td>False</td>\n",
       "      <td>8964</td>\n",
       "      <td>42908</td>\n",
       "    </tr>\n",
       "    <tr>\n",
       "      <th>3</th>\n",
       "      <td>891327558926688256</td>\n",
       "      <td>2017-07-29 16:00:24+00:00</td>\n",
       "      <td>This is Franklin. He would like you to stop ca...</td>\n",
       "      <td>12</td>\n",
       "      <td>Franklin</td>\n",
       "      <td>Unknown</td>\n",
       "      <td>2</td>\n",
       "      <td>basset</td>\n",
       "      <td>0.555712</td>\n",
       "      <td>True</td>\n",
       "      <td>English_springer</td>\n",
       "      <td>0.225770</td>\n",
       "      <td>True</td>\n",
       "      <td>German_short-haired_pointer</td>\n",
       "      <td>0.175219</td>\n",
       "      <td>True</td>\n",
       "      <td>9774</td>\n",
       "      <td>41048</td>\n",
       "    </tr>\n",
       "    <tr>\n",
       "      <th>4</th>\n",
       "      <td>891087950875897856</td>\n",
       "      <td>2017-07-29 00:08:17+00:00</td>\n",
       "      <td>Here we have a majestic great white breaching ...</td>\n",
       "      <td>13</td>\n",
       "      <td>Unknown</td>\n",
       "      <td>Unknown</td>\n",
       "      <td>1</td>\n",
       "      <td>Chesapeake_Bay_retriever</td>\n",
       "      <td>0.425595</td>\n",
       "      <td>True</td>\n",
       "      <td>Irish_terrier</td>\n",
       "      <td>0.116317</td>\n",
       "      <td>True</td>\n",
       "      <td>Indian_elephant</td>\n",
       "      <td>0.076902</td>\n",
       "      <td>False</td>\n",
       "      <td>3261</td>\n",
       "      <td>20562</td>\n",
       "    </tr>\n",
       "  </tbody>\n",
       "</table>\n",
       "</div>"
      ],
      "text/plain": [
       "             tweet_id                 timestamp  \\\n",
       "0  892177421306343426 2017-08-01 00:17:27+00:00   \n",
       "1  891815181378084864 2017-07-31 00:18:03+00:00   \n",
       "2  891689557279858688 2017-07-30 15:58:51+00:00   \n",
       "3  891327558926688256 2017-07-29 16:00:24+00:00   \n",
       "4  891087950875897856 2017-07-29 00:08:17+00:00   \n",
       "\n",
       "                                                text  rating_numerator  \\\n",
       "0  This is Tilly. She's just checking pup on you....                13   \n",
       "1  This is Archie. He is a rare Norwegian Pouncin...                12   \n",
       "2  This is Darla. She commenced a snooze mid meal...                13   \n",
       "3  This is Franklin. He would like you to stop ca...                12   \n",
       "4  Here we have a majestic great white breaching ...                13   \n",
       "\n",
       "       name dog_stage  img_num                        p1   p1_conf  p1_dog  \\\n",
       "0     Tilly   Unknown        1                 Chihuahua  0.323581    True   \n",
       "1    Archie   Unknown        1                 Chihuahua  0.716012    True   \n",
       "2     Darla   Unknown        1               paper_towel  0.170278   False   \n",
       "3  Franklin   Unknown        2                    basset  0.555712    True   \n",
       "4   Unknown   Unknown        1  Chesapeake_Bay_retriever  0.425595    True   \n",
       "\n",
       "                   p2   p2_conf  p2_dog                           p3  \\\n",
       "0            Pekinese  0.090647    True                     papillon   \n",
       "1            malamute  0.078253    True                       kelpie   \n",
       "2  Labrador_retriever  0.168086    True                      spatula   \n",
       "3    English_springer  0.225770    True  German_short-haired_pointer   \n",
       "4       Irish_terrier  0.116317    True              Indian_elephant   \n",
       "\n",
       "    p3_conf  p3_dog  retweet_count  favorite_count  \n",
       "0  0.068957    True           6514           33819  \n",
       "1  0.031379    True           4328           25461  \n",
       "2  0.040836   False           8964           42908  \n",
       "3  0.175219    True           9774           41048  \n",
       "4  0.076902   False           3261           20562  "
      ]
     },
     "execution_count": 76,
     "metadata": {},
     "output_type": "execute_result"
    }
   ],
   "source": [
    "# checking the head of the merged dataframe after dropping the columns\n",
    "full_tweets.head()"
   ]
  },
  {
   "cell_type": "markdown",
   "id": "2ca1db3f",
   "metadata": {},
   "source": [
    "### Storing the Cleaned Data\n",
    "Finally, I will save the cleaned dataset to a CSV file for future use."
   ]
  },
  {
   "cell_type": "code",
   "execution_count": 77,
   "id": "4d1525db",
   "metadata": {},
   "outputs": [],
   "source": [
    "# storing the merged dataframe to a csv file\n",
    "pd.DataFrame.to_csv(full_tweets, 'twitter_archive_master.csv', index=False)"
   ]
  },
  {
   "cell_type": "markdown",
   "id": "84b2584f",
   "metadata": {},
   "source": [
    "### Cleaning Report\n",
    "I have cleaned the datasets and removed the issues I found in the assessment process after dividing them into quality and tidiness issues.<br>\n",
    "The **quality issues** cleaning process included:\n",
    "- Changing the data types of the `tweet_id`, `id`, `timestamp` and `created_at` columns to the appropriate types. That makes it easier to work with the data and perform analysis.\n",
    "- Removing retweets and in-reply-to tweets from the `twitter_arch_data` dataset because they don't belong to the author or they are not original tweets.\n",
    "- Filling the `NaN` values in the `name` column with `Unknown` as a holder value instead of dropping them.\n",
    "- Replacing unreal dog names with `Unknown` alike the previous point.\n",
    "- Removing out-of-range values in the `rating_numerator` column by setting a maximum value of `17` for them. I chose this value because it is the highest rating given under `20` because basically the ratings should be under the denominator of `10`.\n",
    "- Removing the row with invalid prediction confidence ratio from the `img_data` dataset. Because it doesn't make sense to have a prediction confidence of `1` for a dog that is not classified as a dog by the three prediction models.\n",
    "\n",
    "The **tidiness issues** cleaning process included:\n",
    "- Merging the dog stages into one column instead of having them in separate columns. This is because it's breaking the tidy data principle of having one variable per column.\n",
    "- Dropping the `rating_denominator` column from the `twitter_arch_data` dataset because it doesn't measure a variable. The denominator must be `10` for all ratings, so it doesn't provide any additional information *(even if it has many values which aren't equal to `10`)*.\n",
    "- Merging the three datasets into one dataset to make it easier to analyze as they measure the same variable which is \"the dog ratings in the tweets\".\n",
    "\n",
    "The **dimensionality reduction** process included:\n",
    "- Dropping the columns that are not required anymore after merging the three datasets into one dataset. The columns actually explained before in the dimensionality reduction section but there are some columns will be dropped in the EDA section too like `p1`, `p2`, `p3` and their confidence columns because of the **conditions** will be applied on them to get dogs only.\n",
    "\n",
    "The **storing** process is done by saving the cleaned dataset to a CSV file for future use. The cleaned dataset is saved as `twitter_archive_master.csv` in the current working directory."
   ]
  },
  {
   "cell_type": "markdown",
   "id": "4f50d037",
   "metadata": {},
   "source": [
    "## EDA (Exploratory Data Analysis): Getting Some Insights!\n",
    "After wrangling the data, getting trustworthy insights will be appropriate and right enough. Getting insights by asking questions about the data available is a very suitable way. So, I've chosen some questions to get answered here which are:\n",
    "- Which dog has the most number of fans?\n",
    "- What is the rank of dog stages by most ratings?\n",
    "- Is there a correlation between some dog breeds and people interaction on Twitter?"
   ]
  },
  {
   "cell_type": "markdown",
   "id": "100a8846",
   "metadata": {},
   "source": [
    "### Which Dog Has The Most Number of Fans?\n",
    "This question will be answered guided by numbers of retweets and likes *(or favorites)* for each dog. I'll do this programmatically by getting the retweets and favorites from each related column then visualize top 20 dogs."
   ]
  },
  {
   "cell_type": "code",
   "execution_count": 78,
   "id": "50122740",
   "metadata": {},
   "outputs": [
    {
     "data": {
      "application/vnd.microsoft.datawrangler.viewer.v0+json": {
       "columns": [
        {
         "name": "index",
         "rawType": "int64",
         "type": "integer"
        },
        {
         "name": "retweet_count",
         "rawType": "int64",
         "type": "integer"
        },
        {
         "name": "favorite_count",
         "rawType": "int64",
         "type": "integer"
        }
       ],
       "conversionMethod": "pd.DataFrame",
       "ref": "473fb91a-0c5d-45ec-be9a-d54d7a81b2ee",
       "rows": [
        [
         "0",
         "79515",
         "131075"
        ],
        [
         "1",
         "56625",
         "107015"
        ],
        [
         "2",
         "52360",
         "75163"
        ],
        [
         "3",
         "48265",
         "132810"
        ],
        [
         "4",
         "45849",
         "107956"
        ],
        [
         "5",
         "42228",
         "95450"
        ],
        [
         "6",
         "37911",
         "75639"
        ],
        [
         "7",
         "32883",
         "106827"
        ],
        [
         "8",
         "31989",
         "67100"
        ],
        [
         "9",
         "31314",
         "57622"
        ]
       ],
       "shape": {
        "columns": 2,
        "rows": 10
       }
      },
      "text/html": [
       "<div>\n",
       "<style scoped>\n",
       "    .dataframe tbody tr th:only-of-type {\n",
       "        vertical-align: middle;\n",
       "    }\n",
       "\n",
       "    .dataframe tbody tr th {\n",
       "        vertical-align: top;\n",
       "    }\n",
       "\n",
       "    .dataframe thead th {\n",
       "        text-align: right;\n",
       "    }\n",
       "</style>\n",
       "<table border=\"1\" class=\"dataframe\">\n",
       "  <thead>\n",
       "    <tr style=\"text-align: right;\">\n",
       "      <th></th>\n",
       "      <th>retweet_count</th>\n",
       "      <th>favorite_count</th>\n",
       "    </tr>\n",
       "  </thead>\n",
       "  <tbody>\n",
       "    <tr>\n",
       "      <th>0</th>\n",
       "      <td>79515</td>\n",
       "      <td>131075</td>\n",
       "    </tr>\n",
       "    <tr>\n",
       "      <th>1</th>\n",
       "      <td>56625</td>\n",
       "      <td>107015</td>\n",
       "    </tr>\n",
       "    <tr>\n",
       "      <th>2</th>\n",
       "      <td>52360</td>\n",
       "      <td>75163</td>\n",
       "    </tr>\n",
       "    <tr>\n",
       "      <th>3</th>\n",
       "      <td>48265</td>\n",
       "      <td>132810</td>\n",
       "    </tr>\n",
       "    <tr>\n",
       "      <th>4</th>\n",
       "      <td>45849</td>\n",
       "      <td>107956</td>\n",
       "    </tr>\n",
       "    <tr>\n",
       "      <th>5</th>\n",
       "      <td>42228</td>\n",
       "      <td>95450</td>\n",
       "    </tr>\n",
       "    <tr>\n",
       "      <th>6</th>\n",
       "      <td>37911</td>\n",
       "      <td>75639</td>\n",
       "    </tr>\n",
       "    <tr>\n",
       "      <th>7</th>\n",
       "      <td>32883</td>\n",
       "      <td>106827</td>\n",
       "    </tr>\n",
       "    <tr>\n",
       "      <th>8</th>\n",
       "      <td>31989</td>\n",
       "      <td>67100</td>\n",
       "    </tr>\n",
       "    <tr>\n",
       "      <th>9</th>\n",
       "      <td>31314</td>\n",
       "      <td>57622</td>\n",
       "    </tr>\n",
       "  </tbody>\n",
       "</table>\n",
       "</div>"
      ],
      "text/plain": [
       "   retweet_count  favorite_count\n",
       "0          79515          131075\n",
       "1          56625          107015\n",
       "2          52360           75163\n",
       "3          48265          132810\n",
       "4          45849          107956\n",
       "5          42228           95450\n",
       "6          37911           75639\n",
       "7          32883          106827\n",
       "8          31989           67100\n",
       "9          31314           57622"
      ]
     },
     "execution_count": 78,
     "metadata": {},
     "output_type": "execute_result"
    }
   ],
   "source": [
    "# getting the most retweet and favorite counts by sorting the dataframe\n",
    "ranked_df = full_tweets.sort_values(by=['retweet_count', 'favorite_count'], ascending=False).reset_index(drop=True).copy()\n",
    "\n",
    "# displaying the top 10 most retweeted and favorite tweets\n",
    "ranked_df[['retweet_count', 'favorite_count']].head(10)"
   ]
  },
  {
   "cell_type": "code",
   "execution_count": 79,
   "id": "e1ebfa02",
   "metadata": {},
   "outputs": [
    {
     "name": "stdout",
     "output_type": "stream",
     "text": [
      "The most three dogs have fans are..\n",
      "Unknown with retweet count of 79515 and favorite count of 131075\n",
      "Stephan with retweet count of 56625 and favorite count of 107015\n",
      "Unknown with retweet count of 52360 and favorite count of 75163\n"
     ]
    }
   ],
   "source": [
    "# printing an initial sentence\n",
    "print('The most three dogs have fans are..')\n",
    "\n",
    "# getting a subset of the ranked dataframe\n",
    "minimized_df = ranked_df[['name', 'retweet_count', 'favorite_count']][:3].copy()\n",
    "\n",
    "# creating a loop to get each piece of info of each row and print them\n",
    "for index,row in minimized_df.iterrows():\n",
    "    print(f'{ranked_df['name'][index]} with retweet count of {ranked_df['retweet_count'][index]} and favorite count of {ranked_df['favorite_count'][index]}')"
   ]
  },
  {
   "cell_type": "markdown",
   "id": "950841db",
   "metadata": {},
   "source": [
    "I have sorted the dogs by the **number of retweets and favorites** in descending order to get the most popular dogs.<br>\n",
    "The top 20 **known** dogs are displayed in the bar chart below."
   ]
  },
  {
   "cell_type": "code",
   "execution_count": 80,
   "id": "ade7321d",
   "metadata": {},
   "outputs": [
    {
     "name": "stdout",
     "output_type": "stream",
     "text": [
      "[81820, 76902, 68839, 69855, 49544, 44468, 56345, 50427, 28090, 46347, 44326, 38464, 34002, 27882, 44222, 24504, 26402, 42295, 28334, 35133]\n"
     ]
    }
   ],
   "source": [
    "# excluding the unknown name from the ranked dataframe\n",
    "minimized_vis_df = ranked_df[ranked_df['name'] != 'Unknown'].copy()\n",
    "\n",
    "# creating a subset of the ranked dataframe for visualization of the top 20 most retweeted and favorite tweets\n",
    "minimized_vis_df = minimized_vis_df[['name', 'retweet_count', 'favorite_count']][:20]\n",
    "\n",
    "# creating an empty list to store the means of retweet and favorite counts\n",
    "means_list = []\n",
    "\n",
    "# creating a loop to get the means of retweet and favorite counts for each row and append them to the list\n",
    "for index,row in minimized_vis_df.iterrows():\n",
    "    retweet_iter = minimized_vis_df['retweet_count'][index]\n",
    "    fav_iter = minimized_vis_df['favorite_count'][index]\n",
    "    means_list.append(int((retweet_iter+fav_iter)/2))\n",
    "\n",
    "# printing the means list\n",
    "print(means_list)"
   ]
  },
  {
   "cell_type": "code",
   "execution_count": 81,
   "id": "a6934dbc",
   "metadata": {},
   "outputs": [
    {
     "data": {
      "image/png": "[encoded data removed]",
      "text/plain": [
       "<Figure size 1500x800 with 1 Axes>"
      ]
     },
     "metadata": {},
     "output_type": "display_data"
    }
   ],
   "source": [
    "# setting a size for the plot\n",
    "plt.figure(figsize=(15, 8))\n",
    "\n",
    "# creating a bar plot to visualize the means of retweet and favorite counts for the top 20 most retweeted and favorite tweets\n",
    "sns.barplot(x=range(len(means_list)), y=means_list, color='#c19a6b')\n",
    "\n",
    "# adding a title and labels to the plot\n",
    "plt.xticks(ticks=range(len(means_list)),labels=minimized_vis_df['name'], rotation=45)\n",
    "plt.title('Top 20 Most Popular Dogs')\n",
    "plt.xlabel('Dog Names')\n",
    "plt.ylabel('Mean Popularity')\n",
    "# showing the plot\n",
    "plt.show()"
   ]
  },
  {
   "cell_type": "markdown",
   "id": "2d466894",
   "metadata": {},
   "source": [
    "As shown above, the most popular dog is `Stephan` with `56625` retweets and `107015` favorites with a mean popularity above `80000`.<br>\n",
    "The top 20 dogs displayed have a mean popularity above `25000` and it may vary with the real data which contains many dogs with unknown names.<br>\n",
    "The method I used to get the most popular dogs is by getting the mean of the retweets and favorites for each dog after sorting them in descending order by the retweets and favorites columns. Calculating mean is a suitable method here to get the popularity ratio for each dog."
   ]
  },
  {
   "cell_type": "markdown",
   "id": "7a26fc88",
   "metadata": {},
   "source": [
    "### What Is The Rank of Dog Stages By Most Ratings?\n",
    "This question will be answered by getting the average rating for each dog stage and comparing between them to know which dog stages people like more. I'll do this programmatically by using the data in the `dog_stage` column and the `rating_numerator` column to get the average rating for each dog stage then visualize them to show the results appropriately."
   ]
  },
  {
   "cell_type": "code",
   "execution_count": 82,
   "id": "93f535b5",
   "metadata": {},
   "outputs": [
    {
     "name": "stdout",
     "output_type": "stream",
     "text": [
      "['doggo', 'puppo', 'pupper', 'floofer']\n"
     ]
    }
   ],
   "source": [
    "# creating a list of dog stages\n",
    "dog_stages = list(full_tweets['dog_stage'].unique())\n",
    "# removing the first element of the list which is 'Unknown'\n",
    "dog_stages = dog_stages[1:]\n",
    "# printing the dog stages list to check that 'Unknown' is removed\n",
    "print(dog_stages)\n",
    "\n",
    "# creating an empty dictionary to store the average of the rating numerator for each dog stage\n",
    "avg_ratings = {}\n",
    "# creating a loop to get the average of the rating numerator for each dog stage and store it in the dictionary\n",
    "for stage in dog_stages:\n",
    "    avg = full_tweets[full_tweets['dog_stage'] == stage]['rating_numerator'].mean()\n",
    "    avg_ratings[stage] = avg\n"
   ]
  },
  {
   "cell_type": "markdown",
   "id": "653741c1",
   "metadata": {},
   "source": [
    "In the code above I calculated the average rating for each dog stage and and stored them in a dictionary to easily visualize them in a bar chart."
   ]
  },
  {
   "cell_type": "code",
   "execution_count": 83,
   "id": "4e0c2e9b",
   "metadata": {},
   "outputs": [
    {
     "data": {
      "image/png": "[encoded data removed]",
      "text/plain": [
       "<Figure size 700x400 with 1 Axes>"
      ]
     },
     "metadata": {},
     "output_type": "display_data"
    }
   ],
   "source": [
    "# setting a size for the plot\n",
    "plt.figure(figsize=(7, 4))\n",
    "# creating a list of colors for the bar plot\n",
    "colors = ['#c19a6b', '#f0e68c', '#CE3E3B', '#ff7f50']\n",
    "# creating a bar plot to visualize the average of ratings for each dog stage\n",
    "sns.barplot(y=list(avg_ratings.keys()), x=list(avg_ratings.values()), palette=colors, hue=list(avg_ratings.keys()), legend=False)\n",
    "# adding a title and labels to the plot\n",
    "plt.title('Average of Ratings for Each Dog Stage')\n",
    "plt.ylabel('Dog Stages')\n",
    "plt.xlabel('Average Ratings')\n",
    "# showing the plot\n",
    "plt.show()"
   ]
  },
  {
   "cell_type": "markdown",
   "id": "6e0d8ee4",
   "metadata": {},
   "source": [
    "This visualization shows that the highest average rating is for `puppo` and `floofer` with an average rating of about `12` and the lowest average rating is for `pupper` with an average rating of about `11`.<br>\n",
    "All dog stages have nearly the same average rating with a small difference between them.<br>\n",
    "I got the average for each dog stage ratings as an indicator of the popularity of each dog stage."
   ]
  },
  {
   "cell_type": "markdown",
   "id": "89dd61ed",
   "metadata": {},
   "source": [
    "### Is there a correlation between some dog breeds and people interaction on Twitter?\n",
    "This question will be answered by getting the average **retweets and favorites** for each **dog breed** and comparing between them to know which dog breeds people like more. Then, I will use an appropriate visualization to show the results clearly."
   ]
  },
  {
   "cell_type": "code",
   "execution_count": 84,
   "id": "ac6f49de",
   "metadata": {},
   "outputs": [
    {
     "data": {
      "application/vnd.microsoft.datawrangler.viewer.v0+json": {
       "columns": [
        {
         "name": "index",
         "rawType": "int64",
         "type": "integer"
        },
        {
         "name": "retweet_count",
         "rawType": "int64",
         "type": "integer"
        },
        {
         "name": "favorite_count",
         "rawType": "int64",
         "type": "integer"
        },
        {
         "name": "dog_breed",
         "rawType": "object",
         "type": "string"
        }
       ],
       "conversionMethod": "pd.DataFrame",
       "ref": "2627708a-1349-41f0-9b3e-447bf8ce6981",
       "rows": [
        [
         "0",
         "6514",
         "33819",
         "Chihuahua"
        ],
        [
         "1",
         "4328",
         "25461",
         "Chihuahua"
        ],
        [
         "2",
         "8964",
         "42908",
         "Labrador_retriever"
        ],
        [
         "3",
         "9774",
         "41048",
         "basset"
        ],
        [
         "4",
         "3261",
         "20562",
         "Chesapeake_Bay_retriever"
        ],
        [
         "5",
         "2158",
         "12041",
         "Appenzeller"
        ],
        [
         "6",
         "16716",
         "56848",
         "Pomeranian"
        ],
        [
         "7",
         "4429",
         "28226",
         "Irish_terrier"
        ],
        [
         "8",
         "7711",
         "32467",
         "Pembroke"
        ],
        [
         "9",
         "7624",
         "31166",
         "Samoyed"
        ]
       ],
       "shape": {
        "columns": 3,
        "rows": 10
       }
      },
      "text/html": [
       "<div>\n",
       "<style scoped>\n",
       "    .dataframe tbody tr th:only-of-type {\n",
       "        vertical-align: middle;\n",
       "    }\n",
       "\n",
       "    .dataframe tbody tr th {\n",
       "        vertical-align: top;\n",
       "    }\n",
       "\n",
       "    .dataframe thead th {\n",
       "        text-align: right;\n",
       "    }\n",
       "</style>\n",
       "<table border=\"1\" class=\"dataframe\">\n",
       "  <thead>\n",
       "    <tr style=\"text-align: right;\">\n",
       "      <th></th>\n",
       "      <th>retweet_count</th>\n",
       "      <th>favorite_count</th>\n",
       "      <th>dog_breed</th>\n",
       "    </tr>\n",
       "  </thead>\n",
       "  <tbody>\n",
       "    <tr>\n",
       "      <th>0</th>\n",
       "      <td>6514</td>\n",
       "      <td>33819</td>\n",
       "      <td>Chihuahua</td>\n",
       "    </tr>\n",
       "    <tr>\n",
       "      <th>1</th>\n",
       "      <td>4328</td>\n",
       "      <td>25461</td>\n",
       "      <td>Chihuahua</td>\n",
       "    </tr>\n",
       "    <tr>\n",
       "      <th>2</th>\n",
       "      <td>8964</td>\n",
       "      <td>42908</td>\n",
       "      <td>Labrador_retriever</td>\n",
       "    </tr>\n",
       "    <tr>\n",
       "      <th>3</th>\n",
       "      <td>9774</td>\n",
       "      <td>41048</td>\n",
       "      <td>basset</td>\n",
       "    </tr>\n",
       "    <tr>\n",
       "      <th>4</th>\n",
       "      <td>3261</td>\n",
       "      <td>20562</td>\n",
       "      <td>Chesapeake_Bay_retriever</td>\n",
       "    </tr>\n",
       "    <tr>\n",
       "      <th>5</th>\n",
       "      <td>2158</td>\n",
       "      <td>12041</td>\n",
       "      <td>Appenzeller</td>\n",
       "    </tr>\n",
       "    <tr>\n",
       "      <th>6</th>\n",
       "      <td>16716</td>\n",
       "      <td>56848</td>\n",
       "      <td>Pomeranian</td>\n",
       "    </tr>\n",
       "    <tr>\n",
       "      <th>7</th>\n",
       "      <td>4429</td>\n",
       "      <td>28226</td>\n",
       "      <td>Irish_terrier</td>\n",
       "    </tr>\n",
       "    <tr>\n",
       "      <th>8</th>\n",
       "      <td>7711</td>\n",
       "      <td>32467</td>\n",
       "      <td>Pembroke</td>\n",
       "    </tr>\n",
       "    <tr>\n",
       "      <th>9</th>\n",
       "      <td>7624</td>\n",
       "      <td>31166</td>\n",
       "      <td>Samoyed</td>\n",
       "    </tr>\n",
       "  </tbody>\n",
       "</table>\n",
       "</div>"
      ],
      "text/plain": [
       "   retweet_count  favorite_count                 dog_breed\n",
       "0           6514           33819                 Chihuahua\n",
       "1           4328           25461                 Chihuahua\n",
       "2           8964           42908        Labrador_retriever\n",
       "3           9774           41048                    basset\n",
       "4           3261           20562  Chesapeake_Bay_retriever\n",
       "5           2158           12041               Appenzeller\n",
       "6          16716           56848                Pomeranian\n",
       "7           4429           28226             Irish_terrier\n",
       "8           7711           32467                  Pembroke\n",
       "9           7624           31166                   Samoyed"
      ]
     },
     "execution_count": 84,
     "metadata": {},
     "output_type": "execute_result"
    }
   ],
   "source": [
    "# creating a subset of the full_tweets dataframe to get the dog breed\n",
    "breeds_data = full_tweets[['p1', 'p1_conf', 'p1_dog', \n",
    "                           'p2', 'p2_conf', 'p2_dog', \n",
    "                           'p3', 'p3_conf', 'p3_dog',\n",
    "                            'retweet_count', 'favorite_count']].copy()\n",
    "# a for loop to get the dog breed with the highest confidence score and store it in a new column\n",
    "for index, row in breeds_data.iterrows():\n",
    "    options = [\n",
    "        (row['p1_conf'], row['p1_dog'], row['p1']),\n",
    "        (row['p2_conf'], row['p2_dog'], row['p2']),\n",
    "        (row['p3_conf'], row['p3_dog'], row['p3'])\n",
    "    ]\n",
    "    \n",
    "    sorted_options = sorted(options, key=lambda x: x[0], reverse=True)\n",
    "    \n",
    "    for conf, is_dog, breed in sorted_options:\n",
    "        if is_dog:\n",
    "            breeds_data.at[index, 'dog_breed'] = breed\n",
    "            break\n",
    "# dropping the column used to get the dog breed\n",
    "breeds_data = breeds_data.drop(['p1', 'p1_conf', 'p1_dog', \n",
    "                                  'p2', 'p2_conf', 'p2_dog', \n",
    "                                  'p3', 'p3_conf', 'p3_dog'], axis=1)\n",
    "\n",
    "# checking the first 10 rows of the breeds data\n",
    "breeds_data.head(10)"
   ]
  },
  {
   "cell_type": "code",
   "execution_count": 85,
   "id": "fc73405e",
   "metadata": {},
   "outputs": [
    {
     "data": {
      "image/png": "[encoded data removed]",
      "text/plain": [
       "<Figure size 1000x600 with 2 Axes>"
      ]
     },
     "metadata": {},
     "output_type": "display_data"
    }
   ],
   "source": [
    "# assigning the dog breed to a new variable\n",
    "breed_counts = breeds_data['dog_breed'].value_counts()\n",
    "# getting the index of the breeds that have at least 5 tweets\n",
    "valid_breeds = breed_counts[breed_counts >= 5].index\n",
    "# filtering the breeds data to include only the valid breeds\n",
    "filtered_breeds = breeds_data[breeds_data['dog_breed'].isin(valid_breeds)]\n",
    "\n",
    "# grouping the filtered breeds data by dog breed and getting the mean of retweet and favorite counts\n",
    "breeds_grouped = filtered_breeds.groupby('dog_breed')[['retweet_count', 'favorite_count']].mean()\n",
    "# sort the grouped data by retweet and favorite counts\n",
    "top_breeds = breeds_grouped.sort_values(['retweet_count', 'favorite_count'], ascending=False).head(15)\n",
    "# renaming the columns for better readability\n",
    "top_breeds = top_breeds.rename(columns={\n",
    "    'retweet_count': 'Average Retweets',\n",
    "    'favorite_count': 'Average Favorites'})\n",
    "\n",
    "# setting a size for the plot\n",
    "plt.figure(figsize=(10, 6))\n",
    "# creating a heatmap to visualize the correlation between dog breed and retweet and favorite counts\n",
    "sns.heatmap(top_breeds, annot=True, fmt='.0f', cmap='coolwarm', center=0)\n",
    "# adding a title and labels to the plot\n",
    "plt.title('Average Retweet and Favorite Counts for Top 15 Dog Breeds')\n",
    "plt.xlabel('Retweet and Favorite Counts')\n",
    "plt.ylabel('Top 15 Dog Breeds')\n",
    "# showing the plot\n",
    "plt.show()"
   ]
  },
  {
   "cell_type": "markdown",
   "id": "26ca1e86",
   "metadata": {},
   "source": [
    "The visualization above shows that the highest average retweets and favorites are for **Bedlington terrier** with an average of about `7510` retweets and `21153` favorites.<br>\n",
    "The lowest average retweets and favorites in the top 15 dog breeds by engagement are for **Golden retriever** with an average of about `3793` retweets and `12564` favorites.<br> \n",
    "The colors in the visualization indicate that the average favorites are always higher than the average retweets for each dog breed. This is a common trend in social media engagement, where users tend to like posts more than they retweet them."
   ]
  },
  {
   "cell_type": "markdown",
   "id": "f723f271",
   "metadata": {},
   "source": [
    "## Conclusion\n",
    "In this project, I have successfully wrangled the WeRateDogs dataset by gathering, assessing, and cleaning the data. I have also performed exploratory data analysis to gain insights into the data. The main findings from the analysis include:\n",
    "- The most popular dog is **Stephan** with `56625` retweets and `107015` favorites.\n",
    "- The highest average rating is for **puppo** and **floofer** with an average rating of about `12` and the lowest average rating is for **pupper** with an average rating of about `11`.\n",
    "- The highest average retweets and favorites are for **Bedlington terrier** with an average of about `7510` retweets and `21153` favorites.\n",
    "- The lowest average retweets and favorites in the top 15 dog breeds by engagement are for **Golden retriever** with an average of about `3793` retweets and `12564` favorites.\n",
    "- The average favorites are always higher than the average retweets for each dog breed.\n",
    "\n",
    "The project has provided valuable insights into the WeRateDogs dataset and demonstrated the importance of data wrangling in the data analysis process. The cleaned dataset is now ready for further analysis and exploration."
   ]
  }
 ],
 "metadata": {
  "kernelspec": {
   "display_name": "Python 3",
   "language": "python",
   "name": "python3"
  },
  "language_info": {
   "codemirror_mode": {
    "name": "ipython",
    "version": 3
   },
   "file_extension": ".py",
   "mimetype": "text/x-python",
   "name": "python",
   "nbconvert_exporter": "python",
   "pygments_lexer": "ipython3",
   "version": "3.12.6"
  }
 },
 "nbformat": 4,
 "nbformat_minor": 5
}
